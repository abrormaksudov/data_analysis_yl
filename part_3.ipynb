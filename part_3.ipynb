{
 "cells": [
  {
   "cell_type": "code",
   "execution_count": 1,
   "id": "92f4eb74-b18a-4b15-8f15-31050c6d96f7",
   "metadata": {},
   "outputs": [
    {
     "name": "stdout",
     "output_type": "stream",
     "text": [
      "(1009, 18)\n"
     ]
    },
    {
     "data": {
      "text/html": [
       "<div>\n",
       "<style scoped>\n",
       "    .dataframe tbody tr th:only-of-type {\n",
       "        vertical-align: middle;\n",
       "    }\n",
       "\n",
       "    .dataframe tbody tr th {\n",
       "        vertical-align: top;\n",
       "    }\n",
       "\n",
       "    .dataframe thead th {\n",
       "        text-align: right;\n",
       "    }\n",
       "</style>\n",
       "<table border=\"1\" class=\"dataframe\">\n",
       "  <thead>\n",
       "    <tr style=\"text-align: right;\">\n",
       "      <th></th>\n",
       "      <th>user_id</th>\n",
       "      <th>region</th>\n",
       "      <th>device</th>\n",
       "      <th>channel</th>\n",
       "      <th>session_start</th>\n",
       "      <th>session_end</th>\n",
       "      <th>sessiondurationsec</th>\n",
       "      <th>session_date</th>\n",
       "      <th>month</th>\n",
       "      <th>day</th>\n",
       "      <th>hour_of_day</th>\n",
       "      <th>order_dt</th>\n",
       "      <th>revenue</th>\n",
       "      <th>payment_type</th>\n",
       "      <th>promo_code</th>\n",
       "      <th>final_price</th>\n",
       "      <th>time_of_day</th>\n",
       "      <th>sold</th>\n",
       "    </tr>\n",
       "  </thead>\n",
       "  <tbody>\n",
       "    <tr>\n",
       "      <th>0</th>\n",
       "      <td>529697267522</td>\n",
       "      <td>United States</td>\n",
       "      <td>iPhone</td>\n",
       "      <td>социальные сети</td>\n",
       "      <td>2019-05-01 00:06:40</td>\n",
       "      <td>2019-05-01 00:07:06</td>\n",
       "      <td>26.0</td>\n",
       "      <td>2019-05-01</td>\n",
       "      <td>5</td>\n",
       "      <td>3</td>\n",
       "      <td>0</td>\n",
       "      <td>2019-05-01 00:06:40</td>\n",
       "      <td>9999.0</td>\n",
       "      <td>Mobile payments</td>\n",
       "      <td>0.0</td>\n",
       "      <td>9999.0</td>\n",
       "      <td>night</td>\n",
       "      <td>1</td>\n",
       "    </tr>\n",
       "    <tr>\n",
       "      <th>1</th>\n",
       "      <td>601292388085</td>\n",
       "      <td>United States</td>\n",
       "      <td>PC</td>\n",
       "      <td>organic</td>\n",
       "      <td>2019-05-01 06:56:16</td>\n",
       "      <td>2019-05-01 07:09:18</td>\n",
       "      <td>782.0</td>\n",
       "      <td>2019-05-01</td>\n",
       "      <td>5</td>\n",
       "      <td>3</td>\n",
       "      <td>7</td>\n",
       "      <td>NaN</td>\n",
       "      <td>NaN</td>\n",
       "      <td>NaN</td>\n",
       "      <td>NaN</td>\n",
       "      <td>NaN</td>\n",
       "      <td>morning</td>\n",
       "      <td>0</td>\n",
       "    </tr>\n",
       "    <tr>\n",
       "      <th>2</th>\n",
       "      <td>852898876338</td>\n",
       "      <td>United States</td>\n",
       "      <td>Mac</td>\n",
       "      <td>социальные сети</td>\n",
       "      <td>2019-05-01 04:30:45</td>\n",
       "      <td>2019-05-01 04:34:56</td>\n",
       "      <td>251.0</td>\n",
       "      <td>2019-05-01</td>\n",
       "      <td>5</td>\n",
       "      <td>3</td>\n",
       "      <td>4</td>\n",
       "      <td>NaN</td>\n",
       "      <td>NaN</td>\n",
       "      <td>NaN</td>\n",
       "      <td>NaN</td>\n",
       "      <td>NaN</td>\n",
       "      <td>night</td>\n",
       "      <td>0</td>\n",
       "    </tr>\n",
       "    <tr>\n",
       "      <th>3</th>\n",
       "      <td>998513020664</td>\n",
       "      <td>United States</td>\n",
       "      <td>iPhone</td>\n",
       "      <td>социальные сети</td>\n",
       "      <td>2019-05-01 18:53:42</td>\n",
       "      <td>2019-05-01 18:57:35</td>\n",
       "      <td>233.0</td>\n",
       "      <td>2019-05-01</td>\n",
       "      <td>5</td>\n",
       "      <td>3</td>\n",
       "      <td>18</td>\n",
       "      <td>NaN</td>\n",
       "      <td>NaN</td>\n",
       "      <td>NaN</td>\n",
       "      <td>NaN</td>\n",
       "      <td>NaN</td>\n",
       "      <td>evening</td>\n",
       "      <td>0</td>\n",
       "    </tr>\n",
       "    <tr>\n",
       "      <th>4</th>\n",
       "      <td>240702200943</td>\n",
       "      <td>United States</td>\n",
       "      <td>Mac</td>\n",
       "      <td>социальные сети</td>\n",
       "      <td>2019-05-02 14:04:32</td>\n",
       "      <td>2019-05-02 14:09:51</td>\n",
       "      <td>319.0</td>\n",
       "      <td>2019-05-02</td>\n",
       "      <td>5</td>\n",
       "      <td>4</td>\n",
       "      <td>14</td>\n",
       "      <td>NaN</td>\n",
       "      <td>NaN</td>\n",
       "      <td>NaN</td>\n",
       "      <td>NaN</td>\n",
       "      <td>NaN</td>\n",
       "      <td>day</td>\n",
       "      <td>0</td>\n",
       "    </tr>\n",
       "  </tbody>\n",
       "</table>\n",
       "</div>"
      ],
      "text/plain": [
       "        user_id         region  device          channel        session_start          session_end  sessiondurationsec session_date  month  day  \\\n",
       "0  529697267522  United States  iPhone  социальные сети  2019-05-01 00:06:40  2019-05-01 00:07:06                26.0   2019-05-01      5    3   \n",
       "1  601292388085  United States      PC          organic  2019-05-01 06:56:16  2019-05-01 07:09:18               782.0   2019-05-01      5    3   \n",
       "2  852898876338  United States     Mac  социальные сети  2019-05-01 04:30:45  2019-05-01 04:34:56               251.0   2019-05-01      5    3   \n",
       "3  998513020664  United States  iPhone  социальные сети  2019-05-01 18:53:42  2019-05-01 18:57:35               233.0   2019-05-01      5    3   \n",
       "4  240702200943  United States     Mac  социальные сети  2019-05-02 14:04:32  2019-05-02 14:09:51               319.0   2019-05-02      5    4   \n",
       "\n",
       "   hour_of_day             order_dt  revenue     payment_type  promo_code  final_price time_of_day  sold  \n",
       "0            0  2019-05-01 00:06:40   9999.0  Mobile payments         0.0       9999.0       night     1  \n",
       "1            7                  NaN      NaN              NaN         NaN          NaN     morning     0  \n",
       "2            4                  NaN      NaN              NaN         NaN          NaN       night     0  \n",
       "3           18                  NaN      NaN              NaN         NaN          NaN     evening     0  \n",
       "4           14                  NaN      NaN              NaN         NaN          NaN         day     0  "
      ]
     },
     "execution_count": 1,
     "metadata": {},
     "output_type": "execute_result"
    }
   ],
   "source": [
    "import pandas as pd\n",
    "import numpy as np\n",
    "from scipy import stats\n",
    "import matplotlib.pyplot as plt\n",
    "import seaborn as sns\n",
    "\n",
    "pd.set_option('display.max_columns', 100)\n",
    "pd.set_option('display.max_rows', 100)\n",
    "pd.set_option('display.width', 150)\n",
    "pd.set_option('display.max_colwidth', None)\n",
    "pd.set_option('future.no_silent_downcasting', True)\n",
    "sns.set()\n",
    "\n",
    "df = pd.read_csv('data_part_2.csv')\n",
    "\n",
    "print(df.shape)\n",
    "df.head()"
   ]
  },
  {
   "cell_type": "markdown",
   "id": "08807018-65b8-49cc-b14b-f29c3f9fc35b",
   "metadata": {},
   "source": [
    "# Set Proper Data Types"
   ]
  },
  {
   "cell_type": "code",
   "execution_count": 2,
   "id": "58d6b41d-e0e7-4dfd-9efa-9cd3044cfc89",
   "metadata": {},
   "outputs": [],
   "source": [
    "dtype_mapping = {\n",
    "    'user_id': 'int64', \n",
    "    'region': 'object', \n",
    "    'device': 'object', \n",
    "    'channel': 'object', \n",
    "    'session_start': 'datetime64[ns]', \n",
    "    'session_end': 'datetime64[ns]', \n",
    "    'sessiondurationsec': 'float64', \n",
    "    'session_date': 'datetime64[ns]', \n",
    "    'month': 'int64', \n",
    "    'day': 'int64', \n",
    "    'hour_of_day': 'int64', \n",
    "    'order_dt': 'datetime64[ns]', \n",
    "    'revenue': 'float64', \n",
    "    'payment_type': 'object', \n",
    "    'promo_code': 'float64'\n",
    "}\n",
    "\n",
    "df = df.astype(dtype_mapping)"
   ]
  },
  {
   "cell_type": "markdown",
   "id": "4e1247f5-0383-40cb-aa5b-194778e99a2b",
   "metadata": {},
   "source": [
    "# Custom Functions"
   ]
  },
  {
   "cell_type": "code",
   "execution_count": 5,
   "id": "c1eda174-a2b6-4295-a532-0b7ae6f08877",
   "metadata": {},
   "outputs": [],
   "source": [
    "import os\n",
    "\n",
    "MONTH_NAMES = {\n",
    "    5: 'Май', 6: 'Июнь', 7: 'Июль',\n",
    "    8: 'Август', 9: 'Сентябрь', 10: 'Октябрь'\n",
    "}\n",
    "\n",
    "def calculate_average_metric(df, metric_col, groupby_cols=None, top_n=None, ascending=False, visualize=False, \n",
    "                             title=None, fig_size=(10, 6), rotation=0, category_order=None, save=False,\n",
    "                             metric_type='aov', chronological=False):\n",
    "    if groupby_cols is None:\n",
    "        return df[metric_col].mean()\n",
    "\n",
    "    if metric_col == 'revenue':\n",
    "        if metric_type not in ['aov', 'arpu']:\n",
    "            raise ValueError(\"metric_type must be either 'aov' or 'arpu'\")\n",
    "        if metric_type == 'arpu':\n",
    "            df = df.copy()\n",
    "            df['revenue'] = df['revenue'].fillna(0)\n",
    "\n",
    "    if isinstance(groupby_cols, list) and 'month' in groupby_cols:\n",
    "        df = df.copy()\n",
    "        df['month'] = df['month'].map(MONTH_NAMES)\n",
    "        if chronological:\n",
    "            category_order = list(MONTH_NAMES.values())\n",
    "    \n",
    "    result = df.groupby(groupby_cols)[metric_col].mean().round(2)\n",
    "    \n",
    "    if isinstance(groupby_cols, list) and len(groupby_cols) > 1:\n",
    "        if chronological and 'month' in groupby_cols:\n",
    "            result = result.reindex(category_order, level=groupby_cols.index('month'))\n",
    "        elif category_order is not None:\n",
    "            result = result.reindex(category_order, level=0)\n",
    "        else:\n",
    "            single_group_means = df.groupby(groupby_cols[0])[metric_col].mean()\n",
    "            sorted_order = single_group_means.sort_values(ascending=ascending).index\n",
    "            if top_n:\n",
    "                sorted_order = sorted_order[:top_n]\n",
    "            result = result.reindex(sorted_order, level=0)\n",
    "    else:\n",
    "        if chronological and 'month' in groupby_cols:\n",
    "            result = result.reindex(category_order, level=groupby_cols.index('month'))\n",
    "        elif category_order is not None:\n",
    "            result = result.reindex(category_order)\n",
    "        else:\n",
    "            result = result.sort_values(ascending=ascending)\n",
    "            if top_n:\n",
    "                result = result.head(top_n)\n",
    "    \n",
    "    if visualize:\n",
    "        fig, ax = plt.subplots(figsize=fig_size)\n",
    "        \n",
    "        if isinstance(groupby_cols, list) and len(groupby_cols) > 1:\n",
    "            pivot_data = result.unstack()\n",
    "            pivot_data.plot(kind='bar', ax=ax)\n",
    "            for container in ax.containers:\n",
    "                labels = [f'{v:.2f}' if v > 0 else '' for v in container.datavalues]\n",
    "                ax.bar_label(container, labels=labels, padding=3)\n",
    "            plt.legend(title=groupby_cols[1], bbox_to_anchor=(1, 1), loc='upper left')\n",
    "            ymax = pivot_data.max().max()\n",
    "        else:\n",
    "            result.plot(kind='bar', ax=ax)\n",
    "            for i, v in enumerate(result):\n",
    "                ax.text(i, v, f'{v:.2f}', ha='center', va='bottom')\n",
    "            ymax = result.max()\n",
    "            \n",
    "        ax.set_ylim(0, ymax * 1.1)\n",
    "        metric_label = metric_type.upper() if metric_col == 'revenue' else metric_col\n",
    "        plt.title(title or f'Average {metric_label} by {groupby_cols}')\n",
    "        plt.xlabel(groupby_cols if isinstance(groupby_cols, str) else groupby_cols[0])\n",
    "        plt.ylabel(f'Average {metric_col}')\n",
    "        plt.xticks(rotation=rotation)\n",
    "        plt.tight_layout()\n",
    "        \n",
    "        if save:\n",
    "            folder_path = './Graphs 3'\n",
    "            os.makedirs(folder_path, exist_ok=True)\n",
    "\n",
    "            metric_name = f\"{metric_type.upper()}_{metric_col}\" if metric_col == 'revenue' else metric_col\n",
    "    \n",
    "            if isinstance(groupby_cols, list):\n",
    "                filename = f\"{metric_name}_by_{'_'.join(groupby_cols)}.png\"\n",
    "            else:\n",
    "                filename = f\"{metric_name}_by_{groupby_cols}.png\"\n",
    "\n",
    "            plt.savefig(\n",
    "                fname=os.path.join(folder_path, filename),\n",
    "                format='png',\n",
    "                bbox_inches='tight',\n",
    "                dpi=300\n",
    "            )\n",
    "            \n",
    "        plt.show()\n",
    "        \n",
    "    return result\n",
    "\n",
    "def calculate_user_activity(df, group_cols):\n",
    "    return df.groupby(group_cols)['user_id'].nunique()\n",
    "\n",
    "def calculate_mau(df, group_cols=['month', 'channel'], visualize=False, fig_size=(15, 7), \n",
    "                 title=None, rotation=0, save=False):\n",
    "    if 'month' not in group_cols:\n",
    "        raise ValueError(\"'month' must be in group_cols\")\n",
    "        \n",
    "    df_calc = df.copy()\n",
    "    \n",
    "    df_calc['month'] = df_calc['month'].map(MONTH_NAMES)\n",
    "    \n",
    "    result = df_calc.groupby(group_cols)['user_id'].nunique()\n",
    "    result = result.unstack().reindex(index=list(MONTH_NAMES.values()))\n",
    "    \n",
    "    if visualize:\n",
    "        fig, ax = plt.subplots(figsize=fig_size)\n",
    "        result.plot(kind='bar', ax=ax)\n",
    "        \n",
    "        for container in ax.containers:\n",
    "            labels = [f'{int(v)}' if pd.notna(v) and v > 0 else '' for v in container.datavalues]\n",
    "            ax.bar_label(container, labels=labels, padding=3)\n",
    "            \n",
    "        plt.legend(title=group_cols[1], bbox_to_anchor=(1, 1), loc='upper left')\n",
    "        plt.title(title or f'Monthly Active Users by {group_cols[1]}', fontsize=16)\n",
    "        plt.xlabel('Month', fontsize=16)\n",
    "        plt.ylabel('Number of Unique Users', fontsize=16)\n",
    "        plt.xticks(rotation=rotation)\n",
    "        plt.tight_layout()\n",
    "        \n",
    "        if save:\n",
    "            folder_path = './Graphs 3'\n",
    "            os.makedirs(folder_path, exist_ok=True)\n",
    "            filename = f\"MAU_by_{group_cols[1]}.png\"\n",
    "            plt.savefig(\n",
    "                fname=os.path.join(folder_path, filename),\n",
    "                format='png',\n",
    "                bbox_inches='tight',\n",
    "                dpi=300\n",
    "            )\n",
    "            \n",
    "        plt.show()\n",
    "    \n",
    "    return result\n",
    "\n",
    "def get_top_by_mau(df, group_col='channel', n=3, visualize=False, title=None, rotation=0,\n",
    "                   fig_size=(10, 6), save=False, category_order=None):\n",
    "    mau_by_month = calculate_mau(df, group_cols=['month', group_col])\n",
    "    \n",
    "    avg_mau = mau_by_month.mean()\n",
    "    \n",
    "    if category_order:\n",
    "        top_n = avg_mau[category_order]\n",
    "        if n:\n",
    "            top_n = top_n.head(n)\n",
    "    else:\n",
    "        top_n = avg_mau.sort_values(ascending=False).head(n)\n",
    "    \n",
    "    if visualize:\n",
    "        plt.figure(figsize=fig_size)\n",
    "        top_n.plot(kind='bar')\n",
    "        plt.title(title or f'Top {n if n else 'All'} {group_col.title()} by Average MAU')\n",
    "        plt.xlabel(group_col.title())\n",
    "        plt.ylabel('Average Monthly Active Users')\n",
    "        plt.xticks(rotation=rotation)\n",
    "        \n",
    "        for i, v in enumerate(top_n):\n",
    "            plt.text(i, v, f'{int(v)}', ha='center', va='bottom')\n",
    "            \n",
    "        plt.tight_layout()\n",
    "        \n",
    "        if save:\n",
    "            folder_path = './Graphs 3'\n",
    "            os.makedirs(folder_path, exist_ok=True)\n",
    "            filename = f\"top_{n if n else 'All'}_{group_col}_by_MAU.png\"\n",
    "            plt.savefig(\n",
    "                fname=os.path.join(folder_path, filename),\n",
    "                format='png',\n",
    "                bbox_inches='tight',\n",
    "                dpi=300\n",
    "            )\n",
    "            \n",
    "        plt.show()\n",
    "    \n",
    "    return top_n\n",
    "\n",
    "def calculate_purchases_per_user(df):\n",
    "    total_purchases = df['sold'].sum()\n",
    "    unique_users = df['user_id'].nunique()\n",
    "    return total_purchases / unique_users\n",
    "\n",
    "def calculate_average_revenue(df, groupby_cols=None, metric_type='aov', top_n=None):\n",
    "    total_revenue = df['revenue'].sum()\n",
    "\n",
    "    total_users = df['user_id'].unique().size\n",
    "    total_paid_users = df[df['revenue'] > 0]['user_id'].unique().size\n",
    "    print(total_revenue, total_users, total_paid_users)\n",
    "    if metric_type not in ['aov', 'arpu']:\n",
    "        raise ValueError(\"metric_type must be either 'aov' or 'arpu'\")\n",
    "    \n",
    "    # Create filtered dataframe for AOV\n",
    "    if metric_type == 'aov':\n",
    "        df_calc = df[df['revenue'].notna()]\n",
    "    else:  # ARPU\n",
    "        df_calc = df.copy()\n",
    "        df_calc['revenue'] = df_calc['revenue'].fillna(0)\n",
    "    \n",
    "    if groupby_cols is None:\n",
    "        return df_calc['revenue'].mean()\n",
    "    \n",
    "    result = df_calc.groupby(groupby_cols)['revenue'].mean().round(2)\n",
    "    \n",
    "    if top_n:\n",
    "        result = result.sort_values(ascending=False).head(top_n)\n",
    "        \n",
    "    return result"
   ]
  },
  {
   "cell_type": "markdown",
   "id": "601be723-d6b6-41f8-bdac-9bafa7b62108",
   "metadata": {},
   "source": [
    "# Рассчитать средний чек"
   ]
  },
  {
   "cell_type": "code",
   "execution_count": 6,
   "id": "49d7ef16-502c-4715-a981-7f0f5c82c8a5",
   "metadata": {},
   "outputs": [
    {
     "name": "stdout",
     "output_type": "stream",
     "text": [
      "1585718.0 998 277\n",
      "Average Order Value: $5,623.11\n",
      "1585718.0 998 277\n",
      "Average Revenue Per User: $1,571.57\n"
     ]
    }
   ],
   "source": [
    "print(f\"Average Order Value: ${calculate_average_revenue(df, metric_type='aov'):,.2f}\")\n",
    "print(f\"Average Revenue Per User: ${calculate_average_revenue(df, metric_type='arpu'):,.2f}\")"
   ]
  },
  {
   "cell_type": "code",
   "execution_count": 4,
   "id": "7fa9d822-7600-4aec-9634-fe16dce6e34b",
   "metadata": {},
   "outputs": [
    {
     "name": "stdout",
     "output_type": "stream",
     "text": [
      "Average Order Value: $5,623.11\n",
      "Average Revenue Per User: $1,571.57\n"
     ]
    }
   ],
   "source": [
    "print(f\"Average Order Value: ${calculate_average_revenue(df, metric_type='aov'):,.2f}\")\n",
    "print(f\"Average Revenue Per User: ${calculate_average_revenue(df, metric_type='arpu'):,.2f}\")\n",
    "\n",
    "def display_metrics(df, fig_size=(5, 5), save=False):\n",
    "    avg_purchases = calculate_purchases_per_user(df)\n",
    "    \n",
    "    fig, ax = plt.subplots(figsize=fig_size)\n",
    "    ax.set_axis_off()\n",
    "    text = (\n",
    "        f\"AOV: ${calculate_average_revenue(df, metric_type='aov'):,.2f}\\n\"\n",
    "        f\"ARPU: ${calculate_average_revenue(df, metric_type='arpu'):,.2f}\"\n",
    "    )\n",
    "    \n",
    "    # Display metric name and value\n",
    "    ax.text(0.5, 0.5, text, fontsize=40, ha='center', va='center', color='darkblue', fontweight='bold')\n",
    "    plt.tight_layout()\n",
    "    if save:\n",
    "        folder_path = './Graphs 3'\n",
    "        os.makedirs(folder_path, exist_ok=True)\n",
    "        plt.savefig(\n",
    "            fname=os.path.join(folder_path, \"metrics_display.png\"),\n",
    "            format='png',\n",
    "            bbox_inches='tight',\n",
    "            dpi=300\n",
    "        )\n",
    "    \n",
    "    plt.close()\n",
    "\n",
    "display_metrics(df, save=True)"
   ]
  },
  {
   "cell_type": "markdown",
   "id": "e23b863f-2c2b-4612-8d5e-c9dd9d652792",
   "metadata": {},
   "source": [
    "# Сколько покупок в среднем совершает 1 пользователь?"
   ]
  },
  {
   "cell_type": "code",
   "execution_count": null,
   "id": "3b80b769-744a-4e1c-88a3-6df71936a0b1",
   "metadata": {},
   "outputs": [],
   "source": [
    "def display_avg_purchases(df, fig_size=(5, 5), save=False):\n",
    "    avg_purchases = calculate_purchases_per_user(df)\n",
    "    \n",
    "    fig, ax = plt.subplots(figsize=fig_size)\n",
    "    ax.set_axis_off()\n",
    "    \n",
    "    # Display metric name and value\n",
    "    plt.text(0.5, 0.6, \"Average Purchases\\nper User\", \n",
    "            ha='center', va='bottom', fontsize=40)\n",
    "    plt.text(0.5, 0.4, f\"{avg_purchases:.2f}\", \n",
    "            ha='center', va='top', fontsize=70, fontweight='bold')\n",
    "    \n",
    "    if save:\n",
    "        folder_path = './Graphs 3'\n",
    "        os.makedirs(folder_path, exist_ok=True)\n",
    "        plt.savefig(\n",
    "            fname=os.path.join(folder_path, \"avg_purchases_per_user.png\"),\n",
    "            format='png',\n",
    "            bbox_inches='tight',\n",
    "            dpi=300\n",
    "        )\n",
    "    \n",
    "    plt.close()\n",
    "\n",
    "# Usage\n",
    "display_avg_purchases(df, save=True)"
   ]
  },
  {
   "cell_type": "code",
   "execution_count": null,
   "id": "a5f38d03-196e-49df-8ad9-c4df2190771a",
   "metadata": {},
   "outputs": [],
   "source": [
    "print(f\"Average purchases per user: {calculate_purchases_per_user(df):.2f}\")\n",
    "\n",
    "user_purchases = df.groupby('user_id')['sold'].sum()\n",
    "counts = user_purchases.value_counts().sort_index()\n",
    "proportions = user_purchases.value_counts(normalize=True).sort_index().round(3) * 100\n",
    "\n",
    "result = pd.merge(counts, proportions, left_index=True, right_index=True, \n",
    "                  suffixes=('_count', '_proportion'))\n",
    "print(\"Distribution of purchases per user:\")\n",
    "print(result)"
   ]
  },
  {
   "cell_type": "markdown",
   "id": "e9d55b25-e2c8-43e0-bba6-b2bb7ef20500",
   "metadata": {},
   "source": [
    "# Convert Session Duration To Minutes For Easier Interpretability"
   ]
  },
  {
   "cell_type": "code",
   "execution_count": null,
   "id": "3e820638-8a43-4eb2-807d-387aaf49efa5",
   "metadata": {},
   "outputs": [],
   "source": [
    "channel_order_by_cost = ['organic', 'email-рассылки', 'реклама у блогеров', 'социальные сети', 'контекстная реклама']\n",
    "df['duration_min'] = df['sessiondurationsec'] / 60"
   ]
  },
  {
   "cell_type": "markdown",
   "id": "8fe1ade5-7bb7-4b1b-b646-d62869f063a0",
   "metadata": {},
   "source": [
    "# Рассчитать среднюю продолжительность сессии по рекламным каналам"
   ]
  },
  {
   "cell_type": "code",
   "execution_count": null,
   "id": "f3dcaf96-5b7f-4176-8c1e-3f8d26bff67d",
   "metadata": {},
   "outputs": [],
   "source": [
    "calculate_average_metric(df, metric_col='duration_min', groupby_cols='channel', \n",
    "                         visualize=True, save=True, category_order=channel_order_by_cost)"
   ]
  },
  {
   "cell_type": "code",
   "execution_count": null,
   "id": "5f40f60f-ede8-4e2f-94fb-82840672a3aa",
   "metadata": {},
   "outputs": [],
   "source": [
    "calculate_average_metric(df, metric_col='duration_min', groupby_cols=['channel', 'sold'], \n",
    "                         visualize=True, save=True, category_order=channel_order_by_cost)"
   ]
  },
  {
   "cell_type": "code",
   "execution_count": null,
   "id": "ccafa24b-5291-4b26-90e3-13e38cc44bbd",
   "metadata": {},
   "outputs": [],
   "source": [
    "calculate_average_metric(df, metric_col='duration_min', groupby_cols=['channel', 'region'], \n",
    "                         visualize=True, save=True, category_order=channel_order_by_cost, fig_size=(12,8))"
   ]
  },
  {
   "cell_type": "markdown",
   "id": "23468c72-eb02-4473-b138-ee4930659c87",
   "metadata": {
    "jp-MarkdownHeadingCollapsed": true
   },
   "source": [
    "# Рассчитать среднюю продолжительность сессии по типу устройства"
   ]
  },
  {
   "cell_type": "code",
   "execution_count": null,
   "id": "fae7a03e-264b-4a2e-8a9c-ca314a8ee4fa",
   "metadata": {},
   "outputs": [],
   "source": [
    "calculate_average_metric(df, metric_col='duration_min', groupby_cols='device', \n",
    "                         visualize=True, save=True)"
   ]
  },
  {
   "cell_type": "code",
   "execution_count": null,
   "id": "a12200a5-2b5a-40be-b7cd-e1e7c193343a",
   "metadata": {},
   "outputs": [],
   "source": [
    "calculate_average_metric(df, metric_col='duration_min', groupby_cols=['device', 'sold'], \n",
    "                         visualize=True, save=True)"
   ]
  },
  {
   "cell_type": "code",
   "execution_count": null,
   "id": "496d56f0-2858-4e70-85bf-d7fcf9754b26",
   "metadata": {},
   "outputs": [],
   "source": [
    "calculate_average_metric(df, metric_col='duration_min', groupby_cols=['device', 'region'], \n",
    "                         visualize=True, save=True)"
   ]
  },
  {
   "cell_type": "markdown",
   "id": "fddfc627-02ec-4c69-b555-06d0dd82c968",
   "metadata": {
    "jp-MarkdownHeadingCollapsed": true
   },
   "source": [
    "# Определить топ-3 рекламных канала по среднему чеку"
   ]
  },
  {
   "cell_type": "code",
   "execution_count": null,
   "id": "80539a05-fc24-4c0c-8621-c36b3e3012d2",
   "metadata": {},
   "outputs": [],
   "source": [
    "calculate_average_metric(df, metric_col='revenue', groupby_cols='channel', top_n=None, metric_type='aov',\n",
    "                         visualize=True, save=True, title='Top-All рекламных канала по среднему чеку (AOV)')\n",
    "calculate_average_metric(df, metric_col='revenue', groupby_cols='channel', top_n=None, metric_type='arpu',\n",
    "                         visualize=True, save=True,  title='Top-All рекламных канала по среднему чеку (ARPU)');"
   ]
  },
  {
   "cell_type": "markdown",
   "id": "4beb9050-4801-4302-9c96-cafc7d87f182",
   "metadata": {
    "jp-MarkdownHeadingCollapsed": true
   },
   "source": [
    "# Определить топ-3 региона по среднему чеку"
   ]
  },
  {
   "cell_type": "code",
   "execution_count": null,
   "id": "3a4b38e4-cfed-46ba-842f-fa10466e2341",
   "metadata": {},
   "outputs": [],
   "source": [
    "calculate_average_metric(df, metric_col='revenue', groupby_cols='region', top_n=None, metric_type='aov',\n",
    "                         visualize=True, save=True, title='Top-All региона по среднему чеку (AOV)')\n",
    "calculate_average_metric(df, metric_col='revenue', groupby_cols='region', top_n=None, metric_type='arpu',\n",
    "                         visualize=True, save=True, title='Top-All региона по среднему чеку (ARPU)')"
   ]
  },
  {
   "cell_type": "markdown",
   "id": "506c5b6e-924b-4cb1-b7f1-b6d4c19f9fd4",
   "metadata": {
    "jp-MarkdownHeadingCollapsed": true
   },
   "source": [
    "# Определить топ-3 месяца по среднему чеку с разбивкой по регионам"
   ]
  },
  {
   "cell_type": "code",
   "execution_count": null,
   "id": "f3e24425-b839-424d-a5af-2714bcf87ac4",
   "metadata": {},
   "outputs": [],
   "source": [
    "calculate_average_metric(df, metric_col='revenue', groupby_cols=['month', 'region'], top_n=None, metric_type='aov',\n",
    "                         visualize=True, save=True, chronological=True,\n",
    "                         title='Top-All месяца по среднему чеку с разбивкой по регионам (AOV)')\n",
    "calculate_average_metric(df, metric_col='revenue', groupby_cols=['month', 'region'], top_n=None, metric_type='arpu',\n",
    "                         visualize=True, save=True, chronological=True,\n",
    "                         title='Top-All месяца по среднему чеку с разбивкой по регионам (ARPU)');"
   ]
  },
  {
   "cell_type": "markdown",
   "id": "8497d9be-eedd-47f2-8215-5a374c27548f",
   "metadata": {
    "jp-MarkdownHeadingCollapsed": true
   },
   "source": [
    "# MAU по каждому месяцу с разбивкой по рекламным каналам"
   ]
  },
  {
   "cell_type": "code",
   "execution_count": null,
   "id": "a7d34dd8-d1ce-41b5-a8a8-309a9a57a405",
   "metadata": {},
   "outputs": [],
   "source": [
    "calculate_mau(df, group_cols=['month', 'channel'], visualize=True, save=True)"
   ]
  },
  {
   "cell_type": "markdown",
   "id": "19d1cb6d-c930-4c69-b91e-68b4d82645b7",
   "metadata": {
    "jp-MarkdownHeadingCollapsed": true
   },
   "source": [
    "# Топ-3 рекламных каналов по количеству уникальных пользователей в месяц"
   ]
  },
  {
   "cell_type": "code",
   "execution_count": null,
   "id": "6f231fc3-dd77-4b82-ac11-dee7e2827662",
   "metadata": {},
   "outputs": [],
   "source": [
    "get_top_by_mau(df, n=None, visualize=True, save=True, category_order=channel_order_by_cost)"
   ]
  },
  {
   "cell_type": "markdown",
   "id": "a3c27f9e-676c-4575-af8d-b32328ac7c2c",
   "metadata": {
    "jp-MarkdownHeadingCollapsed": true
   },
   "source": [
    "# Channel Table"
   ]
  },
  {
   "cell_type": "code",
   "execution_count": null,
   "id": "59f65b56-87ba-416d-9e5b-70dd910c0615",
   "metadata": {
    "jupyter": {
     "source_hidden": true
    }
   },
   "outputs": [],
   "source": [
    "def analyze_channels_performance(df, visualize=False, category_order=None):\n",
    "    stats = df.groupby('channel').agg({\n",
    "        'user_id': ['count', 'nunique'],\n",
    "        'sold': 'sum',\n",
    "        'revenue': 'sum'\n",
    "    }).round()\n",
    "    \n",
    "    stats.columns = [\n",
    "        'Total Users',\n",
    "        'Unique Users',\n",
    "        'Paying Users',\n",
    "        'Total Revenue'\n",
    "    ]\n",
    "    \n",
    "    print(stats)\n",
    "    print(f\"\\nTop channel by paying users: {stats['Paying Users'].idxmax()}\")\n",
    "    print(f\"Top channel by revenue: {stats['Total Revenue'].idxmax()}\")\n",
    "\n",
    "    return stats\n",
    "\n",
    "def plot_channel_stats(stats, metrics=['Paying Users', 'Total Revenue'], figsize=(12, 6), \n",
    "                       category_order=None, save=False):\n",
    "    if category_order is not None:\n",
    "        stats = stats.reindex(category_order)\n",
    "    \n",
    "    fig, axes = plt.subplots(1, len(metrics), figsize=figsize)\n",
    "    \n",
    "    for i, (metric, ax) in enumerate(zip(metrics, axes)):\n",
    "       bars = stats[metric].plot(kind='bar', ax=ax)\n",
    "       ax.set_title(f'{metric} by Channel')\n",
    "       ax.set_xlabel('Channel')\n",
    "       ax.set_ylabel(metric)\n",
    "       ax.set_ylim(0, stats[metric].max() * 1.1)\n",
    "       ax.tick_params(axis='x', rotation=45)\n",
    "       \n",
    "       for bar in bars.patches:\n",
    "           height = bar.get_height()\n",
    "           ax.text(bar.get_x() + bar.get_width()/2., height,\n",
    "                  f'{int(height):,}',\n",
    "                  ha='center', va='bottom')\n",
    "    \n",
    "    plt.tight_layout()\n",
    "    \n",
    "    if save:\n",
    "        folder_path = './Graphs 3'\n",
    "        os.makedirs(folder_path, exist_ok=True)\n",
    "        filename = f\"channel_stats.png\"\n",
    "        plt.savefig(\n",
    "            fname=os.path.join(folder_path, filename),\n",
    "            format='png',\n",
    "            bbox_inches='tight',\n",
    "            dpi=300\n",
    "        )\n",
    "    plt.show()"
   ]
  },
  {
   "cell_type": "code",
   "execution_count": null,
   "id": "d7c08917-d7ee-45a4-8c9f-b5634afe2e57",
   "metadata": {},
   "outputs": [],
   "source": [
    "stats = analyze_channels_performance(df, visualize=True, category_order=channel_order_by_cost)\n",
    "plot_channel_stats(stats, category_order=channel_order_by_cost, save=True)"
   ]
  },
  {
   "cell_type": "markdown",
   "id": "5bf30dfd-5200-41bf-a0f3-c0bd24b7edf0",
   "metadata": {},
   "source": [
    "# "
   ]
  },
  {
   "cell_type": "code",
   "execution_count": null,
   "id": "dd0889e7-3a56-4f4b-9cb3-dfe83aa25375",
   "metadata": {},
   "outputs": [],
   "source": []
  }
 ],
 "metadata": {
  "kernelspec": {
   "display_name": "Python 3 (ipykernel)",
   "language": "python",
   "name": "python3"
  },
  "language_info": {
   "codemirror_mode": {
    "name": "ipython",
    "version": 3
   },
   "file_extension": ".py",
   "mimetype": "text/x-python",
   "name": "python",
   "nbconvert_exporter": "python",
   "pygments_lexer": "ipython3",
   "version": "3.12.7"
  }
 },
 "nbformat": 4,
 "nbformat_minor": 5
}
