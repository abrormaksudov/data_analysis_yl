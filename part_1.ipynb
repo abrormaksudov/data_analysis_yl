{
 "cells": [
  {
   "cell_type": "code",
   "execution_count": 1,
   "id": "4e9775b6-a77c-496d-bf63-d900c971e0ad",
   "metadata": {},
   "outputs": [
    {
     "name": "stdout",
     "output_type": "stream",
     "text": [
      "(1012, 15)\n"
     ]
    },
    {
     "data": {
      "text/html": [
       "<div>\n",
       "<style scoped>\n",
       "    .dataframe tbody tr th:only-of-type {\n",
       "        vertical-align: middle;\n",
       "    }\n",
       "\n",
       "    .dataframe tbody tr th {\n",
       "        vertical-align: top;\n",
       "    }\n",
       "\n",
       "    .dataframe thead th {\n",
       "        text-align: right;\n",
       "    }\n",
       "</style>\n",
       "<table border=\"1\" class=\"dataframe\">\n",
       "  <thead>\n",
       "    <tr style=\"text-align: right;\">\n",
       "      <th></th>\n",
       "      <th>user_id</th>\n",
       "      <th>region</th>\n",
       "      <th>device</th>\n",
       "      <th>channel</th>\n",
       "      <th>session_start</th>\n",
       "      <th>session_end</th>\n",
       "      <th>sessiondurationsec</th>\n",
       "      <th>session_date</th>\n",
       "      <th>month</th>\n",
       "      <th>day</th>\n",
       "      <th>hour_of_day</th>\n",
       "      <th>order_dt</th>\n",
       "      <th>revenue</th>\n",
       "      <th>payment_type</th>\n",
       "      <th>promo_code</th>\n",
       "    </tr>\n",
       "  </thead>\n",
       "  <tbody>\n",
       "    <tr>\n",
       "      <th>0</th>\n",
       "      <td>529697267522</td>\n",
       "      <td>United States</td>\n",
       "      <td>iPhone</td>\n",
       "      <td>социальные сети</td>\n",
       "      <td>2019-05-01 00:06:40</td>\n",
       "      <td>2019-05-01 00:07:06</td>\n",
       "      <td>26.0</td>\n",
       "      <td>2019-05-01</td>\n",
       "      <td>5</td>\n",
       "      <td>3</td>\n",
       "      <td>0</td>\n",
       "      <td>2019-05-01 00:06:40</td>\n",
       "      <td>9999.0</td>\n",
       "      <td>Mobile payments</td>\n",
       "      <td>0.0</td>\n",
       "    </tr>\n",
       "    <tr>\n",
       "      <th>1</th>\n",
       "      <td>601292388085</td>\n",
       "      <td>United States</td>\n",
       "      <td>PC</td>\n",
       "      <td>organic</td>\n",
       "      <td>2019-05-01 06:56:16</td>\n",
       "      <td>2019-05-01 07:09:18</td>\n",
       "      <td>782.0</td>\n",
       "      <td>2019-05-01</td>\n",
       "      <td>5</td>\n",
       "      <td>3</td>\n",
       "      <td>7</td>\n",
       "      <td>NaN</td>\n",
       "      <td>NaN</td>\n",
       "      <td>NaN</td>\n",
       "      <td>NaN</td>\n",
       "    </tr>\n",
       "    <tr>\n",
       "      <th>2</th>\n",
       "      <td>852898876338</td>\n",
       "      <td>United States</td>\n",
       "      <td>Mac</td>\n",
       "      <td>социальные сети</td>\n",
       "      <td>2019-05-01 04:30:45</td>\n",
       "      <td>2019-05-01 04:34:56</td>\n",
       "      <td>251.0</td>\n",
       "      <td>2019-05-01</td>\n",
       "      <td>5</td>\n",
       "      <td>3</td>\n",
       "      <td>4</td>\n",
       "      <td>NaN</td>\n",
       "      <td>NaN</td>\n",
       "      <td>NaN</td>\n",
       "      <td>NaN</td>\n",
       "    </tr>\n",
       "    <tr>\n",
       "      <th>3</th>\n",
       "      <td>998513020664</td>\n",
       "      <td>United States</td>\n",
       "      <td>iPhone</td>\n",
       "      <td>социальные сети</td>\n",
       "      <td>2019-05-01 18:53:42</td>\n",
       "      <td>2019-05-01 18:57:35</td>\n",
       "      <td>233.0</td>\n",
       "      <td>2019-05-01</td>\n",
       "      <td>5</td>\n",
       "      <td>3</td>\n",
       "      <td>18</td>\n",
       "      <td>NaN</td>\n",
       "      <td>NaN</td>\n",
       "      <td>NaN</td>\n",
       "      <td>NaN</td>\n",
       "    </tr>\n",
       "    <tr>\n",
       "      <th>4</th>\n",
       "      <td>240702200943</td>\n",
       "      <td>United States</td>\n",
       "      <td>Mac</td>\n",
       "      <td>социальные сети</td>\n",
       "      <td>2019-05-02 14:04:32</td>\n",
       "      <td>2019-05-02 14:09:51</td>\n",
       "      <td>319.0</td>\n",
       "      <td>2019-05-02</td>\n",
       "      <td>5</td>\n",
       "      <td>4</td>\n",
       "      <td>14</td>\n",
       "      <td>NaN</td>\n",
       "      <td>NaN</td>\n",
       "      <td>NaN</td>\n",
       "      <td>NaN</td>\n",
       "    </tr>\n",
       "  </tbody>\n",
       "</table>\n",
       "</div>"
      ],
      "text/plain": [
       "        user_id         region  device          channel        session_start          session_end  sessiondurationsec session_date  month  day  \\\n",
       "0  529697267522  United States  iPhone  социальные сети  2019-05-01 00:06:40  2019-05-01 00:07:06                26.0   2019-05-01      5    3   \n",
       "1  601292388085  United States      PC          organic  2019-05-01 06:56:16  2019-05-01 07:09:18               782.0   2019-05-01      5    3   \n",
       "2  852898876338  United States     Mac  социальные сети  2019-05-01 04:30:45  2019-05-01 04:34:56               251.0   2019-05-01      5    3   \n",
       "3  998513020664  United States  iPhone  социальные сети  2019-05-01 18:53:42  2019-05-01 18:57:35               233.0   2019-05-01      5    3   \n",
       "4  240702200943  United States     Mac  социальные сети  2019-05-02 14:04:32  2019-05-02 14:09:51               319.0   2019-05-02      5    4   \n",
       "\n",
       "   hour_of_day             order_dt  revenue     payment_type  promo_code  \n",
       "0            0  2019-05-01 00:06:40   9999.0  Mobile payments         0.0  \n",
       "1            7                  NaN      NaN              NaN         NaN  \n",
       "2            4                  NaN      NaN              NaN         NaN  \n",
       "3           18                  NaN      NaN              NaN         NaN  \n",
       "4           14                  NaN      NaN              NaN         NaN  "
      ]
     },
     "execution_count": 1,
     "metadata": {},
     "output_type": "execute_result"
    }
   ],
   "source": [
    "import pandas as pd\n",
    "import numpy as np\n",
    "from scipy import stats\n",
    "import matplotlib.pyplot as plt\n",
    "import seaborn as sns\n",
    "\n",
    "pd.set_option('display.max_columns', 100)\n",
    "pd.set_option('display.max_rows', 100)\n",
    "pd.set_option('display.width', 150)\n",
    "pd.set_option('display.max_colwidth', None)\n",
    "pd.set_option('future.no_silent_downcasting', True)\n",
    "sns.set()\n",
    "\n",
    "df = pd.read_csv('data.csv')\n",
    "\n",
    "df.columns = df.columns.str.lower().str.replace(' ', '_')\n",
    "\n",
    "print(df.shape)\n",
    "df.head()"
   ]
  },
  {
   "cell_type": "markdown",
   "id": "ace8599b-6397-47eb-8764-b46ca9f690ab",
   "metadata": {},
   "source": [
    "# Set Proper Data Types"
   ]
  },
  {
   "cell_type": "code",
   "execution_count": 2,
   "id": "99af30d4-1309-48b0-9968-7c72b9d0c43e",
   "metadata": {},
   "outputs": [],
   "source": [
    "dtype_mapping = {\n",
    "    'user_id': 'int64', \n",
    "    'region': 'object', \n",
    "    'device': 'object', \n",
    "    'channel': 'object', \n",
    "    'session_start': 'datetime64[ns]', \n",
    "    'session_end': 'datetime64[ns]', \n",
    "    'sessiondurationsec': 'float64', \n",
    "    'session_date': 'datetime64[ns]', \n",
    "    'month': 'int64', \n",
    "    'day': 'int64', \n",
    "    'hour_of_day': 'int64', \n",
    "    'order_dt': 'datetime64[ns]', \n",
    "    'revenue': 'float64', \n",
    "    'payment_type': 'object', \n",
    "    'promo_code': 'float64'\n",
    "}\n",
    "\n",
    "df = df.astype(dtype_mapping)"
   ]
  },
  {
   "cell_type": "markdown",
   "id": "070e9d50-2985-4c5a-ab1d-b74bf80eab3a",
   "metadata": {},
   "source": [
    "# Drop Obvious Duplicates"
   ]
  },
  {
   "cell_type": "code",
   "execution_count": 18,
   "id": "cfb98c05-7f76-4a3e-965a-f4464a6c3366",
   "metadata": {},
   "outputs": [
    {
     "data": {
      "text/html": [
       "<div>\n",
       "<style scoped>\n",
       "    .dataframe tbody tr th:only-of-type {\n",
       "        vertical-align: middle;\n",
       "    }\n",
       "\n",
       "    .dataframe tbody tr th {\n",
       "        vertical-align: top;\n",
       "    }\n",
       "\n",
       "    .dataframe thead th {\n",
       "        text-align: right;\n",
       "    }\n",
       "</style>\n",
       "<table border=\"1\" class=\"dataframe\">\n",
       "  <thead>\n",
       "    <tr style=\"text-align: right;\">\n",
       "      <th></th>\n",
       "      <th>user_id</th>\n",
       "      <th>region</th>\n",
       "      <th>device</th>\n",
       "      <th>channel</th>\n",
       "      <th>session_start</th>\n",
       "      <th>session_end</th>\n",
       "      <th>sessiondurationsec</th>\n",
       "      <th>session_date</th>\n",
       "      <th>month</th>\n",
       "      <th>day</th>\n",
       "      <th>hour_of_day</th>\n",
       "      <th>order_dt</th>\n",
       "      <th>revenue</th>\n",
       "      <th>payment_type</th>\n",
       "      <th>promo_code</th>\n",
       "    </tr>\n",
       "  </thead>\n",
       "  <tbody>\n",
       "    <tr>\n",
       "      <th>68</th>\n",
       "      <td>768710666</td>\n",
       "      <td>United States</td>\n",
       "      <td>iPhone</td>\n",
       "      <td>реклама у блогеров</td>\n",
       "      <td>2019-05-17 18:24:36</td>\n",
       "      <td>2019-05-17 18:28:05</td>\n",
       "      <td>209.0</td>\n",
       "      <td>2019-05-17</td>\n",
       "      <td>5</td>\n",
       "      <td>5</td>\n",
       "      <td>18</td>\n",
       "      <td>2019-05-17 18:24:36</td>\n",
       "      <td>9999.0</td>\n",
       "      <td>Mobile payments</td>\n",
       "      <td>0.862715</td>\n",
       "    </tr>\n",
       "    <tr>\n",
       "      <th>196</th>\n",
       "      <td>134214602428</td>\n",
       "      <td>United States</td>\n",
       "      <td>Android</td>\n",
       "      <td>социальные сети</td>\n",
       "      <td>2019-06-11 02:35:48</td>\n",
       "      <td>2019-06-11 03:45:47</td>\n",
       "      <td>4199.0</td>\n",
       "      <td>2019-06-11</td>\n",
       "      <td>6</td>\n",
       "      <td>2</td>\n",
       "      <td>3</td>\n",
       "      <td>2019-06-11 02:35:48</td>\n",
       "      <td>4999.0</td>\n",
       "      <td>Mobile payments</td>\n",
       "      <td>1.000000</td>\n",
       "    </tr>\n",
       "    <tr>\n",
       "      <th>600</th>\n",
       "      <td>16254498222</td>\n",
       "      <td>NaN</td>\n",
       "      <td>NaN</td>\n",
       "      <td>NaN</td>\n",
       "      <td>2019-08-25 13:21:44</td>\n",
       "      <td>2019-08-25 13:43:23</td>\n",
       "      <td>1299.0</td>\n",
       "      <td>2019-08-25</td>\n",
       "      <td>8</td>\n",
       "      <td>7</td>\n",
       "      <td>13</td>\n",
       "      <td>2019-08-25 13:21:55</td>\n",
       "      <td>4999.0</td>\n",
       "      <td>Cash</td>\n",
       "      <td>1.000000</td>\n",
       "    </tr>\n",
       "  </tbody>\n",
       "</table>\n",
       "</div>"
      ],
      "text/plain": [
       "          user_id         region   device             channel       session_start         session_end  sessiondurationsec session_date  month  day  \\\n",
       "68      768710666  United States   iPhone  реклама у блогеров 2019-05-17 18:24:36 2019-05-17 18:28:05               209.0   2019-05-17      5    5   \n",
       "196  134214602428  United States  Android     социальные сети 2019-06-11 02:35:48 2019-06-11 03:45:47              4199.0   2019-06-11      6    2   \n",
       "600   16254498222            NaN      NaN                 NaN 2019-08-25 13:21:44 2019-08-25 13:43:23              1299.0   2019-08-25      8    7   \n",
       "\n",
       "     hour_of_day            order_dt  revenue     payment_type  promo_code  \n",
       "68            18 2019-05-17 18:24:36   9999.0  Mobile payments    0.862715  \n",
       "196            3 2019-06-11 02:35:48   4999.0  Mobile payments    1.000000  \n",
       "600           13 2019-08-25 13:21:55   4999.0             Cash    1.000000  "
      ]
     },
     "execution_count": 18,
     "metadata": {},
     "output_type": "execute_result"
    }
   ],
   "source": [
    "df[df.duplicated()]"
   ]
  },
  {
   "cell_type": "code",
   "execution_count": null,
   "id": "9deb0671-b268-443e-887f-d13e4e2a8bb7",
   "metadata": {},
   "outputs": [],
   "source": [
    "duplicates = df.duplicated().sum()\n",
    "print('Number of complete duplicates:', duplicates)\n",
    "df.drop_duplicates(inplace=True)"
   ]
  },
  {
   "cell_type": "markdown",
   "id": "f19a87da-a27f-4001-b400-997cc07f6dae",
   "metadata": {},
   "source": [
    "# Custom Functions"
   ]
  },
  {
   "cell_type": "code",
   "execution_count": null,
   "id": "d836bb33-2cf1-4bc1-8afa-bcd6dafa01bb",
   "metadata": {},
   "outputs": [],
   "source": [
    "def inspect_data(df):\n",
    "    \"\"\"Display basic information about the DataFrame.\"\"\"\n",
    "    print(df.info())\n",
    "\n",
    "    numeric_summary = df.describe(include=[np.number])\n",
    "    print(\"\\nSummary Statistics For Numeric Column:\\n\", numeric_summary)\n",
    "    \n",
    "    object_summary = df.describe(include=['object'])\n",
    "    print(\"\\nSummary Statistics For Object Column:\\n\", object_summary)\n",
    "    \n",
    "    datetime_summary = df.describe(include=['datetime'])\n",
    "    print(\"\\nSummary Statistics For Datetime Column:\\n\", datetime_summary)\n",
    "\n",
    "    print(\"\\nShape:\", df.shape)\n",
    "\n",
    "def plot_missing_values(df):\n",
    "    \"\"\"Visualize missing values in the DataFrame.\"\"\"\n",
    "    sns.heatmap(df.isnull(), cbar=False, cmap=\"viridis\")\n",
    "    plt.title(\"Missing Values Heatmap\")\n",
    "    plt.show()\n",
    "\n",
    "def plot_category(df, column, save=False):\n",
    "    data = df[column].fillna('unknown')\n",
    "    counts = data.value_counts(dropna=False)\n",
    "\n",
    "    plt.figure(figsize=(12,6))\n",
    "    sns.barplot(x=counts.index, y=counts.values, hue=counts.index,  palette=\"viridis\", legend=False)\n",
    "\n",
    "    for index, value in enumerate(counts.values):\n",
    "        plt.text(index, value + 0.5, str(value), ha='center', va='bottom', fontsize=10, color='black')\n",
    "\n",
    "    plt.title(f\"Counts of {column}\", fontsize=24)\n",
    "    plt.xlabel(column.capitalize(), fontsize=14, labelpad=10)\n",
    "    plt.ylabel('Count', fontsize=14)\n",
    "\n",
    "    if save:\n",
    "        plt.savefig(fname=f'./Graphs/{column}.png', format='png', bbox_inches='tight', dpi=300)\n",
    "    \n",
    "    plt.show()"
   ]
  },
  {
   "cell_type": "markdown",
   "id": "22d8538a-a967-42b8-9644-be249af8ea8b",
   "metadata": {
    "jp-MarkdownHeadingCollapsed": true
   },
   "source": [
    "# Inspect Dataframe"
   ]
  },
  {
   "cell_type": "code",
   "execution_count": null,
   "id": "970b1b82-9736-4c0d-9348-749c15ff3e24",
   "metadata": {},
   "outputs": [],
   "source": [
    "inspect_data(df)"
   ]
  },
  {
   "cell_type": "markdown",
   "id": "40af0e0e-0961-4193-9bb6-7a1cb6491605",
   "metadata": {},
   "source": [
    "# Fix Typos"
   ]
  },
  {
   "cell_type": "code",
   "execution_count": 3,
   "id": "ad002ed8-ea20-4e5c-ac88-9ad21fe5012d",
   "metadata": {},
   "outputs": [],
   "source": [
    "corrections = {\n",
    "    'Frаnce': 'France',\n",
    "    'Frаncе': 'France',\n",
    "    'Franсe': 'France',\n",
    "    'Unjted States': 'United States',\n",
    "    'germany': 'Germany',\n",
    "    'UК': 'UK'\n",
    "}\n",
    "\n",
    "df['region'] = df['region'].replace(corrections)\n",
    "\n",
    "corrections = {\n",
    "    'android': 'Android'\n",
    "}\n",
    "\n",
    "df['device'] = df['device'].replace(corrections)\n",
    "\n",
    "corrections = {\n",
    "    'контексная реклама': 'контекстная реклама'\n",
    "}\n",
    "\n",
    "df['channel'] = df['channel'].replace(corrections)"
   ]
  },
  {
   "cell_type": "markdown",
   "id": "70e68659-296d-4444-a699-485c6979d4d9",
   "metadata": {
    "jp-MarkdownHeadingCollapsed": true
   },
   "source": [
    "# Check Unique Values"
   ]
  },
  {
   "cell_type": "code",
   "execution_count": null,
   "id": "8faf31ff-644b-49f1-a08b-76a2b3ea6448",
   "metadata": {
    "scrolled": true
   },
   "outputs": [],
   "source": [
    "for column in df.columns:\n",
    "    print(f'----- {column.upper()} -----')\n",
    "    print(df[column].value_counts(dropna=False))\n",
    "    print()"
   ]
  },
  {
   "cell_type": "markdown",
   "id": "fc892cf4-dff7-411c-885b-43bfdae79d4c",
   "metadata": {},
   "source": [
    "# PROMO CODE"
   ]
  },
  {
   "cell_type": "code",
   "execution_count": 4,
   "id": "9e4ef6b2-3796-418f-86f0-ea72caeb93f4",
   "metadata": {},
   "outputs": [
    {
     "data": {
      "text/plain": [
       "array([0.        ,        nan, 1.        , 0.86271506])"
      ]
     },
     "execution_count": 4,
     "metadata": {},
     "output_type": "execute_result"
    }
   ],
   "source": [
    "df['promo_code'].unique()"
   ]
  },
  {
   "cell_type": "code",
   "execution_count": null,
   "id": "dd5478b7-716d-4649-9df1-0f8ba697d8ce",
   "metadata": {},
   "outputs": [],
   "source": [
    "# We notice 2 unusual values for promo code\n",
    "\n",
    "df['promo_code'].value_counts(dropna=False)"
   ]
  },
  {
   "cell_type": "code",
   "execution_count": 5,
   "id": "9705d23e-e173-4f0d-9d7a-48bff4f48b3a",
   "metadata": {},
   "outputs": [
    {
     "data": {
      "text/html": [
       "<div>\n",
       "<style scoped>\n",
       "    .dataframe tbody tr th:only-of-type {\n",
       "        vertical-align: middle;\n",
       "    }\n",
       "\n",
       "    .dataframe tbody tr th {\n",
       "        vertical-align: top;\n",
       "    }\n",
       "\n",
       "    .dataframe thead th {\n",
       "        text-align: right;\n",
       "    }\n",
       "</style>\n",
       "<table border=\"1\" class=\"dataframe\">\n",
       "  <thead>\n",
       "    <tr style=\"text-align: right;\">\n",
       "      <th></th>\n",
       "      <th>user_id</th>\n",
       "      <th>region</th>\n",
       "      <th>device</th>\n",
       "      <th>channel</th>\n",
       "      <th>session_start</th>\n",
       "      <th>session_end</th>\n",
       "      <th>sessiondurationsec</th>\n",
       "      <th>session_date</th>\n",
       "      <th>month</th>\n",
       "      <th>day</th>\n",
       "      <th>hour_of_day</th>\n",
       "      <th>order_dt</th>\n",
       "      <th>revenue</th>\n",
       "      <th>payment_type</th>\n",
       "      <th>promo_code</th>\n",
       "    </tr>\n",
       "  </thead>\n",
       "  <tbody>\n",
       "    <tr>\n",
       "      <th>67</th>\n",
       "      <td>768710666</td>\n",
       "      <td>United States</td>\n",
       "      <td>iPhone</td>\n",
       "      <td>реклама у блогеров</td>\n",
       "      <td>2019-05-17 18:24:36</td>\n",
       "      <td>2019-05-17 18:28:05</td>\n",
       "      <td>209.0</td>\n",
       "      <td>2019-05-17</td>\n",
       "      <td>5</td>\n",
       "      <td>5</td>\n",
       "      <td>18</td>\n",
       "      <td>2019-05-17 18:24:36</td>\n",
       "      <td>9999.0</td>\n",
       "      <td>Mobile payments</td>\n",
       "      <td>0.862715</td>\n",
       "    </tr>\n",
       "    <tr>\n",
       "      <th>68</th>\n",
       "      <td>768710666</td>\n",
       "      <td>United States</td>\n",
       "      <td>iPhone</td>\n",
       "      <td>реклама у блогеров</td>\n",
       "      <td>2019-05-17 18:24:36</td>\n",
       "      <td>2019-05-17 18:28:05</td>\n",
       "      <td>209.0</td>\n",
       "      <td>2019-05-17</td>\n",
       "      <td>5</td>\n",
       "      <td>5</td>\n",
       "      <td>18</td>\n",
       "      <td>2019-05-17 18:24:36</td>\n",
       "      <td>9999.0</td>\n",
       "      <td>Mobile payments</td>\n",
       "      <td>0.862715</td>\n",
       "    </tr>\n",
       "    <tr>\n",
       "      <th>495</th>\n",
       "      <td>12480325582</td>\n",
       "      <td>United States</td>\n",
       "      <td>Mac</td>\n",
       "      <td>социальные сети</td>\n",
       "      <td>2019-08-10 06:26:44</td>\n",
       "      <td>2019-08-10 06:49:56</td>\n",
       "      <td>1392.0</td>\n",
       "      <td>2019-08-10</td>\n",
       "      <td>8</td>\n",
       "      <td>6</td>\n",
       "      <td>6</td>\n",
       "      <td>2019-08-10 06:26:44</td>\n",
       "      <td>4999.0</td>\n",
       "      <td>E-wallet</td>\n",
       "      <td>0.862715</td>\n",
       "    </tr>\n",
       "  </tbody>\n",
       "</table>\n",
       "</div>"
      ],
      "text/plain": [
       "         user_id         region  device             channel       session_start         session_end  sessiondurationsec session_date  month  day  \\\n",
       "67     768710666  United States  iPhone  реклама у блогеров 2019-05-17 18:24:36 2019-05-17 18:28:05               209.0   2019-05-17      5    5   \n",
       "68     768710666  United States  iPhone  реклама у блогеров 2019-05-17 18:24:36 2019-05-17 18:28:05               209.0   2019-05-17      5    5   \n",
       "495  12480325582  United States     Mac     социальные сети 2019-08-10 06:26:44 2019-08-10 06:49:56              1392.0   2019-08-10      8    6   \n",
       "\n",
       "     hour_of_day            order_dt  revenue     payment_type  promo_code  \n",
       "67            18 2019-05-17 18:24:36   9999.0  Mobile payments    0.862715  \n",
       "68            18 2019-05-17 18:24:36   9999.0  Mobile payments    0.862715  \n",
       "495            6 2019-08-10 06:26:44   4999.0         E-wallet    0.862715  "
      ]
     },
     "execution_count": 5,
     "metadata": {},
     "output_type": "execute_result"
    }
   ],
   "source": [
    "# Check the rows with strange promo code values\n",
    "\n",
    "df[~df['promo_code'].isin([1, 0, np.nan])]"
   ]
  },
  {
   "cell_type": "code",
   "execution_count": null,
   "id": "6886336b-ed49-4353-80ad-cc1c96c56d18",
   "metadata": {},
   "outputs": [],
   "source": [
    "# Let's just round the values and plot the distribution\n",
    "\n",
    "df['promo_code'] = df['promo_code'].round()\n",
    "df['promo_code'].value_counts(dropna=False)"
   ]
  },
  {
   "cell_type": "markdown",
   "id": "f4076039-855c-42c4-a1c5-790b29fe7cc7",
   "metadata": {
    "jp-MarkdownHeadingCollapsed": true
   },
   "source": [
    "# SESSION DURATION"
   ]
  },
  {
   "cell_type": "code",
   "execution_count": null,
   "id": "0f57dbbc-62eb-4734-b6cc-2150a72fa6e7",
   "metadata": {},
   "outputs": [],
   "source": [
    "df['sessiondurationsec'] = df['sessiondurationsec'].round()"
   ]
  },
  {
   "cell_type": "markdown",
   "id": "c8dfb945-9a04-4647-8d23-a0d19641ec71",
   "metadata": {},
   "source": [
    "# Handling Missing Values"
   ]
  },
  {
   "cell_type": "code",
   "execution_count": null,
   "id": "d19fe367-bc04-4fbf-8a28-30501ec664c6",
   "metadata": {},
   "outputs": [],
   "source": [
    "plot_missing_values(df)"
   ]
  },
  {
   "cell_type": "code",
   "execution_count": 17,
   "id": "e544d1be-43e9-4682-a970-ae5890f3070a",
   "metadata": {},
   "outputs": [
    {
     "data": {
      "text/html": [
       "<div>\n",
       "<style scoped>\n",
       "    .dataframe tbody tr th:only-of-type {\n",
       "        vertical-align: middle;\n",
       "    }\n",
       "\n",
       "    .dataframe tbody tr th {\n",
       "        vertical-align: top;\n",
       "    }\n",
       "\n",
       "    .dataframe thead th {\n",
       "        text-align: right;\n",
       "    }\n",
       "</style>\n",
       "<table border=\"1\" class=\"dataframe\">\n",
       "  <thead>\n",
       "    <tr style=\"text-align: right;\">\n",
       "      <th></th>\n",
       "      <th>user_id</th>\n",
       "      <th>region</th>\n",
       "      <th>device</th>\n",
       "      <th>channel</th>\n",
       "      <th>session_start</th>\n",
       "      <th>session_end</th>\n",
       "      <th>sessiondurationsec</th>\n",
       "      <th>session_date</th>\n",
       "      <th>month</th>\n",
       "      <th>day</th>\n",
       "      <th>hour_of_day</th>\n",
       "      <th>order_dt</th>\n",
       "      <th>revenue</th>\n",
       "      <th>payment_type</th>\n",
       "      <th>promo_code</th>\n",
       "    </tr>\n",
       "  </thead>\n",
       "  <tbody>\n",
       "    <tr>\n",
       "      <th>67</th>\n",
       "      <td>768710666</td>\n",
       "      <td>United States</td>\n",
       "      <td>iPhone</td>\n",
       "      <td>реклама у блогеров</td>\n",
       "      <td>2019-05-17 18:24:36</td>\n",
       "      <td>2019-05-17 18:28:05</td>\n",
       "      <td>209.0</td>\n",
       "      <td>2019-05-17</td>\n",
       "      <td>5</td>\n",
       "      <td>5</td>\n",
       "      <td>18</td>\n",
       "      <td>2019-05-17 18:24:36</td>\n",
       "      <td>9999.0</td>\n",
       "      <td>Mobile payments</td>\n",
       "      <td>0.862715</td>\n",
       "    </tr>\n",
       "    <tr>\n",
       "      <th>68</th>\n",
       "      <td>768710666</td>\n",
       "      <td>United States</td>\n",
       "      <td>iPhone</td>\n",
       "      <td>реклама у блогеров</td>\n",
       "      <td>2019-05-17 18:24:36</td>\n",
       "      <td>2019-05-17 18:28:05</td>\n",
       "      <td>209.0</td>\n",
       "      <td>2019-05-17</td>\n",
       "      <td>5</td>\n",
       "      <td>5</td>\n",
       "      <td>18</td>\n",
       "      <td>2019-05-17 18:24:36</td>\n",
       "      <td>9999.0</td>\n",
       "      <td>Mobile payments</td>\n",
       "      <td>0.862715</td>\n",
       "    </tr>\n",
       "    <tr>\n",
       "      <th>599</th>\n",
       "      <td>16254498222</td>\n",
       "      <td>NaN</td>\n",
       "      <td>NaN</td>\n",
       "      <td>NaN</td>\n",
       "      <td>2019-08-25 13:21:44</td>\n",
       "      <td>2019-08-25 13:43:23</td>\n",
       "      <td>1299.0</td>\n",
       "      <td>2019-08-25</td>\n",
       "      <td>8</td>\n",
       "      <td>7</td>\n",
       "      <td>13</td>\n",
       "      <td>2019-08-25 13:21:55</td>\n",
       "      <td>4999.0</td>\n",
       "      <td>Cash</td>\n",
       "      <td>1.000000</td>\n",
       "    </tr>\n",
       "    <tr>\n",
       "      <th>600</th>\n",
       "      <td>16254498222</td>\n",
       "      <td>NaN</td>\n",
       "      <td>NaN</td>\n",
       "      <td>NaN</td>\n",
       "      <td>2019-08-25 13:21:44</td>\n",
       "      <td>2019-08-25 13:43:23</td>\n",
       "      <td>1299.0</td>\n",
       "      <td>2019-08-25</td>\n",
       "      <td>8</td>\n",
       "      <td>7</td>\n",
       "      <td>13</td>\n",
       "      <td>2019-08-25 13:21:55</td>\n",
       "      <td>4999.0</td>\n",
       "      <td>Cash</td>\n",
       "      <td>1.000000</td>\n",
       "    </tr>\n",
       "    <tr>\n",
       "      <th>408</th>\n",
       "      <td>61219447121</td>\n",
       "      <td>UK</td>\n",
       "      <td>PC</td>\n",
       "      <td>контекстная реклама</td>\n",
       "      <td>2019-07-23 03:37:05</td>\n",
       "      <td>2019-07-23 03:43:28</td>\n",
       "      <td>383.0</td>\n",
       "      <td>2019-07-23</td>\n",
       "      <td>7</td>\n",
       "      <td>2</td>\n",
       "      <td>3</td>\n",
       "      <td>2019-07-23 03:37:11</td>\n",
       "      <td>4999.0</td>\n",
       "      <td>Cash</td>\n",
       "      <td>0.000000</td>\n",
       "    </tr>\n",
       "    <tr>\n",
       "      <th>564</th>\n",
       "      <td>61219447121</td>\n",
       "      <td>UK</td>\n",
       "      <td>PC</td>\n",
       "      <td>контекстная реклама</td>\n",
       "      <td>2019-08-18 08:16:27</td>\n",
       "      <td>2019-08-18 08:28:59</td>\n",
       "      <td>752.0</td>\n",
       "      <td>2019-08-18</td>\n",
       "      <td>8</td>\n",
       "      <td>7</td>\n",
       "      <td>8</td>\n",
       "      <td>2019-08-18 08:16:33</td>\n",
       "      <td>4999.0</td>\n",
       "      <td>Cash</td>\n",
       "      <td>0.000000</td>\n",
       "    </tr>\n",
       "  </tbody>\n",
       "</table>\n",
       "</div>"
      ],
      "text/plain": [
       "         user_id         region  device              channel       session_start         session_end  sessiondurationsec session_date  month  day  \\\n",
       "67     768710666  United States  iPhone   реклама у блогеров 2019-05-17 18:24:36 2019-05-17 18:28:05               209.0   2019-05-17      5    5   \n",
       "68     768710666  United States  iPhone   реклама у блогеров 2019-05-17 18:24:36 2019-05-17 18:28:05               209.0   2019-05-17      5    5   \n",
       "599  16254498222            NaN     NaN                  NaN 2019-08-25 13:21:44 2019-08-25 13:43:23              1299.0   2019-08-25      8    7   \n",
       "600  16254498222            NaN     NaN                  NaN 2019-08-25 13:21:44 2019-08-25 13:43:23              1299.0   2019-08-25      8    7   \n",
       "408  61219447121             UK      PC  контекстная реклама 2019-07-23 03:37:05 2019-07-23 03:43:28               383.0   2019-07-23      7    2   \n",
       "564  61219447121             UK      PC  контекстная реклама 2019-08-18 08:16:27 2019-08-18 08:28:59               752.0   2019-08-18      8    7   \n",
       "\n",
       "     hour_of_day            order_dt  revenue     payment_type  promo_code  \n",
       "67            18 2019-05-17 18:24:36   9999.0  Mobile payments    0.862715  \n",
       "68            18 2019-05-17 18:24:36   9999.0  Mobile payments    0.862715  \n",
       "599           13 2019-08-25 13:21:55   4999.0             Cash    1.000000  \n",
       "600           13 2019-08-25 13:21:55   4999.0             Cash    1.000000  \n",
       "408            3 2019-07-23 03:37:11   4999.0             Cash    0.000000  \n",
       "564            8 2019-08-18 08:16:33   4999.0             Cash    0.000000  "
      ]
     },
     "execution_count": 17,
     "metadata": {},
     "output_type": "execute_result"
    }
   ],
   "source": [
    "# Let's handle missing values in region, device and channel columns first\n",
    "# Let's check users that visited the website twice\n",
    "\n",
    "user_counts = df['user_id'].value_counts()\n",
    "user_ids_twice = user_counts[user_counts == 2].index\n",
    "\n",
    "df[df['user_id'].isin(user_ids_twice)].sort_values(by=['user_id', 'session_start']).head(6)"
   ]
  },
  {
   "cell_type": "code",
   "execution_count": 11,
   "id": "a823bd51-532f-4f71-a7c1-db4f1191d0a9",
   "metadata": {},
   "outputs": [],
   "source": [
    "# As we can see, when a user visits website a second time, the values are NaN\n",
    "# We assume that the user used the same values for region, device and channel\n",
    "\n",
    "r_d_c = ['region', 'device', 'channel']\n",
    "df[r_d_c] = df.groupby('user_id')[r_d_c].transform(lambda x: x.ffill())"
   ]
  },
  {
   "cell_type": "code",
   "execution_count": 12,
   "id": "e0a58630-3d83-4e12-a071-273b6d578011",
   "metadata": {},
   "outputs": [
    {
     "data": {
      "text/html": [
       "<div>\n",
       "<style scoped>\n",
       "    .dataframe tbody tr th:only-of-type {\n",
       "        vertical-align: middle;\n",
       "    }\n",
       "\n",
       "    .dataframe tbody tr th {\n",
       "        vertical-align: top;\n",
       "    }\n",
       "\n",
       "    .dataframe thead th {\n",
       "        text-align: right;\n",
       "    }\n",
       "</style>\n",
       "<table border=\"1\" class=\"dataframe\">\n",
       "  <thead>\n",
       "    <tr style=\"text-align: right;\">\n",
       "      <th></th>\n",
       "      <th>user_id</th>\n",
       "      <th>region</th>\n",
       "      <th>device</th>\n",
       "      <th>channel</th>\n",
       "      <th>session_start</th>\n",
       "      <th>session_end</th>\n",
       "      <th>sessiondurationsec</th>\n",
       "      <th>session_date</th>\n",
       "      <th>month</th>\n",
       "      <th>day</th>\n",
       "      <th>hour_of_day</th>\n",
       "      <th>order_dt</th>\n",
       "      <th>revenue</th>\n",
       "      <th>payment_type</th>\n",
       "      <th>promo_code</th>\n",
       "    </tr>\n",
       "  </thead>\n",
       "  <tbody>\n",
       "    <tr>\n",
       "      <th>599</th>\n",
       "      <td>16254498222</td>\n",
       "      <td>NaN</td>\n",
       "      <td>NaN</td>\n",
       "      <td>NaN</td>\n",
       "      <td>2019-08-25 13:21:44</td>\n",
       "      <td>2019-08-25 13:43:23</td>\n",
       "      <td>1299.0</td>\n",
       "      <td>2019-08-25</td>\n",
       "      <td>8</td>\n",
       "      <td>7</td>\n",
       "      <td>13</td>\n",
       "      <td>2019-08-25 13:21:55</td>\n",
       "      <td>4999.0</td>\n",
       "      <td>Cash</td>\n",
       "      <td>1.0</td>\n",
       "    </tr>\n",
       "    <tr>\n",
       "      <th>600</th>\n",
       "      <td>16254498222</td>\n",
       "      <td>NaN</td>\n",
       "      <td>NaN</td>\n",
       "      <td>NaN</td>\n",
       "      <td>2019-08-25 13:21:44</td>\n",
       "      <td>2019-08-25 13:43:23</td>\n",
       "      <td>1299.0</td>\n",
       "      <td>2019-08-25</td>\n",
       "      <td>8</td>\n",
       "      <td>7</td>\n",
       "      <td>13</td>\n",
       "      <td>2019-08-25 13:21:55</td>\n",
       "      <td>4999.0</td>\n",
       "      <td>Cash</td>\n",
       "      <td>1.0</td>\n",
       "    </tr>\n",
       "  </tbody>\n",
       "</table>\n",
       "</div>"
      ],
      "text/plain": [
       "         user_id region device channel       session_start         session_end  sessiondurationsec session_date  month  day  hour_of_day  \\\n",
       "599  16254498222    NaN    NaN     NaN 2019-08-25 13:21:44 2019-08-25 13:43:23              1299.0   2019-08-25      8    7           13   \n",
       "600  16254498222    NaN    NaN     NaN 2019-08-25 13:21:44 2019-08-25 13:43:23              1299.0   2019-08-25      8    7           13   \n",
       "\n",
       "               order_dt  revenue payment_type  promo_code  \n",
       "599 2019-08-25 13:21:55   4999.0         Cash         1.0  \n",
       "600 2019-08-25 13:21:55   4999.0         Cash         1.0  "
      ]
     },
     "execution_count": 12,
     "metadata": {},
     "output_type": "execute_result"
    }
   ],
   "source": [
    "# Is there any NaN values left in those columns?\n",
    "\n",
    "df[df[r_d_c].isna().all(axis=1)]"
   ]
  },
  {
   "cell_type": "code",
   "execution_count": null,
   "id": "dc6f2221-d627-4027-8ef9-b9a69cd46e3b",
   "metadata": {},
   "outputs": [],
   "source": [
    "# Yes. We can handle this record by replacing NaN values by their respective mode\n",
    "\n",
    "# METHOD 1\n",
    "# for col in ['region', 'device', 'channel']:\n",
    "#     df[col] = df[col].fillna(df[col].mode()[0])\n",
    "\n",
    "# METHOD 2\n",
    "df.fillna({col: df[col].mode()[0] for col in r_d_c}, inplace=True)"
   ]
  },
  {
   "cell_type": "code",
   "execution_count": null,
   "id": "bbb4c1dd-745f-4a6f-a57c-6de4d9b1c55c",
   "metadata": {},
   "outputs": [],
   "source": [
    "# Check again for NaN values\n",
    "\n",
    "plot_missing_values(df)"
   ]
  },
  {
   "cell_type": "markdown",
   "id": "db126a51-34ac-41d2-b2c4-b016d215d740",
   "metadata": {},
   "source": [
    "# Handle Outliers in Revenue Column"
   ]
  },
  {
   "cell_type": "code",
   "execution_count": null,
   "id": "80cfc831-d748-4193-b211-ca308478d650",
   "metadata": {},
   "outputs": [],
   "source": [
    "plot_category(df, 'revenue', save=False)"
   ]
  },
  {
   "cell_type": "code",
   "execution_count": null,
   "id": "7a4560fc-2824-49f3-9374-7a8444e2964c",
   "metadata": {},
   "outputs": [],
   "source": [
    "df['revenue'] = np.where(df['revenue'] > 9999, 9999, df['revenue'])\n",
    "df['revenue'] = np.where(df['revenue'] < 4999, 4999, df['revenue'])\n",
    "\n",
    "plot_category(df, 'revenue', save=False)"
   ]
  },
  {
   "cell_type": "markdown",
   "id": "70b077fe-3897-4ba4-8fd7-14438d8151d4",
   "metadata": {},
   "source": [
    "# Create New Feature With Discount Applied\n",
    "\n",
    "`добавить столбец с итоговой суммой покупки с учетом применения\n",
    "промокода на скидку 10%`"
   ]
  },
  {
   "cell_type": "code",
   "execution_count": null,
   "id": "3bac87e6-7199-43af-a8d1-0f228e2150c0",
   "metadata": {},
   "outputs": [],
   "source": [
    "df['final_price'] = np.where(df['promo_code'] == 1, df['revenue'] * 0.9, df['revenue'])"
   ]
  },
  {
   "cell_type": "markdown",
   "id": "eb50e921-b234-452d-90d4-8a2dd2fe6254",
   "metadata": {},
   "source": [
    "# Create New Feaute: Time of the Day\n",
    "\n",
    "`добавить столбец с указанием времени суток визита (утро 06:00-09:59,\n",
    "день 10:00-16:59, вечер 17:00-21:59, ночь 22:00-05:59)`"
   ]
  },
  {
   "cell_type": "code",
   "execution_count": null,
   "id": "6d4999bf-7514-4037-ba4a-47f63d4c609f",
   "metadata": {},
   "outputs": [],
   "source": [
    "def get_time_of_day(hour):\n",
    "   if 6 <= hour < 10:\n",
    "       return 'morning'\n",
    "   elif 10 <= hour < 17:\n",
    "       return 'day'  \n",
    "   elif 17 <= hour < 22:\n",
    "       return 'evening'\n",
    "   else:\n",
    "       return 'night'\n",
    "\n",
    "df['time_of_day'] = df['session_start'].dt.hour.map(get_time_of_day)"
   ]
  },
  {
   "cell_type": "markdown",
   "id": "fd7d52f6-7202-400a-a6af-862361f572e4",
   "metadata": {},
   "source": [
    "# Create New Feature: Did User Purchase\n",
    "\n",
    "`добавить столбец “payer” с информацией о том, является ли\n",
    "пользователь платящим или нет.`"
   ]
  },
  {
   "cell_type": "code",
   "execution_count": null,
   "id": "8a362c65-7ee5-41b7-a768-8435cbaa8560",
   "metadata": {},
   "outputs": [],
   "source": [
    "df['sold'] = df['revenue'].notna().astype(int)\n"
   ]
  },
  {
   "cell_type": "markdown",
   "id": "87517ac3-38ff-41ec-a41b-1309b36b0e32",
   "metadata": {
    "jp-MarkdownHeadingCollapsed": true
   },
   "source": [
    "# Inspect Data Again"
   ]
  },
  {
   "cell_type": "code",
   "execution_count": null,
   "id": "3567de99-7366-4180-843e-dafb9d7c3c6f",
   "metadata": {},
   "outputs": [],
   "source": [
    "inspect_data(df)"
   ]
  },
  {
   "cell_type": "markdown",
   "id": "f655df84-1209-4540-8db4-121ee0d77b56",
   "metadata": {},
   "source": [
    "# Save Changes"
   ]
  },
  {
   "cell_type": "code",
   "execution_count": null,
   "id": "a44714df-fc1f-44ad-aa27-6a9d1a1d2ddc",
   "metadata": {},
   "outputs": [],
   "source": [
    "df.to_csv('data_part_2.csv', index=False)"
   ]
  },
  {
   "cell_type": "code",
   "execution_count": null,
   "id": "73a49a09-80da-44f6-b973-6e7838184ba0",
   "metadata": {},
   "outputs": [],
   "source": []
  }
 ],
 "metadata": {
  "kernelspec": {
   "display_name": "Python 3 (ipykernel)",
   "language": "python",
   "name": "python3"
  },
  "language_info": {
   "codemirror_mode": {
    "name": "ipython",
    "version": 3
   },
   "file_extension": ".py",
   "mimetype": "text/x-python",
   "name": "python",
   "nbconvert_exporter": "python",
   "pygments_lexer": "ipython3",
   "version": "3.12.7"
  }
 },
 "nbformat": 4,
 "nbformat_minor": 5
}
