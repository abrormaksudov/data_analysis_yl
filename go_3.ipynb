{
 "cells": [
  {
   "cell_type": "code",
   "execution_count": 1,
   "id": "9fc2ca1f-b06d-4202-9de5-46918befadef",
   "metadata": {},
   "outputs": [],
   "source": [
    "import pandas as pd\n",
    "import polars as pl\n",
    "import numpy as np\n",
    "from scipy import stats\n",
    "import matplotlib.pyplot as plt\n",
    "import seaborn as sns\n",
    "pd.set_option('display.width', 150)\n",
    "pd.set_option('future.no_silent_downcasting', True)\n",
    "pd.set_option('display.max_columns', 1000)\n",
    "pd.set_option('display.max_rows', 1000)\n",
    "sns.set()"
   ]
  },
  {
   "cell_type": "code",
   "execution_count": 2,
   "id": "3848444f-ab66-4eac-ad65-f0f67eb7c924",
   "metadata": {},
   "outputs": [
    {
     "name": "stdout",
     "output_type": "stream",
     "text": [
      "(1009, 19)\n",
      "['user_id', 'region', 'device', 'channel', 'session_start', 'session_end', 'sessiondurationsec', 'session_date', 'month', 'day', 'hour_of_day', 'order_dt', 'revenue', 'payment_type', 'promo_code', 'final_price', 'time_of_day', 'payer', 'week']\n"
     ]
    }
   ],
   "source": [
    "dates = ['session_start', 'session_end', 'session_date', 'order_dt']\n",
    "df = pd.read_csv('ecom_go_2.csv', parse_dates=dates)\n",
    "df_pl = pl.from_pandas(df)\n",
    "\n",
    "print(df.shape)\n",
    "print(df.columns.tolist())"
   ]
  },
  {
   "cell_type": "code",
   "execution_count": 3,
   "id": "03c50458-a89f-4537-a594-ea495d22878b",
   "metadata": {},
   "outputs": [
    {
     "name": "stdout",
     "output_type": "stream",
     "text": [
      "<class 'pandas.core.frame.DataFrame'>\n",
      "RangeIndex: 1009 entries, 0 to 1008\n",
      "Data columns (total 19 columns):\n",
      " #   Column              Non-Null Count  Dtype         \n",
      "---  ------              --------------  -----         \n",
      " 0   user_id             1009 non-null   int64         \n",
      " 1   region              1009 non-null   object        \n",
      " 2   device              1009 non-null   object        \n",
      " 3   channel             1009 non-null   object        \n",
      " 4   session_start       1009 non-null   datetime64[ns]\n",
      " 5   session_end         1009 non-null   datetime64[ns]\n",
      " 6   sessiondurationsec  1009 non-null   int64         \n",
      " 7   session_date        1009 non-null   datetime64[ns]\n",
      " 8   month               1009 non-null   int64         \n",
      " 9   day                 1009 non-null   int64         \n",
      " 10  hour_of_day         1009 non-null   int64         \n",
      " 11  order_dt            282 non-null    datetime64[ns]\n",
      " 12  revenue             1009 non-null   int64         \n",
      " 13  payment_type        282 non-null    object        \n",
      " 14  promo_code          282 non-null    float64       \n",
      " 15  final_price         282 non-null    float64       \n",
      " 16  time_of_day         1009 non-null   object        \n",
      " 17  payer               1009 non-null   int64         \n",
      " 18  week                1009 non-null   object        \n",
      "dtypes: datetime64[ns](4), float64(2), int64(7), object(6)\n",
      "memory usage: 149.9+ KB\n"
     ]
    }
   ],
   "source": [
    "df.info()"
   ]
  },
  {
   "cell_type": "code",
   "execution_count": 5,
   "id": "bbb164ab-7ffd-4c98-84b3-07612a1c3d4d",
   "metadata": {},
   "outputs": [
    {
     "name": "stdout",
     "output_type": "stream",
     "text": [
      "(1009, 19) 282\n",
      "(1009, 19) 282\n",
      "(1003, 19) 276\n"
     ]
    }
   ],
   "source": [
    "df_unchanged = df.copy()\n",
    "print(df_unchanged.shape, df_unchanged['payer'].sum())\n",
    "\n",
    "df_replaced = df.copy()\n",
    "df_replaced['revenue'] = np.where(df_replaced['revenue'] > 9999, 9999, df_replaced['revenue'])\n",
    "df_replaced['revenue'] = np.where(df_replaced['revenue'] < 4999, 4999, df_replaced['revenue'])\n",
    "print(df_replaced.shape, df_replaced['payer'].sum())\n",
    "\n",
    "df_removed = df.copy()\n",
    "to_remove = df[df['revenue'].isin([1, 100000])].index\n",
    "df_removed.drop(to_remove, inplace=True)\n",
    "print(df_removed.shape, df_removed['payer'].sum())\n",
    "\n",
    "\n",
    "dfs = [df_unchanged, df_replaced, df_removed]"
   ]
  },
  {
   "cell_type": "code",
   "execution_count": 6,
   "id": "23bae6bc-2f3e-455e-a71a-06209e8c4509",
   "metadata": {
    "jupyter": {
     "source_hidden": true
    }
   },
   "outputs": [],
   "source": [
    "# usa_df = df[(df['region'] == 'United States')]\n",
    "# france_df = df[(df['region'] == 'France')]\n",
    "# germany_df = df[(df['region'] == 'Germany')]\n",
    "# uk_df = df[(df['region'] == 'UK')]\n",
    "\n",
    "# dfs = [usa_df, france_df, germany_df, uk_df]\n",
    "\n",
    "# for df in dfs:\n",
    "\n",
    "# def analyze_trends(df):\n",
    "#     region_share = df.groupby('region')['payer'].value_counts(normalize=True).unstack().round(3)\n",
    "#     source_share = df.groupby('channel')['payer'].value_counts(normalize=True).unstack().round(3)\n",
    "#     device_share = df.groupby('device')['payer'].value_counts(normalize=True).unstack().round(3)\n",
    "    \n",
    "#     region_count = df.groupby('region')['payer'].value_counts().unstack()\n",
    "#     source_count = df.groupby('channel')['payer'].value_counts().unstack()\n",
    "#     device_count = df.groupby('device')['payer'].value_counts().unstack()\n",
    "\n",
    "#     results = [region_share, source_share, device_share, region_count, source_count, device_count]\n",
    "\n",
    "#     for result in results:\n",
    "#         print(result)\n",
    "#         print()\n",
    "\n",
    "# # dfs = [df_unchanged, df_removed]\n",
    "# # for df_go in dfs:\n",
    "# #     analyze_trends(df_go)\n",
    "# #     print('-' * 20)\n",
    "\n",
    "\n",
    "# channel = ['organic', 'email-рассылки', 'реклама у блогеров', 'социальные сети',  'контекстная реклама', ]\n",
    "# day = ['night', 'morning', 'day', 'evening']\n",
    "# df['month'] = pd.Categorical(df['month'], ordered=True, categories=sorted(df['month'].unique()))\n",
    "# df['day'] = pd.Categorical(df['day'], ordered=True, categories=sorted(df['day'].unique()))\n",
    "# df['hour_of_day'] = pd.Categorical(df['hour_of_day'], ordered=True, categories=sorted(df['hour_of_day'].unique()))\n",
    "# df['channel'] = pd.Categorical(df['channel'], ordered=True, categories=channel)\n",
    "# df['time_of_day'] = pd.Categorical(df['time_of_day'], ordered=True, categories=day)\n",
    "# df['revenue'] = pd.Categorical(df['revenue'], ordered=True, categories=sorted(df['revenue'].dropna().unique()))"
   ]
  },
  {
   "cell_type": "markdown",
   "id": "31d51ca6-8ae0-4092-86e4-96e0bf5c62c0",
   "metadata": {
    "jp-MarkdownHeadingCollapsed": true
   },
   "source": [
    "### `Доля продаж по регионам`"
   ]
  },
  {
   "cell_type": "code",
   "execution_count": 7,
   "id": "aef1d0d1-0761-49bc-86a6-79846469ca31",
   "metadata": {},
   "outputs": [
    {
     "name": "stdout",
     "output_type": "stream",
     "text": [
      "payer              0      1\n",
      "region                     \n",
      "France         0.750  0.250\n",
      "Germany        0.757  0.243\n",
      "UK             0.709  0.291\n",
      "United States  0.712  0.288\n",
      "\n",
      "payer              0      1\n",
      "region                     \n",
      "France         0.765  0.235\n",
      "Germany        0.757  0.243\n",
      "UK             0.716  0.284\n",
      "United States  0.716  0.284\n",
      "\n"
     ]
    }
   ],
   "source": [
    "def sales_prop_by_region(df):\n",
    "    grouped = df.groupby('region')['payer'].value_counts(normalize=True).unstack().round(3)\n",
    "    # plt.figure()\n",
    "    # sns.heatmap(grouped, annot=True, cmap=\"YlGnBu\")\n",
    "    return grouped\n",
    "    \n",
    "dfs = [df_unchanged, df_removed]\n",
    "for df_go in dfs:\n",
    "    print(sales_prop_by_region(df_go))\n",
    "    print()"
   ]
  },
  {
   "cell_type": "markdown",
   "id": "a39a8f51-a737-4b2c-84b1-504276fbcb08",
   "metadata": {
    "jp-MarkdownHeadingCollapsed": true
   },
   "source": [
    "### `Доля продаж по источникам`"
   ]
  },
  {
   "cell_type": "code",
   "execution_count": 8,
   "id": "c7637ee7-c12a-4769-9fc7-6a1e49d20b38",
   "metadata": {},
   "outputs": [
    {
     "name": "stdout",
     "output_type": "stream",
     "text": [
      "payer                   0     1\n",
      "channel                        \n",
      "email-рассылки       0.71  0.29\n",
      "organic              0.75  0.25\n",
      "контекстная реклама  0.72  0.28\n",
      "реклама у блогеров   0.71  0.29\n",
      "социальные сети      0.70  0.30\n",
      "\n",
      "payer                   0     1\n",
      "channel                        \n",
      "email-рассылки       0.71  0.29\n",
      "organic              0.75  0.25\n",
      "контекстная реклама  0.72  0.28\n",
      "реклама у блогеров   0.73  0.27\n",
      "социальные сети      0.70  0.30\n",
      "\n"
     ]
    }
   ],
   "source": [
    "def sales_prop_by_channel(df):\n",
    "    grouped = df.groupby('channel')['payer'].value_counts(normalize=True).unstack().round(2)\n",
    "    # plt.figure()\n",
    "    # sns.heatmap(grouped, annot=True, cmap=\"YlGnBu\")\n",
    "    return grouped\n",
    "\n",
    "dfs = [df_unchanged, df_removed]\n",
    "for df_go in dfs:\n",
    "    print(sales_prop_by_channel(df_go))\n",
    "    print()"
   ]
  },
  {
   "cell_type": "markdown",
   "id": "7b5ee9db-322f-4362-b3dc-646b378be92a",
   "metadata": {
    "jp-MarkdownHeadingCollapsed": true
   },
   "source": [
    "### `Доля продаж по устройствам`"
   ]
  },
  {
   "cell_type": "code",
   "execution_count": 9,
   "id": "86e53911-69c8-49b3-8f76-147ff10bada0",
   "metadata": {},
   "outputs": [
    {
     "name": "stdout",
     "output_type": "stream",
     "text": [
      "payer       0     1\n",
      "device             \n",
      "Android  0.69  0.31\n",
      "Mac      0.71  0.29\n",
      "PC       0.75  0.25\n",
      "iPhone   0.73  0.27\n",
      "\n",
      "payer       0     1\n",
      "device             \n",
      "Android  0.69  0.31\n",
      "Mac      0.71  0.29\n",
      "PC       0.76  0.24\n",
      "iPhone   0.74  0.26\n",
      "\n"
     ]
    }
   ],
   "source": [
    "def sales_prop_by_device(df):\n",
    "    grouped = df.groupby('device')['payer'].value_counts(normalize=True).unstack().round(2)\n",
    "    # plt.figure()\n",
    "    # sns.heatmap(grouped, annot=True, cmap=\"YlGnBu\")\n",
    "    return grouped\n",
    "\n",
    "dfs = [df_unchanged, df_removed]\n",
    "for df_go in dfs:\n",
    "    print(sales_prop_by_device(df_go))\n",
    "    print()"
   ]
  },
  {
   "cell_type": "markdown",
   "id": "852b5d66-41a1-4b87-8f14-81e7c647aa92",
   "metadata": {
    "jp-MarkdownHeadingCollapsed": true
   },
   "source": [
    "### `Количество пользователей с разбивкой на платящих/не платящих по регионам`"
   ]
  },
  {
   "cell_type": "code",
   "execution_count": 10,
   "id": "a39d8c1b-e9f0-473a-95b2-271cf5798694",
   "metadata": {},
   "outputs": [
    {
     "name": "stdout",
     "output_type": "stream",
     "text": [
      "payer            0    1\n",
      "region                 \n",
      "France          78   26\n",
      "Germany         78   25\n",
      "UK              83   34\n",
      "United States  488  197\n",
      "\n",
      "payer            0    1\n",
      "region                 \n",
      "France          78   24\n",
      "Germany         78   25\n",
      "UK              83   33\n",
      "United States  488  194\n",
      "\n"
     ]
    }
   ],
   "source": [
    "def sales_count_by_region(df):\n",
    "    grouped = df.groupby('region')['payer'].value_counts().unstack().round(2)\n",
    "    # plt.figure()\n",
    "    # sns.heatmap(grouped, annot=True, cmap=\"YlGnBu\", fmt='.0f')\n",
    "    return grouped\n",
    "\n",
    "dfs = [df_unchanged, df_removed]\n",
    "for df_go in dfs:\n",
    "    print(sales_count_by_region(df_go))\n",
    "    print()"
   ]
  },
  {
   "cell_type": "markdown",
   "id": "19bd7d87-e69f-4464-9e34-b4adb4aa5b9f",
   "metadata": {
    "jp-MarkdownHeadingCollapsed": true
   },
   "source": [
    "### `Количество пользователей с разбивкой на платящих/не платящих по источникам`"
   ]
  },
  {
   "cell_type": "code",
   "execution_count": 11,
   "id": "702035cf-fe9c-4a13-bca4-da95cda312af",
   "metadata": {},
   "outputs": [
    {
     "name": "stdout",
     "output_type": "stream",
     "text": [
      "payer                  0    1\n",
      "channel                      \n",
      "email-рассылки        17    7\n",
      "organic              259   88\n",
      "контекстная реклама  117   45\n",
      "реклама у блогеров    72   29\n",
      "социальные сети      262  113\n",
      "\n",
      "payer                  0    1\n",
      "channel                      \n",
      "email-рассылки        17    7\n",
      "organic              259   85\n",
      "контекстная реклама  117   45\n",
      "реклама у блогеров    72   27\n",
      "социальные сети      262  112\n",
      "\n"
     ]
    }
   ],
   "source": [
    "def sales_count_by_channel(df):\n",
    "    grouped = df.groupby('channel')['payer'].value_counts().unstack().round(2)\n",
    "    # plt.figure()\n",
    "    # sns.heatmap(grouped, annot=True, cmap=\"YlGnBu\", fmt='.0f')\n",
    "    return grouped\n",
    "\n",
    "dfs = [df_unchanged, df_removed]\n",
    "for df_go in dfs:\n",
    "    print(sales_count_by_channel(df_go))\n",
    "    print()"
   ]
  },
  {
   "cell_type": "markdown",
   "id": "8276994a-d682-45a3-b5a6-0e3e13ab9ed9",
   "metadata": {
    "jp-MarkdownHeadingCollapsed": true
   },
   "source": [
    "### `Количество пользователей с разбивкой на платящих/не платящих по устройствам`"
   ]
  },
  {
   "cell_type": "code",
   "execution_count": 12,
   "id": "ebe8dd07-4f9c-4cbc-9463-a61339b378e9",
   "metadata": {},
   "outputs": [
    {
     "name": "stdout",
     "output_type": "stream",
     "text": [
      "payer      0   1\n",
      "device          \n",
      "Android  165  73\n",
      "Mac      146  61\n",
      "PC       155  52\n",
      "iPhone   261  96\n",
      "\n",
      "payer      0   1\n",
      "device          \n",
      "Android  165  73\n",
      "Mac      146  60\n",
      "PC       155  49\n",
      "iPhone   261  94\n",
      "\n"
     ]
    }
   ],
   "source": [
    "def sales_count_by_device(df):\n",
    "    grouped = df.groupby('device')['payer'].value_counts().unstack().round(2)\n",
    "    # plt.figure()\n",
    "    # sns.heatmap(grouped, annot=True, cmap=\"YlGnBu\", fmt='.0f')\n",
    "    return grouped\n",
    "\n",
    "dfs = [df_unchanged, df_removed]\n",
    "for df_go in dfs:\n",
    "    print(sales_count_by_device(df_go))\n",
    "    print()"
   ]
  },
  {
   "cell_type": "markdown",
   "id": "52d73e6a-4f45-41df-9f4a-0942c21a0e93",
   "metadata": {
    "jp-MarkdownHeadingCollapsed": true
   },
   "source": [
    "### `Графики, показывающие есть ли сезонность в продажах по месяцам, дням недели, времени суток`"
   ]
  },
  {
   "cell_type": "code",
   "execution_count": 13,
   "id": "f306a78f-5ba7-4f76-8ae3-c640aa3eb1b4",
   "metadata": {},
   "outputs": [
    {
     "data": {
      "image/png": "[encoded data removed]",
      "text/plain": [
       "<Figure size 1500x500 with 3 Axes>"
      ]
     },
     "metadata": {},
     "output_type": "display_data"
    }
   ],
   "source": [
    "def analyze_time_series(df):\n",
    "    fig, axes = plt.subplots(1, 3, figsize=(15, 5))\n",
    "    \n",
    "    # Monthly\n",
    "    monthly_sales = df[df['payer']==1]['month'].value_counts().sort_index()\n",
    "    sns.barplot(x=monthly_sales.index, y=monthly_sales.values, ax=axes[0])\n",
    "    for i, v in enumerate(monthly_sales.values):\n",
    "       axes[0].text(i, v, str(v), ha='center', va='bottom')\n",
    "    axes[0].set_xticks(range(len(range(5, 11))))\n",
    "    axes[0].set_xticklabels(['May', 'Jun', 'Jul', 'Aug', 'Sep', 'Oct'])\n",
    "    \n",
    "    # Weekday\n",
    "    weekday_sales = df[df['payer']==1]['day'].value_counts().sort_index()\n",
    "    sns.barplot(x=weekday_sales.index, y=weekday_sales.values, ax=axes[1])\n",
    "    for i, v in enumerate(weekday_sales.values):\n",
    "       axes[1].text(i, v, str(v), ha='center', va='bottom')\n",
    "    axes[1].set_xticks(range(7))\n",
    "    axes[1].set_xticklabels(['Mon', 'Tue', 'Wed', 'Thu', 'Fri', 'Sat', 'Sun'])\n",
    "    \n",
    "    # Hourly\n",
    "    hourly_sales = df[df['payer']==1]['hour_of_day'].value_counts().sort_index()\n",
    "    sns.barplot(x=hourly_sales.index, y=hourly_sales.values, ax=axes[2])\n",
    "    for i, v in enumerate(hourly_sales.values):\n",
    "       axes[2].text(i, v, str(v), ha='center', va='bottom')\n",
    "\n",
    "    plt.tight_layout()\n",
    "    plt.show()\n",
    "\n",
    "analyze_time_series(df)"
   ]
  },
  {
   "cell_type": "markdown",
   "id": "0c66abe8-8fed-4782-917b-71def166ef2f",
   "metadata": {},
   "source": [
    "### `Диаграмма количества покупок по типу оплаты`"
   ]
  },
  {
   "cell_type": "code",
   "execution_count": 2,
   "id": "7e451d1d-4ae4-48a6-a160-e303f8701e98",
   "metadata": {},
   "outputs": [
    {
     "ename": "NameError",
     "evalue": "name 'df' is not defined",
     "output_type": "error",
     "traceback": [
      "\u001b[0;31m---------------------------------------------------------------------------\u001b[0m",
      "\u001b[0;31mNameError\u001b[0m                                 Traceback (most recent call last)",
      "Cell \u001b[0;32mIn[2], line 49\u001b[0m\n\u001b[1;32m     46\u001b[0m     plt\u001b[38;5;241m.\u001b[39mshow()\n\u001b[1;32m     48\u001b[0m cols \u001b[38;5;241m=\u001b[39m [\u001b[38;5;124m'\u001b[39m\u001b[38;5;124mpayment_type\u001b[39m\u001b[38;5;124m'\u001b[39m, \u001b[38;5;124m'\u001b[39m\u001b[38;5;124mchannel\u001b[39m\u001b[38;5;124m'\u001b[39m, \u001b[38;5;124m'\u001b[39m\u001b[38;5;124mdevice\u001b[39m\u001b[38;5;124m'\u001b[39m, \u001b[38;5;124m'\u001b[39m\u001b[38;5;124mrevenue\u001b[39m\u001b[38;5;124m'\u001b[39m, \u001b[38;5;124m'\u001b[39m\u001b[38;5;124mregion\u001b[39m\u001b[38;5;124m'\u001b[39m, \u001b[38;5;124m'\u001b[39m\u001b[38;5;124mmonth\u001b[39m\u001b[38;5;124m'\u001b[39m, \u001b[38;5;124m'\u001b[39m\u001b[38;5;124mday\u001b[39m\u001b[38;5;124m'\u001b[39m, \u001b[38;5;124m'\u001b[39m\u001b[38;5;124mtime_of_day\u001b[39m\u001b[38;5;124m'\u001b[39m]\n\u001b[0;32m---> 49\u001b[0m analyze_distribution(\u001b[43mdf\u001b[49m, cols, normalize\u001b[38;5;241m=\u001b[39m\u001b[38;5;28;01mTrue\u001b[39;00m)\n",
      "\u001b[0;31mNameError\u001b[0m: name 'df' is not defined"
     ]
    }
   ],
   "source": [
    "def analyze_distribution(df, factors, dropna=False, normalize=True, paid=False):\n",
    "    if paid:\n",
    "        df = df[df['payer'] == 1]\n",
    "        \n",
    "    n_rows = int(np.ceil(len(factors) / 2))\n",
    "    fig, axes = plt.subplots(n_rows, 2, figsize=(15, 4 * n_rows))\n",
    "    if n_rows == 1:\n",
    "        axes = axes.reshape(1, -1)\n",
    "    \n",
    "    for pos, factor in enumerate(factors):\n",
    "        row = pos // 2\n",
    "        col = pos % 2\n",
    "        \n",
    "        if dropna:\n",
    "            counts = df[factor].value_counts(normalize=normalize)\n",
    "            total_count = df[factor].count()\n",
    "        else:\n",
    "            df_copy = df.copy()\n",
    "            df_copy[factor] = df_copy[factor].fillna('Не купил')\n",
    "            counts = df_copy[factor].value_counts(normalize=normalize)\n",
    "            total_count = df_copy[factor].count()\n",
    "        \n",
    "        sns.barplot(y=counts.index, x=counts.values, \n",
    "                   ax=axes[row, col], order=counts.index,\n",
    "                   orient='h')\n",
    "        \n",
    "        for i, v in enumerate(counts.values):\n",
    "            if normalize:\n",
    "                label = f'{v:.1%}'\n",
    "            else:\n",
    "                label = f'{int(v):,}'\n",
    "            axes[row, col].text(v + (v * 0.01), i, label, \n",
    "                              va='center', ha='left')\n",
    "        \n",
    "        axes[row, col].set_title(factor, fontsize=16)\n",
    "        axes[row, col].set_ylabel('')\n",
    "        axes[row, col].set_xlim(0, max(counts.values) * 1.15)\n",
    "        axes[row, col].text(0.97, 0.05, \n",
    "                          f'Total records: {total_count:,}',\n",
    "                          transform=axes[row, col].transAxes,\n",
    "                          ha='right', va='bottom',\n",
    "                          bbox=dict(facecolor='white', alpha=0.8, edgecolor='none'))\n",
    "        axes[n_rows-1, 1].set_visible(False)\n",
    "    \n",
    "    plt.tight_layout()\n",
    "    plt.show()\n",
    "\n",
    "cols = ['payment_type', 'channel', 'device', 'revenue', 'region', 'month', 'day', 'time_of_day']\n",
    "analyze_distribution(df, cols, normalize=True)"
   ]
  },
  {
   "cell_type": "code",
   "execution_count": null,
   "id": "d656075d-2046-4316-a8cf-a6ea37eb5a4c",
   "metadata": {},
   "outputs": [],
   "source": []
  }
 ],
 "metadata": {
  "kernelspec": {
   "display_name": "Python 3 (ipykernel)",
   "language": "python",
   "name": "python3"
  },
  "language_info": {
   "codemirror_mode": {
    "name": "ipython",
    "version": 3
   },
   "file_extension": ".py",
   "mimetype": "text/x-python",
   "name": "python",
   "nbconvert_exporter": "python",
   "pygments_lexer": "ipython3",
   "version": "3.12.3"
  }
 },
 "nbformat": 4,
 "nbformat_minor": 5
}
