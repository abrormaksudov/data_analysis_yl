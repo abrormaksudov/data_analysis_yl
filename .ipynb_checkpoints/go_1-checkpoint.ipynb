{
 "cells": [
  {
   "cell_type": "code",
   "execution_count": 1,
   "id": "84b5b5f6-6651-447a-9aa3-9546c09d0171",
   "metadata": {},
   "outputs": [],
   "source": [
    "import pandas as pd\n",
    "import numpy as np\n",
    "from scipy import stats\n",
    "import matplotlib.pyplot as plt\n",
    "import seaborn as sns\n",
    "pd.set_option('display.width', 150)\n",
    "pd.set_option('future.no_silent_downcasting', True)\n",
    "pd.set_option('display.max_columns', 1000)\n",
    "pd.set_option('display.max_rows', 1000)\n",
    "sns.set()"
   ]
  },
  {
   "cell_type": "code",
   "execution_count": 2,
   "id": "06e53201-bd13-47f9-b482-cea30f7c9de6",
   "metadata": {},
   "outputs": [
    {
     "name": "stdout",
     "output_type": "stream",
     "text": [
      "(1012, 15)\n",
      "['user_id', 'region', 'device', 'channel', 'session_start', 'session_end', 'sessiondurationsec', 'session_date', 'month', 'day', 'hour_of_day', 'order_dt', 'revenue', 'payment_type', 'promo_code']\n"
     ]
    }
   ],
   "source": [
    "df = pd.read_csv('data.csv')\n",
    "df.columns = df.columns.str.lower().str.replace(' ', '_')\n",
    "print(df.shape)\n",
    "print(df.columns.tolist())"
   ]
  },
  {
   "cell_type": "code",
   "execution_count": 3,
   "id": "8b15d920-7d2b-4fc5-bd5d-dfda601cb8e0",
   "metadata": {},
   "outputs": [
    {
     "name": "stdout",
     "output_type": "stream",
     "text": [
      "<class 'pandas.core.frame.DataFrame'>\n",
      "RangeIndex: 1012 entries, 0 to 1011\n",
      "Data columns (total 15 columns):\n",
      " #   Column              Non-Null Count  Dtype  \n",
      "---  ------              --------------  -----  \n",
      " 0   user_id             1012 non-null   int64  \n",
      " 1   region              999 non-null    object \n",
      " 2   device              999 non-null    object \n",
      " 3   channel             999 non-null    object \n",
      " 4   session_start       1012 non-null   object \n",
      " 5   session_end         1012 non-null   object \n",
      " 6   sessiondurationsec  1012 non-null   float64\n",
      " 7   session_date        1012 non-null   object \n",
      " 8   month               1012 non-null   int64  \n",
      " 9   day                 1012 non-null   int64  \n",
      " 10  hour_of_day         1012 non-null   int64  \n",
      " 11  order_dt            285 non-null    object \n",
      " 12  revenue             285 non-null    float64\n",
      " 13  payment_type        285 non-null    object \n",
      " 14  promo_code          285 non-null    float64\n",
      "dtypes: float64(3), int64(4), object(8)\n",
      "memory usage: 118.7+ KB\n"
     ]
    }
   ],
   "source": [
    "df.info()"
   ]
  },
  {
   "cell_type": "code",
   "execution_count": 4,
   "id": "adc3f8f0-8cd5-46e4-9d5b-e3254eefa57a",
   "metadata": {},
   "outputs": [],
   "source": [
    "dates = ['session_start', 'session_end', 'session_date', 'order_dt']\n",
    "df[dates] = df[dates].astype('datetime64[ns]')\n",
    "\n",
    "df['sessiondurationsec'] = df['sessiondurationsec'].round().astype(int)\n",
    "df['promo_code'] = df['promo_code'].round()"
   ]
  },
  {
   "cell_type": "code",
   "execution_count": 5,
   "id": "c9ce1fd3-53e9-402f-b5a3-fa55ca0d6b01",
   "metadata": {},
   "outputs": [],
   "source": [
    "corrections = {\n",
    "    'region': {\n",
    "        'Frаnce': 'France',\n",
    "        'Frаncе': 'France',\n",
    "        'Franсe': 'France',\n",
    "        'Unjted States': 'United States',\n",
    "        'germany': 'Germany',\n",
    "        'UК': 'UK'\n",
    "    },\n",
    "    'device': {'android': 'Android'},\n",
    "    'channel': {'контексная реклама': 'контекстная реклама'}\n",
    "}\n",
    "df.replace(corrections, inplace=True)"
   ]
  },
  {
   "cell_type": "code",
   "execution_count": 6,
   "id": "f833b6aa-a1c9-4341-9a9a-e37587bf4f9c",
   "metadata": {},
   "outputs": [
    {
     "name": "stdout",
     "output_type": "stream",
     "text": [
      "Number of complete duplicates: 3\n"
     ]
    }
   ],
   "source": [
    "duplicates = df.duplicated().sum()\n",
    "print('Number of complete duplicates:', duplicates)\n",
    "df.drop_duplicates(inplace=True)"
   ]
  },
  {
   "cell_type": "code",
   "execution_count": 7,
   "id": "bb0aa50f-05e0-4a30-9be3-b9c318c78e40",
   "metadata": {},
   "outputs": [],
   "source": [
    "# Handle missing values\n",
    "r_d_c = ['region', 'device', 'channel']\n",
    "# Fill NaN for users who visited twice\n",
    "df[r_d_c] = df.groupby('user_id')[r_d_c].transform(lambda x: x.ffill())\n",
    "\n",
    "# Fill NaN with respective mode values\n",
    "df.fillna({col: df[col].mode()[0] for col in r_d_c}, inplace=True)"
   ]
  },
  {
   "cell_type": "markdown",
   "id": "fb029f13-6315-436a-84e9-18788ed50062",
   "metadata": {},
   "source": [
    "### `добавить столбец с итоговой суммой покупки с учетом применения промокода на скидку 10%`"
   ]
  },
  {
   "cell_type": "code",
   "execution_count": 8,
   "id": "9374faee-7251-45c6-addb-c91d584331d9",
   "metadata": {},
   "outputs": [],
   "source": [
    "df['final_price'] = np.where(df['promo_code'] == 1, df['revenue'] * 0.9, df['revenue'])"
   ]
  },
  {
   "cell_type": "markdown",
   "id": "4778fd02-1dd0-4803-b13a-97bc0b19890b",
   "metadata": {},
   "source": [
    "### `добавить столбец с указанием времени суток визита (утро 06:00-09:59, день 10:00-16:59, вечер 17:00-21:59, ночь 22:00-05:59)`"
   ]
  },
  {
   "cell_type": "code",
   "execution_count": 9,
   "id": "d546022c-ec21-4272-bd7b-5cfd69cd06b7",
   "metadata": {},
   "outputs": [],
   "source": [
    "def get_time_of_day(hour):\n",
    "   if 6 <= hour < 10:\n",
    "       return 'morning'\n",
    "   elif 10 <= hour < 17:\n",
    "       return 'day'  \n",
    "   elif 17 <= hour < 22:\n",
    "       return 'evening'\n",
    "   else:\n",
    "       return 'night'\n",
    "\n",
    "df['time_of_day'] = df['session_start'].dt.hour.map(get_time_of_day)"
   ]
  },
  {
   "cell_type": "markdown",
   "id": "c349462c-e876-41bc-b69b-db9e9b2b9f74",
   "metadata": {},
   "source": [
    "### `добавить столбец “payer” с информацией о том, является ли пользователь платящим или нет.`"
   ]
  },
  {
   "cell_type": "code",
   "execution_count": 11,
   "id": "20ea40e8-8672-47e8-ba5d-91c7ca80b3c1",
   "metadata": {},
   "outputs": [],
   "source": [
    "df['payer'] = df['revenue'].notna().astype(int)\n",
    "df['revenue'] = df['revenue'].fillna(0).astype(int)"
   ]
  },
  {
   "cell_type": "code",
   "execution_count": 12,
   "id": "3c590ef4-87ab-4a10-94d2-7191583dc075",
   "metadata": {},
   "outputs": [],
   "source": [
    "df.to_csv('ecom_go.csv', index=False)"
   ]
  }
 ],
 "metadata": {
  "kernelspec": {
   "display_name": "Python 3 (ipykernel)",
   "language": "python",
   "name": "python3"
  },
  "language_info": {
   "codemirror_mode": {
    "name": "ipython",
    "version": 3
   },
   "file_extension": ".py",
   "mimetype": "text/x-python",
   "name": "python",
   "nbconvert_exporter": "python",
   "pygments_lexer": "ipython3",
   "version": "3.12.3"
  }
 },
 "nbformat": 4,
 "nbformat_minor": 5
}
