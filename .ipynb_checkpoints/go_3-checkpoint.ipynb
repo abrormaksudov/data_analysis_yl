{
 "cells": [
  {
   "cell_type": "code",
   "execution_count": 1,
   "id": "9fc2ca1f-b06d-4202-9de5-46918befadef",
   "metadata": {},
   "outputs": [],
   "source": [
    "import pandas as pd\n",
    "import polars as pl\n",
    "import numpy as np\n",
    "from scipy import stats\n",
    "import matplotlib.pyplot as plt\n",
    "import seaborn as sns\n",
    "pd.set_option('display.width', 150)\n",
    "pd.set_option('future.no_silent_downcasting', True)\n",
    "pd.set_option('display.max_columns', 1000)\n",
    "pd.set_option('display.max_rows', 1000)\n",
    "sns.set()"
   ]
  },
  {
   "cell_type": "code",
   "execution_count": 37,
   "id": "3848444f-ab66-4eac-ad65-f0f67eb7c924",
   "metadata": {},
   "outputs": [
    {
     "name": "stdout",
     "output_type": "stream",
     "text": [
      "(1009, 19)\n",
      "['user_id', 'region', 'device', 'channel', 'session_start', 'session_end', 'sessiondurationsec', 'session_date', 'month', 'day', 'hour_of_day', 'order_dt', 'revenue', 'payment_type', 'promo_code', 'final_price', 'time_of_day', 'payer', 'week']\n"
     ]
    }
   ],
   "source": [
    "dates = ['session_start', 'session_end', 'session_date', 'order_dt']\n",
    "df = pd.read_csv('ecom_go_2.csv', parse_dates=dates)\n",
    "df_pl = pl.from_pandas(df)\n",
    "\n",
    "# channel = ['organic', 'email-рассылки', 'реклама у блогеров', 'социальные сети',  'контекстная реклама', ]\n",
    "# day = ['night', 'morning', 'day', 'evening']\n",
    "# df['month'] = pd.Categorical(df['month'], ordered=True, categories=sorted(df['month'].unique()))\n",
    "# df['day'] = pd.Categorical(df['day'], ordered=True, categories=sorted(df['day'].unique()))\n",
    "# df['hour_of_day'] = pd.Categorical(df['hour_of_day'], ordered=True, categories=sorted(df['hour_of_day'].unique()))\n",
    "# df['channel'] = pd.Categorical(df['channel'], ordered=True, categories=channel)\n",
    "# df['time_of_day'] = pd.Categorical(df['time_of_day'], ordered=True, categories=day)\n",
    "# df['revenue'] = pd.Categorical(df['revenue'], ordered=True, categories=sorted(df['revenue'].dropna().unique()))\n",
    "\n",
    "print(df.shape)\n",
    "print(df.columns.tolist())"
   ]
  },
  {
   "cell_type": "code",
   "execution_count": 38,
   "id": "03c50458-a89f-4537-a594-ea495d22878b",
   "metadata": {},
   "outputs": [
    {
     "name": "stdout",
     "output_type": "stream",
     "text": [
      "<class 'pandas.core.frame.DataFrame'>\n",
      "RangeIndex: 1009 entries, 0 to 1008\n",
      "Data columns (total 19 columns):\n",
      " #   Column              Non-Null Count  Dtype         \n",
      "---  ------              --------------  -----         \n",
      " 0   user_id             1009 non-null   int64         \n",
      " 1   region              1009 non-null   object        \n",
      " 2   device              1009 non-null   object        \n",
      " 3   channel             1009 non-null   object        \n",
      " 4   session_start       1009 non-null   datetime64[ns]\n",
      " 5   session_end         1009 non-null   datetime64[ns]\n",
      " 6   sessiondurationsec  1009 non-null   int64         \n",
      " 7   session_date        1009 non-null   datetime64[ns]\n",
      " 8   month               1009 non-null   int64         \n",
      " 9   day                 1009 non-null   int64         \n",
      " 10  hour_of_day         1009 non-null   int64         \n",
      " 11  order_dt            282 non-null    datetime64[ns]\n",
      " 12  revenue             1009 non-null   int64         \n",
      " 13  payment_type        282 non-null    object        \n",
      " 14  promo_code          282 non-null    float64       \n",
      " 15  final_price         282 non-null    float64       \n",
      " 16  time_of_day         1009 non-null   object        \n",
      " 17  payer               1009 non-null   int64         \n",
      " 18  week                1009 non-null   object        \n",
      "dtypes: datetime64[ns](4), float64(2), int64(7), object(6)\n",
      "memory usage: 149.9+ KB\n"
     ]
    }
   ],
   "source": [
    "df.info()"
   ]
  },
  {
   "cell_type": "code",
   "execution_count": 116,
   "id": "bbb164ab-7ffd-4c98-84b3-07612a1c3d4d",
   "metadata": {},
   "outputs": [
    {
     "name": "stdout",
     "output_type": "stream",
     "text": [
      "(1009, 19) 282\n",
      "(1009, 19) 282\n",
      "(1003, 19) 282\n"
     ]
    }
   ],
   "source": [
    "df_unchanged = df.copy()\n",
    "print(df_unchanged.shape, df_replaced['payer'].sum())\n",
    "\n",
    "df_replaced = df.copy()\n",
    "df_replaced['revenue'] = np.where(df_replaced['revenue'] > 9999, 9999, df_replaced['revenue'])\n",
    "df_replaced['revenue'] = np.where(df_replaced['revenue'] < 4999, 4999, df_replaced['revenue'])\n",
    "print(df_replaced.shape, df_replaced['payer'].sum())\n",
    "\n",
    "df_removed = df.copy()\n",
    "to_remove = df[df['revenue'].isin([1, 100000])].index\n",
    "df_removed.drop(to_remove, inplace=True)\n",
    "print(df_removed.shape, df_replaced['payer'].sum())\n",
    "\n",
    "\n",
    "dfs = [df_unchanged, df_replaced, df_removed]"
   ]
  },
  {
   "cell_type": "code",
   "execution_count": 129,
   "id": "ecadee68-2d73-40a0-a8ad-6b8781297a09",
   "metadata": {},
   "outputs": [
    {
     "data": {
      "text/html": [
       "<div>\n",
       "<style scoped>\n",
       "    .dataframe tbody tr th:only-of-type {\n",
       "        vertical-align: middle;\n",
       "    }\n",
       "\n",
       "    .dataframe tbody tr th {\n",
       "        vertical-align: top;\n",
       "    }\n",
       "\n",
       "    .dataframe thead th {\n",
       "        text-align: right;\n",
       "    }\n",
       "</style>\n",
       "<table border=\"1\" class=\"dataframe\">\n",
       "  <thead>\n",
       "    <tr style=\"text-align: right;\">\n",
       "      <th></th>\n",
       "      <th>user_id</th>\n",
       "      <th>region</th>\n",
       "      <th>device</th>\n",
       "      <th>channel</th>\n",
       "      <th>session_start</th>\n",
       "      <th>session_end</th>\n",
       "      <th>sessiondurationsec</th>\n",
       "      <th>session_date</th>\n",
       "      <th>month</th>\n",
       "      <th>day</th>\n",
       "      <th>hour_of_day</th>\n",
       "      <th>order_dt</th>\n",
       "      <th>revenue</th>\n",
       "      <th>payment_type</th>\n",
       "      <th>promo_code</th>\n",
       "      <th>final_price</th>\n",
       "      <th>time_of_day</th>\n",
       "      <th>payer</th>\n",
       "      <th>week</th>\n",
       "    </tr>\n",
       "  </thead>\n",
       "  <tbody>\n",
       "    <tr>\n",
       "      <th>55</th>\n",
       "      <td>649969085224</td>\n",
       "      <td>United States</td>\n",
       "      <td>PC</td>\n",
       "      <td>organic</td>\n",
       "      <td>2019-05-15 23:16:53</td>\n",
       "      <td>2019-05-15 23:28:04</td>\n",
       "      <td>671</td>\n",
       "      <td>2019-05-15</td>\n",
       "      <td>5</td>\n",
       "      <td>3</td>\n",
       "      <td>23</td>\n",
       "      <td>2019-05-15 23:16:53</td>\n",
       "      <td>1</td>\n",
       "      <td>Cash</td>\n",
       "      <td>0.0</td>\n",
       "      <td>1.0</td>\n",
       "      <td>night</td>\n",
       "      <td>1</td>\n",
       "      <td>05-W20</td>\n",
       "    </tr>\n",
       "    <tr>\n",
       "      <th>56</th>\n",
       "      <td>777891466332</td>\n",
       "      <td>United States</td>\n",
       "      <td>iPhone</td>\n",
       "      <td>социальные сети</td>\n",
       "      <td>2019-05-15 15:52:06</td>\n",
       "      <td>2019-05-15 16:18:32</td>\n",
       "      <td>1586</td>\n",
       "      <td>2019-05-15</td>\n",
       "      <td>5</td>\n",
       "      <td>3</td>\n",
       "      <td>16</td>\n",
       "      <td>2019-05-15 15:52:06</td>\n",
       "      <td>1</td>\n",
       "      <td>Mobile payments</td>\n",
       "      <td>0.0</td>\n",
       "      <td>1.0</td>\n",
       "      <td>day</td>\n",
       "      <td>1</td>\n",
       "      <td>05-W20</td>\n",
       "    </tr>\n",
       "    <tr>\n",
       "      <th>94</th>\n",
       "      <td>94160026069</td>\n",
       "      <td>France</td>\n",
       "      <td>Mac</td>\n",
       "      <td>реклама у блогеров</td>\n",
       "      <td>2019-05-21 08:17:29</td>\n",
       "      <td>2019-05-21 08:24:15</td>\n",
       "      <td>406</td>\n",
       "      <td>2019-05-21</td>\n",
       "      <td>5</td>\n",
       "      <td>2</td>\n",
       "      <td>8</td>\n",
       "      <td>2019-05-21 08:17:29</td>\n",
       "      <td>100000</td>\n",
       "      <td>Mobile payments</td>\n",
       "      <td>0.0</td>\n",
       "      <td>100000.0</td>\n",
       "      <td>morning</td>\n",
       "      <td>1</td>\n",
       "      <td>05-W21</td>\n",
       "    </tr>\n",
       "    <tr>\n",
       "      <th>95</th>\n",
       "      <td>422703292792</td>\n",
       "      <td>France</td>\n",
       "      <td>PC</td>\n",
       "      <td>organic</td>\n",
       "      <td>2019-05-21 14:19:29</td>\n",
       "      <td>2019-05-21 14:48:00</td>\n",
       "      <td>1711</td>\n",
       "      <td>2019-05-21</td>\n",
       "      <td>5</td>\n",
       "      <td>2</td>\n",
       "      <td>14</td>\n",
       "      <td>2019-05-21 14:19:29</td>\n",
       "      <td>100000</td>\n",
       "      <td>Mobile payments</td>\n",
       "      <td>1.0</td>\n",
       "      <td>90000.0</td>\n",
       "      <td>day</td>\n",
       "      <td>1</td>\n",
       "      <td>05-W21</td>\n",
       "    </tr>\n",
       "    <tr>\n",
       "      <th>96</th>\n",
       "      <td>822055781011</td>\n",
       "      <td>United States</td>\n",
       "      <td>iPhone</td>\n",
       "      <td>реклама у блогеров</td>\n",
       "      <td>2019-05-21 05:50:33</td>\n",
       "      <td>2019-05-21 06:17:17</td>\n",
       "      <td>1604</td>\n",
       "      <td>2019-05-21</td>\n",
       "      <td>5</td>\n",
       "      <td>2</td>\n",
       "      <td>6</td>\n",
       "      <td>2019-05-21 05:50:33</td>\n",
       "      <td>100000</td>\n",
       "      <td>Debit card</td>\n",
       "      <td>0.0</td>\n",
       "      <td>100000.0</td>\n",
       "      <td>night</td>\n",
       "      <td>1</td>\n",
       "      <td>05-W21</td>\n",
       "    </tr>\n",
       "    <tr>\n",
       "      <th>99</th>\n",
       "      <td>744763558101</td>\n",
       "      <td>UK</td>\n",
       "      <td>PC</td>\n",
       "      <td>organic</td>\n",
       "      <td>2019-05-22 04:11:46</td>\n",
       "      <td>2019-05-22 04:26:58</td>\n",
       "      <td>912</td>\n",
       "      <td>2019-05-22</td>\n",
       "      <td>5</td>\n",
       "      <td>3</td>\n",
       "      <td>4</td>\n",
       "      <td>2019-05-22 04:11:46</td>\n",
       "      <td>100000</td>\n",
       "      <td>E-wallet</td>\n",
       "      <td>0.0</td>\n",
       "      <td>100000.0</td>\n",
       "      <td>night</td>\n",
       "      <td>1</td>\n",
       "      <td>05-W21</td>\n",
       "    </tr>\n",
       "  </tbody>\n",
       "</table>\n",
       "</div>"
      ],
      "text/plain": [
       "         user_id         region  device             channel       session_start         session_end  sessiondurationsec session_date  month  day  \\\n",
       "55  649969085224  United States      PC             organic 2019-05-15 23:16:53 2019-05-15 23:28:04                 671   2019-05-15      5    3   \n",
       "56  777891466332  United States  iPhone     социальные сети 2019-05-15 15:52:06 2019-05-15 16:18:32                1586   2019-05-15      5    3   \n",
       "94   94160026069         France     Mac  реклама у блогеров 2019-05-21 08:17:29 2019-05-21 08:24:15                 406   2019-05-21      5    2   \n",
       "95  422703292792         France      PC             organic 2019-05-21 14:19:29 2019-05-21 14:48:00                1711   2019-05-21      5    2   \n",
       "96  822055781011  United States  iPhone  реклама у блогеров 2019-05-21 05:50:33 2019-05-21 06:17:17                1604   2019-05-21      5    2   \n",
       "99  744763558101             UK      PC             organic 2019-05-22 04:11:46 2019-05-22 04:26:58                 912   2019-05-22      5    3   \n",
       "\n",
       "    hour_of_day            order_dt  revenue     payment_type  promo_code  final_price time_of_day  payer    week  \n",
       "55           23 2019-05-15 23:16:53        1             Cash         0.0          1.0       night      1  05-W20  \n",
       "56           16 2019-05-15 15:52:06        1  Mobile payments         0.0          1.0         day      1  05-W20  \n",
       "94            8 2019-05-21 08:17:29   100000  Mobile payments         0.0     100000.0     morning      1  05-W21  \n",
       "95           14 2019-05-21 14:19:29   100000  Mobile payments         1.0      90000.0         day      1  05-W21  \n",
       "96            6 2019-05-21 05:50:33   100000       Debit card         0.0     100000.0       night      1  05-W21  \n",
       "99            4 2019-05-22 04:11:46   100000         E-wallet         0.0     100000.0       night      1  05-W21  "
      ]
     },
     "execution_count": 129,
     "metadata": {},
     "output_type": "execute_result"
    }
   ],
   "source": [
    "df[df['revenue'].isin([1, 100000])]"
   ]
  },
  {
   "cell_type": "code",
   "execution_count": 117,
   "id": "23bae6bc-2f3e-455e-a71a-06209e8c4509",
   "metadata": {},
   "outputs": [],
   "source": [
    "# usa_df = df[(df['region'] == 'United States')]\n",
    "# france_df = df[(df['region'] == 'France')]\n",
    "# germany_df = df[(df['region'] == 'Germany')]\n",
    "# uk_df = df[(df['region'] == 'UK')]\n",
    "\n",
    "# dfs = [usa_df, france_df, germany_df, uk_df]\n",
    "\n",
    "# for df in dfs:"
   ]
  },
  {
   "cell_type": "markdown",
   "id": "31d51ca6-8ae0-4092-86e4-96e0bf5c62c0",
   "metadata": {},
   "source": [
    "`Доля продаж по регионам`"
   ]
  },
  {
   "cell_type": "code",
   "execution_count": 131,
   "id": "aef1d0d1-0761-49bc-86a6-79846469ca31",
   "metadata": {},
   "outputs": [
    {
     "name": "stdout",
     "output_type": "stream",
     "text": [
      "payer             0     1\n",
      "region                   \n",
      "France         0.75  0.25\n",
      "Germany        0.76  0.24\n",
      "UK             0.71  0.29\n",
      "United States  0.71  0.29\n",
      "\n",
      "payer             0     1\n",
      "region                   \n",
      "France         0.76  0.24\n",
      "Germany        0.76  0.24\n",
      "UK             0.72  0.28\n",
      "United States  0.72  0.28\n",
      "\n"
     ]
    }
   ],
   "source": [
    "def sales_prop_by_region(df):\n",
    "    grouped = df.groupby('region')['payer'].value_counts(normalize=True).unstack().round(2)\n",
    "    # plt.figure()\n",
    "    # sns.heatmap(grouped, annot=True, cmap=\"YlGnBu\")\n",
    "    return grouped\n",
    "    \n",
    "dfs = [df_unchanged, df_removed]\n",
    "for df_go in dfs:\n",
    "    print(sales_prop_by_region(df_go))\n",
    "    print()"
   ]
  },
  {
   "cell_type": "markdown",
   "id": "a39a8f51-a737-4b2c-84b1-504276fbcb08",
   "metadata": {},
   "source": [
    "`Доля продаж по источникам`"
   ]
  },
  {
   "cell_type": "code",
   "execution_count": 132,
   "id": "c7637ee7-c12a-4769-9fc7-6a1e49d20b38",
   "metadata": {},
   "outputs": [
    {
     "name": "stdout",
     "output_type": "stream",
     "text": [
      "payer                   0     1\n",
      "channel                        \n",
      "email-рассылки       0.71  0.29\n",
      "organic              0.75  0.25\n",
      "контекстная реклама  0.72  0.28\n",
      "реклама у блогеров   0.71  0.29\n",
      "социальные сети      0.70  0.30\n",
      "\n",
      "payer                   0     1\n",
      "channel                        \n",
      "email-рассылки       0.71  0.29\n",
      "organic              0.75  0.25\n",
      "контекстная реклама  0.72  0.28\n",
      "реклама у блогеров   0.73  0.27\n",
      "социальные сети      0.70  0.30\n",
      "\n"
     ]
    }
   ],
   "source": [
    "def sales_prop_by_channel(df):\n",
    "    grouped = df.groupby('channel')['payer'].value_counts(normalize=True).unstack().round(2)\n",
    "    # plt.figure()\n",
    "    # sns.heatmap(grouped, annot=True, cmap=\"YlGnBu\")\n",
    "    return grouped\n",
    "\n",
    "dfs = [df_unchanged, df_removed]\n",
    "for df_go in dfs:\n",
    "    print(sales_prop_by_channel(df_go))\n",
    "    print()"
   ]
  },
  {
   "cell_type": "markdown",
   "id": "7b5ee9db-322f-4362-b3dc-646b378be92a",
   "metadata": {},
   "source": [
    "`Доля продаж по устройствам`"
   ]
  },
  {
   "cell_type": "code",
   "execution_count": null,
   "id": "86e53911-69c8-49b3-8f76-147ff10bada0",
   "metadata": {},
   "outputs": [],
   "source": []
  }
 ],
 "metadata": {
  "kernelspec": {
   "display_name": "Python 3 (ipykernel)",
   "language": "python",
   "name": "python3"
  },
  "language_info": {
   "codemirror_mode": {
    "name": "ipython",
    "version": 3
   },
   "file_extension": ".py",
   "mimetype": "text/x-python",
   "name": "python",
   "nbconvert_exporter": "python",
   "pygments_lexer": "ipython3",
   "version": "3.12.7"
  }
 },
 "nbformat": 4,
 "nbformat_minor": 5
}
