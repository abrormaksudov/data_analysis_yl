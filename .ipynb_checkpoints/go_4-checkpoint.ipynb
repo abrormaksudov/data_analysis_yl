{
 "cells": [
  {
   "cell_type": "code",
   "execution_count": 1,
   "id": "6991c3ba-c43e-42ee-ada6-5c64d9cc5f71",
   "metadata": {},
   "outputs": [],
   "source": [
    "import pandas as pd\n",
    "import polars as pl\n",
    "import numpy as np\n",
    "from scipy import stats\n",
    "import matplotlib.pyplot as plt\n",
    "import seaborn as sns\n",
    "pd.set_option('display.width', 150)\n",
    "pd.set_option('future.no_silent_downcasting', True)\n",
    "pd.set_option('display.max_columns', 1000)\n",
    "pd.set_option('display.max_rows', 1000)\n",
    "sns.set()"
   ]
  },
  {
   "cell_type": "code",
   "execution_count": 2,
   "id": "bdbd5831-c771-49e7-b16a-58fb04e25776",
   "metadata": {},
   "outputs": [
    {
     "name": "stdout",
     "output_type": "stream",
     "text": [
      "(1009, 19)\n",
      "['user_id', 'region', 'device', 'channel', 'session_start', 'session_end', 'sessiondurationsec', 'session_date', 'month', 'day', 'hour_of_day', 'order_dt', 'revenue', 'payment_type', 'promo_code', 'final_price', 'time_of_day', 'payer', 'week']\n"
     ]
    }
   ],
   "source": [
    "dates = ['session_start', 'session_end', 'session_date', 'order_dt']\n",
    "df = pd.read_csv('ecom_go_2.csv', parse_dates=dates)\n",
    "df_pl = pl.from_pandas(df)\n",
    "\n",
    "print(df.shape)\n",
    "print(df.columns.tolist())"
   ]
  },
  {
   "cell_type": "code",
   "execution_count": 3,
   "id": "53b50af8-37e8-4711-87c7-a21395dbbd7f",
   "metadata": {},
   "outputs": [
    {
     "name": "stdout",
     "output_type": "stream",
     "text": [
      "<class 'pandas.core.frame.DataFrame'>\n",
      "RangeIndex: 1009 entries, 0 to 1008\n",
      "Data columns (total 19 columns):\n",
      " #   Column              Non-Null Count  Dtype         \n",
      "---  ------              --------------  -----         \n",
      " 0   user_id             1009 non-null   int64         \n",
      " 1   region              1009 non-null   object        \n",
      " 2   device              1009 non-null   object        \n",
      " 3   channel             1009 non-null   object        \n",
      " 4   session_start       1009 non-null   datetime64[ns]\n",
      " 5   session_end         1009 non-null   datetime64[ns]\n",
      " 6   sessiondurationsec  1009 non-null   int64         \n",
      " 7   session_date        1009 non-null   datetime64[ns]\n",
      " 8   month               1009 non-null   int64         \n",
      " 9   day                 1009 non-null   int64         \n",
      " 10  hour_of_day         1009 non-null   int64         \n",
      " 11  order_dt            282 non-null    datetime64[ns]\n",
      " 12  revenue             1009 non-null   int64         \n",
      " 13  payment_type        282 non-null    object        \n",
      " 14  promo_code          282 non-null    float64       \n",
      " 15  final_price         282 non-null    float64       \n",
      " 16  time_of_day         1009 non-null   object        \n",
      " 17  payer               1009 non-null   int64         \n",
      " 18  week                1009 non-null   object        \n",
      "dtypes: datetime64[ns](4), float64(2), int64(7), object(6)\n",
      "memory usage: 149.9+ KB\n"
     ]
    }
   ],
   "source": [
    "df.info()"
   ]
  },
  {
   "cell_type": "code",
   "execution_count": 80,
   "id": "7d0e0b30-e2f0-4fa2-8e6b-6a3c19cbf1c7",
   "metadata": {},
   "outputs": [
    {
     "name": "stdout",
     "output_type": "stream",
     "text": [
      "(1009, 19) 282\n",
      "(1009, 19) 282\n",
      "(1003, 19) 276\n"
     ]
    }
   ],
   "source": [
    "df_unchanged = df.copy()\n",
    "print(df_unchanged.shape, df_unchanged['payer'].sum())\n",
    "\n",
    "df_replaced = df.copy()\n",
    "df_replaced['revenue'] = np.where(df_replaced['revenue'] == 100000, 9999, df_replaced['revenue'])\n",
    "df_replaced['revenue'] = np.where(df_replaced['revenue'] == 1, 4999, df_replaced['revenue'])\n",
    "print(df_replaced.shape, df_replaced['payer'].sum())\n",
    "\n",
    "df_removed = df.copy()\n",
    "to_remove = df[df['revenue'].isin([1, 100000])].index\n",
    "df_removed.drop(to_remove, inplace=True)\n",
    "print(df_removed.shape, df_removed['payer'].sum())\n",
    "\n",
    "\n",
    "dfs = [(df_unchanged, \"ORIGINAL DATAFRAME:\"), \n",
    "       (df_replaced, \"REPLACED DATAFRAME:\"), \n",
    "       (df_removed, \"REMOVED DATAFRAME:\")]"
   ]
  },
  {
   "cell_type": "markdown",
   "id": "cc851e6d-f7a1-4f90-9598-bbb67d8f30f2",
   "metadata": {},
   "source": [
    "### `Рассчитать средний чек`"
   ]
  },
  {
   "cell_type": "code",
   "execution_count": 81,
   "id": "b76e3151-cefe-40a5-8c64-f5c5cbf0fb1f",
   "metadata": {},
   "outputs": [
    {
     "data": {
      "text/plain": [
       "array([  9999,      0,   4999,   5999,      1, 100000])"
      ]
     },
     "execution_count": 81,
     "metadata": {},
     "output_type": "execute_result"
    }
   ],
   "source": [
    "df['revenue'].unique()"
   ]
  },
  {
   "cell_type": "code",
   "execution_count": 82,
   "id": "4fd208a5-378c-41ff-8939-6f8e07c0a425",
   "metadata": {},
   "outputs": [
    {
     "name": "stdout",
     "output_type": "stream",
     "text": [
      "ORIGINAL DATAFRAME: AOV=6,988, ARPU=1,940\n",
      "REPLACED DATAFRAME: AOV=5,725, ARPU=1,589\n",
      "REMOVED DATAFRAME: AOV=5,667, ARPU=1,548\n"
     ]
    }
   ],
   "source": [
    "def calculate_average_revenue(df):\n",
    "    total_revenue = df['revenue'].sum()\n",
    "\n",
    "    total_users = df['user_id'].nunique()\n",
    "    total_paid_users = df[df['revenue'] > 0]['user_id'].nunique()\n",
    "    \n",
    "    AOV = (total_revenue / total_paid_users).round().astype(int).item()  # AOV\n",
    "    ARPU = (total_revenue / total_users).round().astype(int).item()  # ARPU\n",
    "\n",
    "    return f'{AOV=:,.0f}, {ARPU=:,.0f}'\n",
    "\n",
    "for df_go, df_name in dfs:\n",
    "    print(df_name, calculate_average_revenue(df_go))"
   ]
  },
  {
   "cell_type": "markdown",
   "id": "9b770ebd",
   "metadata": {},
   "source": [
    "### `Сколько покупок в среднем совершает 1 пользователь?`"
   ]
  },
  {
   "cell_type": "code",
   "execution_count": 84,
   "id": "d2c4b93c",
   "metadata": {},
   "outputs": [
    {
     "name": "stdout",
     "output_type": "stream",
     "text": [
      "ORIGINAL DATAFRAME: 0.28\n",
      "REPLACED DATAFRAME: 0.28\n",
      "REMOVED DATAFRAME: 0.28\n"
     ]
    }
   ],
   "source": [
    "def calculate_purchases_per_user(df):\n",
    "    total_purchases = df['payer'].sum()\n",
    "    total_users = df['user_id'].nunique()  # Count all unique users (paid + unpaid)\n",
    "    avg_per_user = round(total_purchases / total_users, 2)\n",
    "    return avg_per_user\n",
    "\n",
    "for df_go, df_name in dfs:\n",
    "    print(df_name, calculate_purchases_per_user(df_go))"
   ]
  },
  {
   "cell_type": "code",
   "execution_count": 85,
   "id": "8c90937a",
   "metadata": {},
   "outputs": [
    {
     "name": "stdout",
     "output_type": "stream",
     "text": [
      "ORIGINAL DATAFRAME: 1.02\n",
      "REPLACED DATAFRAME: 1.02\n",
      "REMOVED DATAFRAME: 1.02\n"
     ]
    }
   ],
   "source": [
    "def calculate_purchases_per_user(df):\n",
    "    total_purchases = df['payer'].sum()\n",
    "    paid_users = df[df['payer'] == 1]['user_id'].nunique()  # Only count users who made at least one purchase\n",
    "    avg_per_user = round(total_purchases / paid_users, 2)\n",
    "    return avg_per_user\n",
    "\n",
    "for df_go, df_name in dfs:\n",
    "    print(df_name, calculate_purchases_per_user(df_go))"
   ]
  },
  {
   "cell_type": "markdown",
   "id": "0b5f9975",
   "metadata": {},
   "source": [
    "### `Рассчитать среднюю продолжительность сессии по рекламным каналам` "
   ]
  },
  {
   "cell_type": "code",
   "execution_count": 87,
   "id": "668c5a72",
   "metadata": {},
   "outputs": [
    {
     "name": "stdout",
     "output_type": "stream",
     "text": [
      "ORIGINAL DATAFRAME:                      sessiondurationsec\n",
      "channel                                \n",
      "email-рассылки                     33.0\n",
      "organic                            31.0\n",
      "контекстная реклама                32.0\n",
      "реклама у блогеров                 31.0\n",
      "социальные сети                    28.0\n",
      "\n",
      "REPLACED DATAFRAME:                      sessiondurationsec\n",
      "channel                                \n",
      "email-рассылки                     33.0\n",
      "organic                            31.0\n",
      "контекстная реклама                32.0\n",
      "реклама у блогеров                 31.0\n",
      "социальные сети                    28.0\n",
      "\n",
      "REMOVED DATAFRAME:                      sessiondurationsec\n",
      "channel                                \n",
      "email-рассылки                     33.0\n",
      "organic                            31.0\n",
      "контекстная реклама                32.0\n",
      "реклама у блогеров                 31.0\n",
      "социальные сети                    28.0\n",
      "\n"
     ]
    }
   ],
   "source": [
    "def calculate_avg_duration_by_channel(df):\n",
    "    return (df.groupby('channel')[['sessiondurationsec']].mean() // 60)\n",
    "\n",
    "for df_go, df_name in dfs:\n",
    "    print(df_name, calculate_avg_duration_by_channel(df_go))\n",
    "    print()"
   ]
  },
  {
   "cell_type": "markdown",
   "id": "08b532ac",
   "metadata": {},
   "source": [
    "### `Рассчитать среднюю продолжительность сессии по типу устройства` "
   ]
  },
  {
   "cell_type": "code",
   "execution_count": 91,
   "id": "a83b6305",
   "metadata": {},
   "outputs": [
    {
     "name": "stdout",
     "output_type": "stream",
     "text": [
      "ORIGINAL DATAFRAME:          sessiondurationsec\n",
      "device                     \n",
      "Android                31.0\n",
      "Mac                    29.0\n",
      "PC                     32.0\n",
      "iPhone                 28.0\n",
      "\n",
      "REPLACED DATAFRAME:          sessiondurationsec\n",
      "device                     \n",
      "Android                31.0\n",
      "Mac                    29.0\n",
      "PC                     32.0\n",
      "iPhone                 28.0\n",
      "\n",
      "REMOVED DATAFRAME:          sessiondurationsec\n",
      "device                     \n",
      "Android                31.0\n",
      "Mac                    29.0\n",
      "PC                     32.0\n",
      "iPhone                 28.0\n",
      "\n"
     ]
    }
   ],
   "source": [
    "def calculate_avg_duration_by_device(df):\n",
    "    return (df.groupby('device')[['sessiondurationsec']].mean() // 60)\n",
    "\n",
    "for df_go, df_name in dfs:\n",
    "    print(df_name, calculate_avg_duration_by_device(df_go))\n",
    "    print()"
   ]
  },
  {
   "cell_type": "markdown",
   "id": "d3efaaeb",
   "metadata": {},
   "source": [
    "### `Определить топ-3 рекламных канала по среднему чеку`"
   ]
  },
  {
   "cell_type": "code",
   "execution_count": 92,
   "id": "ad3ee9f3",
   "metadata": {},
   "outputs": [
    {
     "name": "stdout",
     "output_type": "stream",
     "text": [
      "ORIGINAL DATAFRAME: channel\n",
      "реклама у блогеров     11999\n",
      "organic                 7769\n",
      "email-рассылки          6332\n",
      "контекстная реклама     5689\n",
      "социальные сети         5618\n",
      "Name: AOV, dtype: int64\n",
      "\n",
      "REPLACED DATAFRAME: channel\n",
      "email-рассылки         6332\n",
      "реклама у блогеров     5792\n",
      "organic                5758\n",
      "контекстная реклама    5689\n",
      "социальные сети        5663\n",
      "Name: AOV, dtype: int64\n",
      "\n",
      "REMOVED DATAFRAME: channel\n",
      "email-рассылки         6332\n",
      "контекстная реклама    5689\n",
      "социальные сети        5669\n",
      "organic                5666\n",
      "реклама у блогеров     5480\n",
      "Name: AOV, dtype: int64\n",
      "\n"
     ]
    }
   ],
   "source": [
    "def top_channels(df):\n",
    "    aov_by_channel = (\n",
    "        df[df['revenue'] > 0]  # 1. Filter for paid transactions\n",
    "        .groupby('channel')  # 2. Group data by channel\n",
    "        .agg({  # 3. Aggregate grouped data\n",
    "            'revenue': 'sum',  # Sum total revenue for each channel\n",
    "            'user_id': 'nunique'  # Count unique users for each channel\n",
    "        })\n",
    "        .eval('AOV = revenue / user_id')  # 4. Calculate Average Order Value\n",
    "        ['AOV']  # 5. Select only AOV column\n",
    "        .round()  # 6. Round to nearest whole number\n",
    "        .astype(int)  # 7. Convert to integer\n",
    "        .sort_values(ascending=False)  # 8. Sort from highest to lowest\n",
    "    )\n",
    "    \n",
    "    return (aov_by_channel)\n",
    "\n",
    "for df_go, df_name in dfs:\n",
    "    print(df_name, top_channels(df_go))\n",
    "    print()"
   ]
  },
  {
   "cell_type": "markdown",
   "id": "1a568823",
   "metadata": {},
   "source": [
    "### `Определить топ-3 региона по среднему чеку`"
   ]
  },
  {
   "cell_type": "code",
   "execution_count": 93,
   "id": "21d0c3ab",
   "metadata": {},
   "outputs": [
    {
     "name": "stdout",
     "output_type": "stream",
     "text": [
      "ORIGINAL DATAFRAME: region\n",
      "France           13159\n",
      "UK                8905\n",
      "United States     6045\n",
      "Germany           5707\n",
      "Name: AOV, dtype: int64\n",
      "\n",
      "REPLACED DATAFRAME: region\n",
      "UK               6093\n",
      "France           5959\n",
      "Germany          5707\n",
      "United States    5637\n",
      "Name: AOV, dtype: int64\n",
      "\n",
      "REMOVED DATAFRAME: region\n",
      "UK               5967\n",
      "Germany          5707\n",
      "United States    5621\n",
      "France           5608\n",
      "Name: AOV, dtype: int64\n",
      "\n"
     ]
    }
   ],
   "source": [
    "def top_regions(df):\n",
    "    aov_by_channel = (\n",
    "        df[df['revenue'] > 0]  # 1. Filter for paid transactions\n",
    "        .groupby('region')  # 2. Group data by region\n",
    "        .agg({  # 3. Aggregate grouped data\n",
    "            'revenue': 'sum',  # Sum total revenue for each channel\n",
    "            'user_id': 'nunique'  # Count unique users for each channel\n",
    "        })\n",
    "        .eval('AOV = revenue / user_id')  # 4. Calculate Average Order Value\n",
    "        ['AOV']  # 5. Select only AOV column\n",
    "        .round()  # 6. Round to nearest whole number\n",
    "        .astype(int)  # 7. Convert to integer\n",
    "        .sort_values(ascending=False)  # 8. Sort from highest to lowest\n",
    "    )\n",
    "    \n",
    "    return (aov_by_channel)\n",
    "\n",
    "for df_go, df_name in dfs:\n",
    "    print(df_name, top_regions(df_go))\n",
    "    print()"
   ]
  },
  {
   "cell_type": "markdown",
   "id": "16c5c0f4",
   "metadata": {},
   "source": [
    "### `Определить топ-3 месяца по среднему чеку с разбивкой по регионам`"
   ]
  },
  {
   "cell_type": "code",
   "execution_count": 117,
   "id": "546ee035",
   "metadata": {},
   "outputs": [
    {
     "name": "stdout",
     "output_type": "stream",
     "text": [
      "ORIGINAL DATAFRAME:            region  month  avg_check\n",
      "0          France      5      53000\n",
      "1          France      6       5570\n",
      "5          France     10       5332\n",
      "8         Germany      7       7499\n",
      "7         Germany      6       5799\n",
      "10        Germany      9       5249\n",
      "12             UK      5      53000\n",
      "17             UK     10       6142\n",
      "15             UK      8       5635\n",
      "18  United States      5       9956\n",
      "21  United States      8       5713\n",
      "19  United States      6       5666\n",
      "\n",
      "REPLACED DATAFRAME:            region  month  avg_check\n",
      "0          France      5       7999\n",
      "1          France      6       5570\n",
      "5          France     10       5332\n",
      "8         Germany      7       7499\n",
      "7         Germany      6       5799\n",
      "10        Germany      9       5249\n",
      "12             UK      5       7999\n",
      "17             UK     10       6142\n",
      "15             UK      8       5635\n",
      "18  United States      5       6477\n",
      "21  United States      8       5713\n",
      "19  United States      6       5666\n",
      "\n",
      "REMOVED DATAFRAME:            region  month  avg_check\n",
      "0          France      5       5999\n",
      "1          France      6       5570\n",
      "5          France     10       5332\n",
      "8         Germany      7       7499\n",
      "7         Germany      6       5799\n",
      "10        Germany      9       5249\n",
      "17             UK     10       6142\n",
      "12             UK      5       5999\n",
      "15             UK      8       5635\n",
      "18  United States      5       6449\n",
      "21  United States      8       5713\n",
      "19  United States      6       5666\n",
      "\n"
     ]
    }
   ],
   "source": [
    "def top_3_months_by_avg_check_per_region(df):\n",
    "    avg_check_by_month_region = (\n",
    "        df[df['revenue'] > 0]\n",
    "        .groupby(['region', 'month'])\n",
    "        .agg({\n",
    "            'revenue': 'sum',\n",
    "            'user_id': 'nunique'\n",
    "        })\n",
    "        .reset_index()\n",
    "    )\n",
    "    \n",
    "    avg_check_by_month_region['avg_check'] = (\n",
    "        avg_check_by_month_region['revenue'] / \n",
    "        avg_check_by_month_region['user_id']\n",
    "    ).round().astype(int)\n",
    "    \n",
    "    top_3_months = (\n",
    "        avg_check_by_month_region\n",
    "        .sort_values(['region', 'avg_check'], ascending=[True, False])\n",
    "        .groupby('region')\n",
    "        .head(3)\n",
    "    )\n",
    "    \n",
    "    return top_3_months\n",
    "\n",
    "for df_go, df_name in dfs:\n",
    "    print(df_name, top_3_months_by_avg_check_per_region(df_go)[['region', 'month', 'avg_check']])\n",
    "    print()\n",
    "# result = top_3_months_by_avg_check_per_region(df)\n",
    "# print(result)"
   ]
  },
  {
   "cell_type": "markdown",
   "id": "b94b81c2",
   "metadata": {},
   "source": [
    "### `Посчитать MAU по каждому месяцу с разбивкой по рекламным каналам и выделить топ-3 рекламных каналов по количеству уникальных пользователей в месяц`"
   ]
  },
  {
   "cell_type": "code",
   "execution_count": 131,
   "id": "e2118def",
   "metadata": {},
   "outputs": [
    {
     "name": "stdout",
     "output_type": "stream",
     "text": [
      "    month              channel  unique_users\n",
      "1       5              organic            76\n",
      "4       5      социальные сети            41\n",
      "3       5   реклама у блогеров            14\n",
      "6       6              organic            59\n",
      "9       6      социальные сети            53\n",
      "7       6  контекстная реклама            28\n",
      "14      7      социальные сети            57\n",
      "11      7              organic            46\n",
      "12      7  контекстная реклама            24\n",
      "19      8      социальные сети            69\n",
      "16      8              organic            61\n",
      "17      8  контекстная реклама            37\n",
      "24      9      социальные сети            67\n",
      "21      9              organic            58\n",
      "22      9  контекстная реклама            38\n",
      "29     10      социальные сети            85\n",
      "26     10              organic            47\n",
      "27     10  контекстная реклама            27\n"
     ]
    }
   ],
   "source": [
    "def calculate_mau_by_channel(df):\n",
    "    # Calculate MAU (unique users) for each month and channel\n",
    "    mau_by_channel = (\n",
    "        df.groupby(['month', 'channel'])['user_id']\n",
    "        .nunique()\n",
    "        .reset_index(name='unique_users')\n",
    "    )\n",
    "    \n",
    "    # Find top 3 channels by unique users for each month\n",
    "    top_3_channels = (\n",
    "        mau_by_channel\n",
    "        .sort_values(['month', 'unique_users'], ascending=[True, False])\n",
    "        .groupby('month')\n",
    "        .head(3)\n",
    "    )\n",
    "    \n",
    "    return top_3_channels\n",
    "\n",
    "result = calculate_mau_by_channel(df)\n",
    "print(result)"
   ]
  },
  {
   "cell_type": "code",
   "execution_count": 134,
   "id": "d5ec44c5",
   "metadata": {},
   "outputs": [
    {
     "data": {
      "text/plain": [
       "Index(['user_id', 'region', 'device', 'channel', 'session_start', 'session_end', 'sessiondurationsec', 'session_date', 'month', 'day', 'hour_of_day',\n",
       "       'order_dt', 'revenue', 'payment_type', 'promo_code', 'final_price', 'time_of_day', 'payer', 'week'],\n",
       "      dtype='object')"
      ]
     },
     "execution_count": 134,
     "metadata": {},
     "output_type": "execute_result"
    }
   ],
   "source": [
    "df.columns"
   ]
  },
  {
   "cell_type": "code",
   "execution_count": 133,
   "id": "1b614e22",
   "metadata": {},
   "outputs": [
    {
     "ename": "AttributeError",
     "evalue": "'SeriesGroupBy' object has no attribute 'paying_users'",
     "output_type": "error",
     "traceback": [
      "\u001b[0;31m---------------------------------------------------------------------------\u001b[0m",
      "\u001b[0;31mAttributeError\u001b[0m                            Traceback (most recent call last)",
      "Cell \u001b[0;32mIn[133], line 35\u001b[0m\n\u001b[1;32m     31\u001b[0m     channel_performance[\u001b[38;5;124m'\u001b[39m\u001b[38;5;124mtotal_sales_rank\u001b[39m\u001b[38;5;124m'\u001b[39m] \u001b[38;5;241m=\u001b[39m channel_performance[\u001b[38;5;124m'\u001b[39m\u001b[38;5;124mtotal_sales\u001b[39m\u001b[38;5;124m'\u001b[39m]\u001b[38;5;241m.\u001b[39mrank(method\u001b[38;5;241m=\u001b[39m\u001b[38;5;124m'\u001b[39m\u001b[38;5;124mdense\u001b[39m\u001b[38;5;124m'\u001b[39m, ascending\u001b[38;5;241m=\u001b[39m\u001b[38;5;28;01mFalse\u001b[39;00m)\n\u001b[1;32m     33\u001b[0m     \u001b[38;5;28;01mreturn\u001b[39;00m channel_performance\u001b[38;5;241m.\u001b[39msort_values(\u001b[38;5;124m'\u001b[39m\u001b[38;5;124mpaying_users\u001b[39m\u001b[38;5;124m'\u001b[39m, ascending\u001b[38;5;241m=\u001b[39m\u001b[38;5;28;01mFalse\u001b[39;00m)\n\u001b[0;32m---> 35\u001b[0m results \u001b[38;5;241m=\u001b[39m \u001b[43manalyze_channel_performance\u001b[49m\u001b[43m(\u001b[49m\u001b[43mdf\u001b[49m\u001b[43m)\u001b[49m\n\u001b[1;32m     36\u001b[0m \u001b[38;5;28mprint\u001b[39m(results)\n\u001b[1;32m     38\u001b[0m \u001b[38;5;66;03m# To find the top channel for paying users\u001b[39;00m\n",
      "Cell \u001b[0;32mIn[133], line 3\u001b[0m, in \u001b[0;36manalyze_channel_performance\u001b[0;34m(df)\u001b[0m\n\u001b[1;32m      1\u001b[0m \u001b[38;5;28;01mdef\u001b[39;00m \u001b[38;5;21manalyze_channel_performance\u001b[39m(df):\n\u001b[1;32m      2\u001b[0m     \u001b[38;5;66;03m# Aggregate performance metrics by channel\u001b[39;00m\n\u001b[0;32m----> 3\u001b[0m     channel_performance \u001b[38;5;241m=\u001b[39m \u001b[43mdf\u001b[49m\u001b[38;5;241;43m.\u001b[39;49m\u001b[43mgroupby\u001b[49m\u001b[43m(\u001b[49m\u001b[38;5;124;43m'\u001b[39;49m\u001b[38;5;124;43mchannel\u001b[39;49m\u001b[38;5;124;43m'\u001b[39;49m\u001b[43m)\u001b[49m\u001b[38;5;241;43m.\u001b[39;49m\u001b[43magg\u001b[49m\u001b[43m(\u001b[49m\u001b[43m{\u001b[49m\n\u001b[1;32m      4\u001b[0m \u001b[43m        \u001b[49m\u001b[38;5;66;43;03m# Total number of users\u001b[39;49;00m\n\u001b[1;32m      5\u001b[0m \u001b[43m        \u001b[49m\u001b[38;5;124;43m'\u001b[39;49m\u001b[38;5;124;43muser_id\u001b[39;49m\u001b[38;5;124;43m'\u001b[39;49m\u001b[43m:\u001b[49m\u001b[43m \u001b[49m\u001b[38;5;124;43m'\u001b[39;49m\u001b[38;5;124;43mcount\u001b[39;49m\u001b[38;5;124;43m'\u001b[39;49m\u001b[43m,\u001b[49m\n\u001b[1;32m      6\u001b[0m \u001b[43m        \u001b[49m\n\u001b[1;32m      7\u001b[0m \u001b[43m        \u001b[49m\u001b[38;5;66;43;03m# Number of unique users\u001b[39;49;00m\n\u001b[1;32m      8\u001b[0m \u001b[43m        \u001b[49m\u001b[38;5;124;43m'\u001b[39;49m\u001b[38;5;124;43muser_id\u001b[39;49m\u001b[38;5;124;43m'\u001b[39;49m\u001b[43m:\u001b[49m\u001b[43m \u001b[49m\u001b[43mpd\u001b[49m\u001b[38;5;241;43m.\u001b[39;49m\u001b[43mNamedAgg\u001b[49m\u001b[43m(\u001b[49m\u001b[43mcolumn\u001b[49m\u001b[38;5;241;43m=\u001b[39;49m\u001b[38;5;124;43m'\u001b[39;49m\u001b[38;5;124;43muser_id\u001b[39;49m\u001b[38;5;124;43m'\u001b[39;49m\u001b[43m,\u001b[49m\u001b[43m \u001b[49m\u001b[43maggfunc\u001b[49m\u001b[38;5;241;43m=\u001b[39;49m\u001b[38;5;124;43m'\u001b[39;49m\u001b[38;5;124;43mnunique\u001b[39;49m\u001b[38;5;124;43m'\u001b[39;49m\u001b[43m)\u001b[49m\u001b[43m,\u001b[49m\n\u001b[1;32m      9\u001b[0m \u001b[43m        \u001b[49m\n\u001b[1;32m     10\u001b[0m \u001b[43m        \u001b[49m\u001b[38;5;66;43;03m# Number of paying users (where revenue > 0)\u001b[39;49;00m\n\u001b[1;32m     11\u001b[0m \u001b[43m        \u001b[49m\u001b[38;5;124;43m'\u001b[39;49m\u001b[38;5;124;43muser_id\u001b[39;49m\u001b[38;5;124;43m'\u001b[39;49m\u001b[43m:\u001b[49m\u001b[43m \u001b[49m\u001b[43mpd\u001b[49m\u001b[38;5;241;43m.\u001b[39;49m\u001b[43mNamedAgg\u001b[49m\u001b[43m(\u001b[49m\n\u001b[1;32m     12\u001b[0m \u001b[43m            \u001b[49m\u001b[43mcolumn\u001b[49m\u001b[38;5;241;43m=\u001b[39;49m\u001b[38;5;124;43m'\u001b[39;49m\u001b[38;5;124;43mpaying_users\u001b[39;49m\u001b[38;5;124;43m'\u001b[39;49m\u001b[43m,\u001b[49m\u001b[43m \u001b[49m\n\u001b[1;32m     13\u001b[0m \u001b[43m            \u001b[49m\u001b[43maggfunc\u001b[49m\u001b[38;5;241;43m=\u001b[39;49m\u001b[38;5;28;43;01mlambda\u001b[39;49;00m\u001b[43m \u001b[49m\u001b[43mx\u001b[49m\u001b[43m:\u001b[49m\u001b[43m \u001b[49m\u001b[43mdf\u001b[49m\u001b[43m[\u001b[49m\u001b[43m(\u001b[49m\u001b[43mdf\u001b[49m\u001b[43m[\u001b[49m\u001b[38;5;124;43m'\u001b[39;49m\u001b[38;5;124;43mchannel\u001b[39;49m\u001b[38;5;124;43m'\u001b[39;49m\u001b[43m]\u001b[49m\u001b[43m \u001b[49m\u001b[38;5;241;43m==\u001b[39;49m\u001b[43m \u001b[49m\u001b[43mx\u001b[49m\u001b[38;5;241;43m.\u001b[39;49m\u001b[43mname\u001b[49m\u001b[43m)\u001b[49m\u001b[43m \u001b[49m\u001b[38;5;241;43m&\u001b[39;49m\u001b[43m \u001b[49m\u001b[43m(\u001b[49m\u001b[43mdf\u001b[49m\u001b[43m[\u001b[49m\u001b[38;5;124;43m'\u001b[39;49m\u001b[38;5;124;43mrevenue\u001b[39;49m\u001b[38;5;124;43m'\u001b[39;49m\u001b[43m]\u001b[49m\u001b[43m \u001b[49m\u001b[38;5;241;43m>\u001b[39;49m\u001b[43m \u001b[49m\u001b[38;5;241;43m0\u001b[39;49m\u001b[43m)\u001b[49m\u001b[43m]\u001b[49m\u001b[43m[\u001b[49m\u001b[38;5;124;43m'\u001b[39;49m\u001b[38;5;124;43muser_id\u001b[39;49m\u001b[38;5;124;43m'\u001b[39;49m\u001b[43m]\u001b[49m\u001b[38;5;241;43m.\u001b[39;49m\u001b[43mnunique\u001b[49m\u001b[43m(\u001b[49m\u001b[43m)\u001b[49m\n\u001b[1;32m     14\u001b[0m \u001b[43m        \u001b[49m\u001b[43m)\u001b[49m\u001b[43m,\u001b[49m\n\u001b[1;32m     15\u001b[0m \u001b[43m        \u001b[49m\n\u001b[1;32m     16\u001b[0m \u001b[43m        \u001b[49m\u001b[38;5;66;43;03m# Total sales amount\u001b[39;49;00m\n\u001b[1;32m     17\u001b[0m \u001b[43m        \u001b[49m\u001b[38;5;124;43m'\u001b[39;49m\u001b[38;5;124;43mrevenue\u001b[39;49m\u001b[38;5;124;43m'\u001b[39;49m\u001b[43m:\u001b[49m\u001b[43m \u001b[49m\u001b[38;5;124;43m'\u001b[39;49m\u001b[38;5;124;43msum\u001b[39;49m\u001b[38;5;124;43m'\u001b[39;49m\n\u001b[1;32m     18\u001b[0m \u001b[43m    \u001b[49m\u001b[43m}\u001b[49m\u001b[43m)\u001b[49m\u001b[38;5;241m.\u001b[39mreset_index()\n\u001b[1;32m     20\u001b[0m     \u001b[38;5;66;03m# Rename columns for clarity\u001b[39;00m\n\u001b[1;32m     21\u001b[0m     channel_performance\u001b[38;5;241m.\u001b[39mcolumns \u001b[38;5;241m=\u001b[39m [\n\u001b[1;32m     22\u001b[0m         \u001b[38;5;124m'\u001b[39m\u001b[38;5;124mchannel\u001b[39m\u001b[38;5;124m'\u001b[39m, \n\u001b[1;32m     23\u001b[0m         \u001b[38;5;124m'\u001b[39m\u001b[38;5;124mtotal_users\u001b[39m\u001b[38;5;124m'\u001b[39m, \n\u001b[0;32m   (...)\u001b[0m\n\u001b[1;32m     26\u001b[0m         \u001b[38;5;124m'\u001b[39m\u001b[38;5;124mtotal_sales\u001b[39m\u001b[38;5;124m'\u001b[39m\n\u001b[1;32m     27\u001b[0m     ]\n",
      "File \u001b[0;32m~/Programming/venv/lib/python3.12/site-packages/pandas/core/groupby/generic.py:1432\u001b[0m, in \u001b[0;36mDataFrameGroupBy.aggregate\u001b[0;34m(self, func, engine, engine_kwargs, *args, **kwargs)\u001b[0m\n\u001b[1;32m   1429\u001b[0m     kwargs[\u001b[38;5;124m\"\u001b[39m\u001b[38;5;124mengine_kwargs\u001b[39m\u001b[38;5;124m\"\u001b[39m] \u001b[38;5;241m=\u001b[39m engine_kwargs\n\u001b[1;32m   1431\u001b[0m op \u001b[38;5;241m=\u001b[39m GroupByApply(\u001b[38;5;28mself\u001b[39m, func, args\u001b[38;5;241m=\u001b[39margs, kwargs\u001b[38;5;241m=\u001b[39mkwargs)\n\u001b[0;32m-> 1432\u001b[0m result \u001b[38;5;241m=\u001b[39m \u001b[43mop\u001b[49m\u001b[38;5;241;43m.\u001b[39;49m\u001b[43magg\u001b[49m\u001b[43m(\u001b[49m\u001b[43m)\u001b[49m\n\u001b[1;32m   1433\u001b[0m \u001b[38;5;28;01mif\u001b[39;00m \u001b[38;5;129;01mnot\u001b[39;00m is_dict_like(func) \u001b[38;5;129;01mand\u001b[39;00m result \u001b[38;5;129;01mis\u001b[39;00m \u001b[38;5;129;01mnot\u001b[39;00m \u001b[38;5;28;01mNone\u001b[39;00m:\n\u001b[1;32m   1434\u001b[0m     \u001b[38;5;66;03m# GH #52849\u001b[39;00m\n\u001b[1;32m   1435\u001b[0m     \u001b[38;5;28;01mif\u001b[39;00m \u001b[38;5;129;01mnot\u001b[39;00m \u001b[38;5;28mself\u001b[39m\u001b[38;5;241m.\u001b[39mas_index \u001b[38;5;129;01mand\u001b[39;00m is_list_like(func):\n",
      "File \u001b[0;32m~/Programming/venv/lib/python3.12/site-packages/pandas/core/apply.py:190\u001b[0m, in \u001b[0;36mApply.agg\u001b[0;34m(self)\u001b[0m\n\u001b[1;32m    187\u001b[0m     \u001b[38;5;28;01mreturn\u001b[39;00m \u001b[38;5;28mself\u001b[39m\u001b[38;5;241m.\u001b[39mapply_str()\n\u001b[1;32m    189\u001b[0m \u001b[38;5;28;01mif\u001b[39;00m is_dict_like(func):\n\u001b[0;32m--> 190\u001b[0m     \u001b[38;5;28;01mreturn\u001b[39;00m \u001b[38;5;28;43mself\u001b[39;49m\u001b[38;5;241;43m.\u001b[39;49m\u001b[43magg_dict_like\u001b[49m\u001b[43m(\u001b[49m\u001b[43m)\u001b[49m\n\u001b[1;32m    191\u001b[0m \u001b[38;5;28;01melif\u001b[39;00m is_list_like(func):\n\u001b[1;32m    192\u001b[0m     \u001b[38;5;66;03m# we require a list, but not a 'str'\u001b[39;00m\n\u001b[1;32m    193\u001b[0m     \u001b[38;5;28;01mreturn\u001b[39;00m \u001b[38;5;28mself\u001b[39m\u001b[38;5;241m.\u001b[39magg_list_like()\n",
      "File \u001b[0;32m~/Programming/venv/lib/python3.12/site-packages/pandas/core/apply.py:423\u001b[0m, in \u001b[0;36mApply.agg_dict_like\u001b[0;34m(self)\u001b[0m\n\u001b[1;32m    415\u001b[0m \u001b[38;5;28;01mdef\u001b[39;00m \u001b[38;5;21magg_dict_like\u001b[39m(\u001b[38;5;28mself\u001b[39m) \u001b[38;5;241m-\u001b[39m\u001b[38;5;241m>\u001b[39m DataFrame \u001b[38;5;241m|\u001b[39m Series:\n\u001b[1;32m    416\u001b[0m \u001b[38;5;250m    \u001b[39m\u001b[38;5;124;03m\"\"\"\u001b[39;00m\n\u001b[1;32m    417\u001b[0m \u001b[38;5;124;03m    Compute aggregation in the case of a dict-like argument.\u001b[39;00m\n\u001b[1;32m    418\u001b[0m \n\u001b[0;32m   (...)\u001b[0m\n\u001b[1;32m    421\u001b[0m \u001b[38;5;124;03m    Result of aggregation.\u001b[39;00m\n\u001b[1;32m    422\u001b[0m \u001b[38;5;124;03m    \"\"\"\u001b[39;00m\n\u001b[0;32m--> 423\u001b[0m     \u001b[38;5;28;01mreturn\u001b[39;00m \u001b[38;5;28;43mself\u001b[39;49m\u001b[38;5;241;43m.\u001b[39;49m\u001b[43magg_or_apply_dict_like\u001b[49m\u001b[43m(\u001b[49m\u001b[43mop_name\u001b[49m\u001b[38;5;241;43m=\u001b[39;49m\u001b[38;5;124;43m\"\u001b[39;49m\u001b[38;5;124;43magg\u001b[39;49m\u001b[38;5;124;43m\"\u001b[39;49m\u001b[43m)\u001b[49m\n",
      "File \u001b[0;32m~/Programming/venv/lib/python3.12/site-packages/pandas/core/apply.py:1608\u001b[0m, in \u001b[0;36mGroupByApply.agg_or_apply_dict_like\u001b[0;34m(self, op_name)\u001b[0m\n\u001b[1;32m   1603\u001b[0m     kwargs\u001b[38;5;241m.\u001b[39mupdate({\u001b[38;5;124m\"\u001b[39m\u001b[38;5;124mengine\u001b[39m\u001b[38;5;124m\"\u001b[39m: engine, \u001b[38;5;124m\"\u001b[39m\u001b[38;5;124mengine_kwargs\u001b[39m\u001b[38;5;124m\"\u001b[39m: engine_kwargs})\n\u001b[1;32m   1605\u001b[0m \u001b[38;5;28;01mwith\u001b[39;00m com\u001b[38;5;241m.\u001b[39mtemp_setattr(\n\u001b[1;32m   1606\u001b[0m     obj, \u001b[38;5;124m\"\u001b[39m\u001b[38;5;124mas_index\u001b[39m\u001b[38;5;124m\"\u001b[39m, \u001b[38;5;28;01mTrue\u001b[39;00m, condition\u001b[38;5;241m=\u001b[39m\u001b[38;5;28mhasattr\u001b[39m(obj, \u001b[38;5;124m\"\u001b[39m\u001b[38;5;124mas_index\u001b[39m\u001b[38;5;124m\"\u001b[39m)\n\u001b[1;32m   1607\u001b[0m ):\n\u001b[0;32m-> 1608\u001b[0m     result_index, result_data \u001b[38;5;241m=\u001b[39m \u001b[38;5;28;43mself\u001b[39;49m\u001b[38;5;241;43m.\u001b[39;49m\u001b[43mcompute_dict_like\u001b[49m\u001b[43m(\u001b[49m\n\u001b[1;32m   1609\u001b[0m \u001b[43m        \u001b[49m\u001b[43mop_name\u001b[49m\u001b[43m,\u001b[49m\u001b[43m \u001b[49m\u001b[43mselected_obj\u001b[49m\u001b[43m,\u001b[49m\u001b[43m \u001b[49m\u001b[43mselection\u001b[49m\u001b[43m,\u001b[49m\u001b[43m \u001b[49m\u001b[43mkwargs\u001b[49m\n\u001b[1;32m   1610\u001b[0m \u001b[43m    \u001b[49m\u001b[43m)\u001b[49m\n\u001b[1;32m   1611\u001b[0m result \u001b[38;5;241m=\u001b[39m \u001b[38;5;28mself\u001b[39m\u001b[38;5;241m.\u001b[39mwrap_results_dict_like(selected_obj, result_index, result_data)\n\u001b[1;32m   1612\u001b[0m \u001b[38;5;28;01mreturn\u001b[39;00m result\n",
      "File \u001b[0;32m~/Programming/venv/lib/python3.12/site-packages/pandas/core/apply.py:497\u001b[0m, in \u001b[0;36mApply.compute_dict_like\u001b[0;34m(self, op_name, selected_obj, selection, kwargs)\u001b[0m\n\u001b[1;32m    493\u001b[0m         results \u001b[38;5;241m+\u001b[39m\u001b[38;5;241m=\u001b[39m key_data\n\u001b[1;32m    494\u001b[0m \u001b[38;5;28;01melse\u001b[39;00m:\n\u001b[1;32m    495\u001b[0m     \u001b[38;5;66;03m# key used for column selection and output\u001b[39;00m\n\u001b[1;32m    496\u001b[0m     results \u001b[38;5;241m=\u001b[39m [\n\u001b[0;32m--> 497\u001b[0m         \u001b[38;5;28;43mgetattr\u001b[39;49m\u001b[43m(\u001b[49m\u001b[43mobj\u001b[49m\u001b[38;5;241;43m.\u001b[39;49m\u001b[43m_gotitem\u001b[49m\u001b[43m(\u001b[49m\u001b[43mkey\u001b[49m\u001b[43m,\u001b[49m\u001b[43m \u001b[49m\u001b[43mndim\u001b[49m\u001b[38;5;241;43m=\u001b[39;49m\u001b[38;5;241;43m1\u001b[39;49m\u001b[43m)\u001b[49m\u001b[43m,\u001b[49m\u001b[43m \u001b[49m\u001b[43mop_name\u001b[49m\u001b[43m)\u001b[49m\u001b[43m(\u001b[49m\u001b[43mhow\u001b[49m\u001b[43m,\u001b[49m\u001b[43m \u001b[49m\u001b[38;5;241;43m*\u001b[39;49m\u001b[38;5;241;43m*\u001b[39;49m\u001b[43mkwargs\u001b[49m\u001b[43m)\u001b[49m\n\u001b[1;32m    498\u001b[0m         \u001b[38;5;28;01mfor\u001b[39;00m key, how \u001b[38;5;129;01min\u001b[39;00m func\u001b[38;5;241m.\u001b[39mitems()\n\u001b[1;32m    499\u001b[0m     ]\n\u001b[1;32m    500\u001b[0m     keys \u001b[38;5;241m=\u001b[39m \u001b[38;5;28mlist\u001b[39m(func\u001b[38;5;241m.\u001b[39mkeys())\n\u001b[1;32m    502\u001b[0m \u001b[38;5;28;01mreturn\u001b[39;00m keys, results\n",
      "File \u001b[0;32m~/Programming/venv/lib/python3.12/site-packages/pandas/core/groupby/generic.py:257\u001b[0m, in \u001b[0;36mSeriesGroupBy.aggregate\u001b[0;34m(self, func, engine, engine_kwargs, *args, **kwargs)\u001b[0m\n\u001b[1;32m    255\u001b[0m kwargs[\u001b[38;5;124m\"\u001b[39m\u001b[38;5;124mengine\u001b[39m\u001b[38;5;124m\"\u001b[39m] \u001b[38;5;241m=\u001b[39m engine\n\u001b[1;32m    256\u001b[0m kwargs[\u001b[38;5;124m\"\u001b[39m\u001b[38;5;124mengine_kwargs\u001b[39m\u001b[38;5;124m\"\u001b[39m] \u001b[38;5;241m=\u001b[39m engine_kwargs\n\u001b[0;32m--> 257\u001b[0m ret \u001b[38;5;241m=\u001b[39m \u001b[38;5;28;43mself\u001b[39;49m\u001b[38;5;241;43m.\u001b[39;49m\u001b[43m_aggregate_multiple_funcs\u001b[49m\u001b[43m(\u001b[49m\u001b[43mfunc\u001b[49m\u001b[43m,\u001b[49m\u001b[43m \u001b[49m\u001b[38;5;241;43m*\u001b[39;49m\u001b[43margs\u001b[49m\u001b[43m,\u001b[49m\u001b[43m \u001b[49m\u001b[38;5;241;43m*\u001b[39;49m\u001b[38;5;241;43m*\u001b[39;49m\u001b[43mkwargs\u001b[49m\u001b[43m)\u001b[49m\n\u001b[1;32m    258\u001b[0m \u001b[38;5;28;01mif\u001b[39;00m relabeling:\n\u001b[1;32m    259\u001b[0m     \u001b[38;5;66;03m# columns is not narrowed by mypy from relabeling flag\u001b[39;00m\n\u001b[1;32m    260\u001b[0m     \u001b[38;5;28;01massert\u001b[39;00m columns \u001b[38;5;129;01mis\u001b[39;00m \u001b[38;5;129;01mnot\u001b[39;00m \u001b[38;5;28;01mNone\u001b[39;00m  \u001b[38;5;66;03m# for mypy\u001b[39;00m\n",
      "File \u001b[0;32m~/Programming/venv/lib/python3.12/site-packages/pandas/core/groupby/generic.py:362\u001b[0m, in \u001b[0;36mSeriesGroupBy._aggregate_multiple_funcs\u001b[0;34m(self, arg, *args, **kwargs)\u001b[0m\n\u001b[1;32m    360\u001b[0m     \u001b[38;5;28;01mfor\u001b[39;00m idx, (name, func) \u001b[38;5;129;01min\u001b[39;00m \u001b[38;5;28menumerate\u001b[39m(arg):\n\u001b[1;32m    361\u001b[0m         key \u001b[38;5;241m=\u001b[39m base\u001b[38;5;241m.\u001b[39mOutputKey(label\u001b[38;5;241m=\u001b[39mname, position\u001b[38;5;241m=\u001b[39midx)\n\u001b[0;32m--> 362\u001b[0m         results[key] \u001b[38;5;241m=\u001b[39m \u001b[38;5;28;43mself\u001b[39;49m\u001b[38;5;241;43m.\u001b[39;49m\u001b[43maggregate\u001b[49m\u001b[43m(\u001b[49m\u001b[43mfunc\u001b[49m\u001b[43m,\u001b[49m\u001b[43m \u001b[49m\u001b[38;5;241;43m*\u001b[39;49m\u001b[43margs\u001b[49m\u001b[43m,\u001b[49m\u001b[43m \u001b[49m\u001b[38;5;241;43m*\u001b[39;49m\u001b[38;5;241;43m*\u001b[39;49m\u001b[43mkwargs\u001b[49m\u001b[43m)\u001b[49m\n\u001b[1;32m    364\u001b[0m \u001b[38;5;28;01mif\u001b[39;00m \u001b[38;5;28many\u001b[39m(\u001b[38;5;28misinstance\u001b[39m(x, DataFrame) \u001b[38;5;28;01mfor\u001b[39;00m x \u001b[38;5;129;01min\u001b[39;00m results\u001b[38;5;241m.\u001b[39mvalues()):\n\u001b[1;32m    365\u001b[0m     \u001b[38;5;28;01mfrom\u001b[39;00m \u001b[38;5;21;01mpandas\u001b[39;00m \u001b[38;5;28;01mimport\u001b[39;00m concat\n",
      "File \u001b[0;32m~/Programming/venv/lib/python3.12/site-packages/pandas/core/groupby/generic.py:249\u001b[0m, in \u001b[0;36mSeriesGroupBy.aggregate\u001b[0;34m(self, func, engine, engine_kwargs, *args, **kwargs)\u001b[0m\n\u001b[1;32m    247\u001b[0m     \u001b[38;5;28;01mif\u001b[39;00m engine_kwargs \u001b[38;5;129;01mis\u001b[39;00m \u001b[38;5;129;01mnot\u001b[39;00m \u001b[38;5;28;01mNone\u001b[39;00m:\n\u001b[1;32m    248\u001b[0m         kwargs[\u001b[38;5;124m\"\u001b[39m\u001b[38;5;124mengine_kwargs\u001b[39m\u001b[38;5;124m\"\u001b[39m] \u001b[38;5;241m=\u001b[39m engine_kwargs\n\u001b[0;32m--> 249\u001b[0m     \u001b[38;5;28;01mreturn\u001b[39;00m \u001b[38;5;28;43mgetattr\u001b[39;49m\u001b[43m(\u001b[49m\u001b[38;5;28;43mself\u001b[39;49m\u001b[43m,\u001b[49m\u001b[43m \u001b[49m\u001b[43mfunc\u001b[49m\u001b[43m)\u001b[49m(\u001b[38;5;241m*\u001b[39margs, \u001b[38;5;241m*\u001b[39m\u001b[38;5;241m*\u001b[39mkwargs)\n\u001b[1;32m    251\u001b[0m \u001b[38;5;28;01melif\u001b[39;00m \u001b[38;5;28misinstance\u001b[39m(func, abc\u001b[38;5;241m.\u001b[39mIterable):\n\u001b[1;32m    252\u001b[0m     \u001b[38;5;66;03m# Catch instances of lists / tuples\u001b[39;00m\n\u001b[1;32m    253\u001b[0m     \u001b[38;5;66;03m# but not the class list / tuple itself.\u001b[39;00m\n\u001b[1;32m    254\u001b[0m     func \u001b[38;5;241m=\u001b[39m maybe_mangle_lambdas(func)\n",
      "File \u001b[0;32m~/Programming/venv/lib/python3.12/site-packages/pandas/core/groupby/groupby.py:1363\u001b[0m, in \u001b[0;36mGroupBy.__getattr__\u001b[0;34m(self, attr)\u001b[0m\n\u001b[1;32m   1360\u001b[0m \u001b[38;5;28;01mif\u001b[39;00m attr \u001b[38;5;129;01min\u001b[39;00m \u001b[38;5;28mself\u001b[39m\u001b[38;5;241m.\u001b[39mobj:\n\u001b[1;32m   1361\u001b[0m     \u001b[38;5;28;01mreturn\u001b[39;00m \u001b[38;5;28mself\u001b[39m[attr]\n\u001b[0;32m-> 1363\u001b[0m \u001b[38;5;28;01mraise\u001b[39;00m \u001b[38;5;167;01mAttributeError\u001b[39;00m(\n\u001b[1;32m   1364\u001b[0m     \u001b[38;5;124mf\u001b[39m\u001b[38;5;124m\"\u001b[39m\u001b[38;5;124m'\u001b[39m\u001b[38;5;132;01m{\u001b[39;00m\u001b[38;5;28mtype\u001b[39m(\u001b[38;5;28mself\u001b[39m)\u001b[38;5;241m.\u001b[39m\u001b[38;5;18m__name__\u001b[39m\u001b[38;5;132;01m}\u001b[39;00m\u001b[38;5;124m'\u001b[39m\u001b[38;5;124m object has no attribute \u001b[39m\u001b[38;5;124m'\u001b[39m\u001b[38;5;132;01m{\u001b[39;00mattr\u001b[38;5;132;01m}\u001b[39;00m\u001b[38;5;124m'\u001b[39m\u001b[38;5;124m\"\u001b[39m\n\u001b[1;32m   1365\u001b[0m )\n",
      "\u001b[0;31mAttributeError\u001b[0m: 'SeriesGroupBy' object has no attribute 'paying_users'"
     ]
    }
   ],
   "source": [
    "def analyze_channel_performance(df):\n",
    "    # Aggregate performance metrics by channel\n",
    "    channel_performance = df.groupby('channel').agg({\n",
    "        # Total number of users\n",
    "        'user_id': 'count',\n",
    "        \n",
    "        # Number of unique users\n",
    "        'user_id': pd.NamedAgg(column='user_id', aggfunc='nunique'),\n",
    "        \n",
    "        # Number of paying users (where revenue > 0)\n",
    "        'user_id': pd.NamedAgg(\n",
    "            column='payer', \n",
    "            aggfunc=lambda x: df[(df['channel'] == x.name) & (df['revenue'] > 0)]['user_id'].nunique()\n",
    "        ),\n",
    "        \n",
    "        # Total sales amount\n",
    "        'revenue': 'sum'\n",
    "    }).reset_index()\n",
    "    \n",
    "    # Rename columns for clarity\n",
    "    channel_performance.columns = [\n",
    "        'channel', \n",
    "        'total_users', \n",
    "        'unique_users', \n",
    "        'payer', \n",
    "        'total_sales'\n",
    "    ]\n",
    "    \n",
    "    # Sort by paying users and total sales to identify top performers\n",
    "    channel_performance['paying_users_rank'] = channel_performance['paying_users'].rank(method='dense', ascending=False)\n",
    "    channel_performance['total_sales_rank'] = channel_performance['total_sales'].rank(method='dense', ascending=False)\n",
    "    \n",
    "    return channel_performance.sort_values('paying_users', ascending=False)\n",
    "\n",
    "results = analyze_channel_performance(df)\n",
    "print(results)\n",
    "\n",
    "# To find the top channel for paying users\n",
    "top_paying_channel = results.iloc[0]['channel']\n",
    "print(f\"Channel with most paying users: {top_paying_channel}\")\n",
    "\n",
    "# To find the channel with highest total sales\n",
    "top_sales_channel = results.sort_values('total_sales', ascending=False).iloc[0]['channel']\n",
    "print(f\"Channel with highest total sales: {top_sales_channel}\")"
   ]
  },
  {
   "cell_type": "code",
   "execution_count": null,
   "id": "15625046",
   "metadata": {},
   "outputs": [],
   "source": []
  }
 ],
 "metadata": {
  "kernelspec": {
   "display_name": "Python (venv)",
   "language": "python",
   "name": "venv"
  },
  "language_info": {
   "codemirror_mode": {
    "name": "ipython",
    "version": 3
   },
   "file_extension": ".py",
   "mimetype": "text/x-python",
   "name": "python",
   "nbconvert_exporter": "python",
   "pygments_lexer": "ipython3",
   "version": "3.12.3"
  }
 },
 "nbformat": 4,
 "nbformat_minor": 5
}
