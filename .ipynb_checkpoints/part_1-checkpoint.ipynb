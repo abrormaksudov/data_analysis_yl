{
 "cells": [
  {
   "cell_type": "code",
   "execution_count": 1,
   "id": "4e9775b6-a77c-496d-bf63-d900c971e0ad",
   "metadata": {},
   "outputs": [
    {
     "name": "stdout",
     "output_type": "stream",
     "text": [
      "(1012, 15)\n"
     ]
    },
    {
     "data": {
      "text/html": [
       "<div>\n",
       "<style scoped>\n",
       "    .dataframe tbody tr th:only-of-type {\n",
       "        vertical-align: middle;\n",
       "    }\n",
       "\n",
       "    .dataframe tbody tr th {\n",
       "        vertical-align: top;\n",
       "    }\n",
       "\n",
       "    .dataframe thead th {\n",
       "        text-align: right;\n",
       "    }\n",
       "</style>\n",
       "<table border=\"1\" class=\"dataframe\">\n",
       "  <thead>\n",
       "    <tr style=\"text-align: right;\">\n",
       "      <th></th>\n",
       "      <th>user_id</th>\n",
       "      <th>region</th>\n",
       "      <th>device</th>\n",
       "      <th>channel</th>\n",
       "      <th>session_start</th>\n",
       "      <th>session_end</th>\n",
       "      <th>sessiondurationsec</th>\n",
       "      <th>session_date</th>\n",
       "      <th>month</th>\n",
       "      <th>day</th>\n",
       "      <th>hour_of_day</th>\n",
       "      <th>order_dt</th>\n",
       "      <th>revenue</th>\n",
       "      <th>payment_type</th>\n",
       "      <th>promo_code</th>\n",
       "    </tr>\n",
       "  </thead>\n",
       "  <tbody>\n",
       "    <tr>\n",
       "      <th>0</th>\n",
       "      <td>529697267522</td>\n",
       "      <td>United States</td>\n",
       "      <td>iPhone</td>\n",
       "      <td>социальные сети</td>\n",
       "      <td>2019-05-01 00:06:40</td>\n",
       "      <td>2019-05-01 00:07:06</td>\n",
       "      <td>26.0</td>\n",
       "      <td>2019-05-01</td>\n",
       "      <td>5</td>\n",
       "      <td>3</td>\n",
       "      <td>0</td>\n",
       "      <td>2019-05-01 00:06:40</td>\n",
       "      <td>9999.0</td>\n",
       "      <td>Mobile payments</td>\n",
       "      <td>0.0</td>\n",
       "    </tr>\n",
       "    <tr>\n",
       "      <th>1</th>\n",
       "      <td>601292388085</td>\n",
       "      <td>United States</td>\n",
       "      <td>PC</td>\n",
       "      <td>organic</td>\n",
       "      <td>2019-05-01 06:56:16</td>\n",
       "      <td>2019-05-01 07:09:18</td>\n",
       "      <td>782.0</td>\n",
       "      <td>2019-05-01</td>\n",
       "      <td>5</td>\n",
       "      <td>3</td>\n",
       "      <td>7</td>\n",
       "      <td>NaN</td>\n",
       "      <td>NaN</td>\n",
       "      <td>NaN</td>\n",
       "      <td>NaN</td>\n",
       "    </tr>\n",
       "    <tr>\n",
       "      <th>2</th>\n",
       "      <td>852898876338</td>\n",
       "      <td>United States</td>\n",
       "      <td>Mac</td>\n",
       "      <td>социальные сети</td>\n",
       "      <td>2019-05-01 04:30:45</td>\n",
       "      <td>2019-05-01 04:34:56</td>\n",
       "      <td>251.0</td>\n",
       "      <td>2019-05-01</td>\n",
       "      <td>5</td>\n",
       "      <td>3</td>\n",
       "      <td>4</td>\n",
       "      <td>NaN</td>\n",
       "      <td>NaN</td>\n",
       "      <td>NaN</td>\n",
       "      <td>NaN</td>\n",
       "    </tr>\n",
       "    <tr>\n",
       "      <th>3</th>\n",
       "      <td>998513020664</td>\n",
       "      <td>United States</td>\n",
       "      <td>iPhone</td>\n",
       "      <td>социальные сети</td>\n",
       "      <td>2019-05-01 18:53:42</td>\n",
       "      <td>2019-05-01 18:57:35</td>\n",
       "      <td>233.0</td>\n",
       "      <td>2019-05-01</td>\n",
       "      <td>5</td>\n",
       "      <td>3</td>\n",
       "      <td>18</td>\n",
       "      <td>NaN</td>\n",
       "      <td>NaN</td>\n",
       "      <td>NaN</td>\n",
       "      <td>NaN</td>\n",
       "    </tr>\n",
       "    <tr>\n",
       "      <th>4</th>\n",
       "      <td>240702200943</td>\n",
       "      <td>United States</td>\n",
       "      <td>Mac</td>\n",
       "      <td>социальные сети</td>\n",
       "      <td>2019-05-02 14:04:32</td>\n",
       "      <td>2019-05-02 14:09:51</td>\n",
       "      <td>319.0</td>\n",
       "      <td>2019-05-02</td>\n",
       "      <td>5</td>\n",
       "      <td>4</td>\n",
       "      <td>14</td>\n",
       "      <td>NaN</td>\n",
       "      <td>NaN</td>\n",
       "      <td>NaN</td>\n",
       "      <td>NaN</td>\n",
       "    </tr>\n",
       "  </tbody>\n",
       "</table>\n",
       "</div>"
      ],
      "text/plain": [
       "        user_id         region  device          channel        session_start          session_end  sessiondurationsec session_date  month  day  \\\n",
       "0  529697267522  United States  iPhone  социальные сети  2019-05-01 00:06:40  2019-05-01 00:07:06                26.0   2019-05-01      5    3   \n",
       "1  601292388085  United States      PC          organic  2019-05-01 06:56:16  2019-05-01 07:09:18               782.0   2019-05-01      5    3   \n",
       "2  852898876338  United States     Mac  социальные сети  2019-05-01 04:30:45  2019-05-01 04:34:56               251.0   2019-05-01      5    3   \n",
       "3  998513020664  United States  iPhone  социальные сети  2019-05-01 18:53:42  2019-05-01 18:57:35               233.0   2019-05-01      5    3   \n",
       "4  240702200943  United States     Mac  социальные сети  2019-05-02 14:04:32  2019-05-02 14:09:51               319.0   2019-05-02      5    4   \n",
       "\n",
       "   hour_of_day             order_dt  revenue     payment_type  promo_code  \n",
       "0            0  2019-05-01 00:06:40   9999.0  Mobile payments         0.0  \n",
       "1            7                  NaN      NaN              NaN         NaN  \n",
       "2            4                  NaN      NaN              NaN         NaN  \n",
       "3           18                  NaN      NaN              NaN         NaN  \n",
       "4           14                  NaN      NaN              NaN         NaN  "
      ]
     },
     "execution_count": 1,
     "metadata": {},
     "output_type": "execute_result"
    }
   ],
   "source": [
    "import pandas as pd\n",
    "import numpy as np\n",
    "from scipy import stats\n",
    "import matplotlib.pyplot as plt\n",
    "import seaborn as sns\n",
    "\n",
    "pd.set_option('display.max_columns', 100)\n",
    "pd.set_option('display.max_rows', 100)\n",
    "pd.set_option('display.width', 150)\n",
    "pd.set_option('display.max_colwidth', None)\n",
    "pd.set_option('future.no_silent_downcasting', True)\n",
    "sns.set()\n",
    "\n",
    "df = pd.read_csv('data.csv')\n",
    "\n",
    "df.columns = df.columns.str.lower().str.replace(' ', '_')\n",
    "\n",
    "print(df.shape)\n",
    "df.head()"
   ]
  },
  {
   "cell_type": "markdown",
   "id": "ace8599b-6397-47eb-8764-b46ca9f690ab",
   "metadata": {
    "jp-MarkdownHeadingCollapsed": true
   },
   "source": [
    "# Set Proper Data Types"
   ]
  },
  {
   "cell_type": "code",
   "execution_count": 2,
   "id": "99af30d4-1309-48b0-9968-7c72b9d0c43e",
   "metadata": {},
   "outputs": [],
   "source": [
    "dtype_mapping = {\n",
    "    'user_id': 'int64', \n",
    "    'region': 'object', \n",
    "    'device': 'object', \n",
    "    'channel': 'object', \n",
    "    'session_start': 'datetime64[ns]', \n",
    "    'session_end': 'datetime64[ns]', \n",
    "    'sessiondurationsec': 'float64', \n",
    "    'session_date': 'datetime64[ns]', \n",
    "    'month': 'int64', \n",
    "    'day': 'int64', \n",
    "    'hour_of_day': 'int64', \n",
    "    'order_dt': 'datetime64[ns]', \n",
    "    'revenue': 'float64', \n",
    "    'payment_type': 'object', \n",
    "    'promo_code': 'float64'\n",
    "}\n",
    "\n",
    "df = df.astype(dtype_mapping)"
   ]
  },
  {
   "cell_type": "markdown",
   "id": "070e9d50-2985-4c5a-ab1d-b74bf80eab3a",
   "metadata": {
    "jp-MarkdownHeadingCollapsed": true
   },
   "source": [
    "# Drop Obvious Duplicates"
   ]
  },
  {
   "cell_type": "code",
   "execution_count": 3,
   "id": "9deb0671-b268-443e-887f-d13e4e2a8bb7",
   "metadata": {},
   "outputs": [
    {
     "name": "stdout",
     "output_type": "stream",
     "text": [
      "Number of complete duplicates: 3\n"
     ]
    }
   ],
   "source": [
    "duplicates = df.duplicated().sum()\n",
    "print('Number of complete duplicates:', duplicates)\n",
    "df.drop_duplicates(inplace=True)"
   ]
  },
  {
   "cell_type": "markdown",
   "id": "f19a87da-a27f-4001-b400-997cc07f6dae",
   "metadata": {
    "jp-MarkdownHeadingCollapsed": true
   },
   "source": [
    "# Custom Functions"
   ]
  },
  {
   "cell_type": "code",
   "execution_count": 4,
   "id": "d836bb33-2cf1-4bc1-8afa-bcd6dafa01bb",
   "metadata": {},
   "outputs": [],
   "source": [
    "def inspect_data(df):\n",
    "    \"\"\"Display basic information about the DataFrame.\"\"\"\n",
    "    print(df.info())\n",
    "\n",
    "    numeric_summary = df.describe(include=[np.number])\n",
    "    print(\"\\nSummary Statistics For Numeric Column:\\n\", numeric_summary)\n",
    "    \n",
    "    object_summary = df.describe(include=['object'])\n",
    "    print(\"\\nSummary Statistics For Object Column:\\n\", object_summary)\n",
    "    \n",
    "    datetime_summary = df.describe(include=['datetime'])\n",
    "    print(\"\\nSummary Statistics For Datetime Column:\\n\", datetime_summary)\n",
    "\n",
    "    print(\"\\nShape:\", df.shape)\n",
    "\n",
    "def plot_missing_values(df):\n",
    "    \"\"\"Visualize missing values in the DataFrame.\"\"\"\n",
    "    sns.heatmap(df.isnull(), cbar=False, cmap=\"viridis\")\n",
    "    plt.title(\"Missing Values Heatmap\")\n",
    "    plt.show()\n",
    "\n",
    "def plot_category(df, column, save=False):\n",
    "    data = df[column].fillna('unknown')\n",
    "    counts = data.value_counts(dropna=False)\n",
    "\n",
    "    plt.figure(figsize=(12,6))\n",
    "    sns.barplot(x=counts.index, y=counts.values, hue=counts.index,  palette=\"viridis\", legend=False)\n",
    "\n",
    "    for index, value in enumerate(counts.values):\n",
    "        plt.text(index, value + 0.5, str(value), ha='center', va='bottom', fontsize=10, color='black')\n",
    "\n",
    "    plt.title(f\"Counts of {column}\", fontsize=24)\n",
    "    plt.xlabel(column.capitalize(), fontsize=14, labelpad=10)\n",
    "    plt.ylabel('Count', fontsize=14)\n",
    "\n",
    "    if save:\n",
    "        plt.savefig(fname=f'./Graphs/{column}.png', format='png', bbox_inches='tight', dpi=300)\n",
    "    \n",
    "    plt.show()"
   ]
  },
  {
   "cell_type": "markdown",
   "id": "22d8538a-a967-42b8-9644-be249af8ea8b",
   "metadata": {
    "jp-MarkdownHeadingCollapsed": true
   },
   "source": [
    "# Inspect Dataframe"
   ]
  },
  {
   "cell_type": "code",
   "execution_count": 5,
   "id": "970b1b82-9736-4c0d-9348-749c15ff3e24",
   "metadata": {},
   "outputs": [
    {
     "name": "stdout",
     "output_type": "stream",
     "text": [
      "<class 'pandas.core.frame.DataFrame'>\n",
      "Index: 1009 entries, 0 to 1011\n",
      "Data columns (total 15 columns):\n",
      " #   Column              Non-Null Count  Dtype         \n",
      "---  ------              --------------  -----         \n",
      " 0   user_id             1009 non-null   int64         \n",
      " 1   region              997 non-null    object        \n",
      " 2   device              997 non-null    object        \n",
      " 3   channel             997 non-null    object        \n",
      " 4   session_start       1009 non-null   datetime64[ns]\n",
      " 5   session_end         1009 non-null   datetime64[ns]\n",
      " 6   sessiondurationsec  1009 non-null   float64       \n",
      " 7   session_date        1009 non-null   datetime64[ns]\n",
      " 8   month               1009 non-null   int64         \n",
      " 9   day                 1009 non-null   int64         \n",
      " 10  hour_of_day         1009 non-null   int64         \n",
      " 11  order_dt            282 non-null    datetime64[ns]\n",
      " 12  revenue             282 non-null    float64       \n",
      " 13  payment_type        282 non-null    object        \n",
      " 14  promo_code          282 non-null    float64       \n",
      "dtypes: datetime64[ns](4), float64(3), int64(4), object(4)\n",
      "memory usage: 126.1+ KB\n",
      "None\n",
      "\n",
      "Summary Statistics For Numeric Column:\n",
      "             user_id  sessiondurationsec        month          day  hour_of_day        revenue  promo_code\n",
      "count  1.009000e+03         1009.000000  1009.000000  1009.000000  1009.000000     282.000000  282.000000\n",
      "mean   5.072303e+11         1821.965312     7.666006     4.051536    11.475719    6864.276596    0.289806\n",
      "std    2.941526e+11         1835.888391     1.693371     2.059463     6.914131   11269.201818    0.453551\n",
      "min    7.687107e+08            0.000000     5.000000     1.000000     0.000000       1.000000    0.000000\n",
      "25%    2.478235e+11          536.000000     6.000000     2.000000     6.000000    4999.000000    0.000000\n",
      "50%    5.026832e+11         1228.000000     8.000000     4.000000    11.000000    4999.000000    0.000000\n",
      "75%    7.711474e+11         2522.000000     9.000000     6.000000    18.000000    5999.000000    1.000000\n",
      "max    9.999447e+11        12388.000000    10.000000     7.000000    23.000000  100000.000000    1.000000\n",
      "\n",
      "Summary Statistics For Object Column:\n",
      "                region  device          channel     payment_type\n",
      "count             997     997              997              282\n",
      "unique             10       5                6                5\n",
      "top     United States  iPhone  социальные сети  Mobile payments\n",
      "freq              535     355              369               85\n",
      "\n",
      "Summary Statistics For Datetime Column:\n",
      "                        session_start                    session_end                   session_date                       order_dt\n",
      "count                           1009                           1009                           1009                            282\n",
      "mean   2019-08-06 10:05:13.027750144  2019-08-06 10:35:34.993062656  2019-08-05 22:07:15.282458112  2019-08-04 08:40:31.943262464\n",
      "min              2019-05-01 00:06:40            2019-05-01 00:07:06            2019-05-01 00:00:00            2019-05-01 00:06:40\n",
      "25%              2019-06-24 18:55:43            2019-06-24 21:02:35            2019-06-24 00:00:00            2019-06-25 09:38:07\n",
      "50%              2019-08-11 01:53:24            2019-08-11 02:36:03            2019-08-11 00:00:00     2019-08-09 04:34:33.500000\n",
      "75%              2019-09-22 09:20:56            2019-09-22 09:46:01            2019-09-22 00:00:00  2019-09-14 00:14:20.249999872\n",
      "max              2019-10-31 22:56:17            2019-10-31 23:42:27            2019-10-31 00:00:00            2019-10-31 16:05:38\n",
      "\n",
      "Shape: (1009, 15)\n"
     ]
    }
   ],
   "source": [
    "inspect_data(df)"
   ]
  },
  {
   "cell_type": "markdown",
   "id": "40af0e0e-0961-4193-9bb6-7a1cb6491605",
   "metadata": {
    "jp-MarkdownHeadingCollapsed": true
   },
   "source": [
    "# Fix Typos"
   ]
  },
  {
   "cell_type": "code",
   "execution_count": 6,
   "id": "ad002ed8-ea20-4e5c-ac88-9ad21fe5012d",
   "metadata": {},
   "outputs": [],
   "source": [
    "corrections = {\n",
    "    'Frаnce': 'France',\n",
    "    'Frаncе': 'France',\n",
    "    'Franсe': 'France',\n",
    "    'Unjted States': 'United States',\n",
    "    'germany': 'Germany',\n",
    "    'UК': 'UK'\n",
    "}\n",
    "\n",
    "df['region'] = df['region'].replace(corrections)\n",
    "\n",
    "corrections = {\n",
    "    'android': 'Android'\n",
    "}\n",
    "\n",
    "df['device'] = df['device'].replace(corrections)\n",
    "\n",
    "corrections = {\n",
    "    'контексная реклама': 'контекстная реклама'\n",
    "}\n",
    "\n",
    "df['channel'] = df['channel'].replace(corrections)"
   ]
  },
  {
   "cell_type": "markdown",
   "id": "70e68659-296d-4444-a699-485c6979d4d9",
   "metadata": {
    "jp-MarkdownHeadingCollapsed": true
   },
   "source": [
    "# Check Unique Values"
   ]
  },
  {
   "cell_type": "code",
   "execution_count": 7,
   "id": "8faf31ff-644b-49f1-a08b-76a2b3ea6448",
   "metadata": {
    "scrolled": true
   },
   "outputs": [
    {
     "name": "stdout",
     "output_type": "stream",
     "text": [
      "----- USER_ID -----\n",
      "user_id\n",
      "427486793654    2\n",
      "679176482300    2\n",
      "434852403169    2\n",
      "588840798518    2\n",
      "61219447121     2\n",
      "               ..\n",
      "246163171672    1\n",
      "660140862425    1\n",
      "898253063062    1\n",
      "780224321316    1\n",
      "271758921583    1\n",
      "Name: count, Length: 998, dtype: int64\n",
      "\n",
      "----- REGION -----\n",
      "region\n",
      "United States    677\n",
      "UK               115\n",
      "France           103\n",
      "Germany          102\n",
      "NaN               12\n",
      "Name: count, dtype: int64\n",
      "\n",
      "----- DEVICE -----\n",
      "device\n",
      "iPhone     355\n",
      "Android    235\n",
      "PC         206\n",
      "Mac        201\n",
      "NaN         12\n",
      "Name: count, dtype: int64\n",
      "\n",
      "----- CHANNEL -----\n",
      "channel\n",
      "социальные сети        369\n",
      "organic                346\n",
      "контекстная реклама    159\n",
      "реклама у блогеров     100\n",
      "email-рассылки          23\n",
      "NaN                     12\n",
      "Name: count, dtype: int64\n",
      "\n",
      "----- SESSION_START -----\n",
      "session_start\n",
      "2019-10-31 16:05:38    1\n",
      "2019-10-27 17:45:29    1\n",
      "2019-10-27 07:49:45    1\n",
      "2019-10-27 11:37:29    1\n",
      "2019-10-27 06:47:27    1\n",
      "                      ..\n",
      "2019-05-02 08:40:35    1\n",
      "2019-05-02 14:04:32    1\n",
      "2019-05-01 18:53:42    1\n",
      "2019-05-01 04:30:45    1\n",
      "2019-05-01 06:56:16    1\n",
      "Name: count, Length: 1009, dtype: int64\n",
      "\n",
      "----- SESSION_END -----\n",
      "session_end\n",
      "2019-10-31 16:07:26    1\n",
      "2019-10-27 17:49:28    1\n",
      "2019-10-27 08:15:40    1\n",
      "2019-10-27 11:55:59    1\n",
      "2019-10-27 08:31:01    1\n",
      "                      ..\n",
      "2019-05-02 08:41:15    1\n",
      "2019-05-02 14:09:51    1\n",
      "2019-05-01 18:57:35    1\n",
      "2019-05-01 04:34:56    1\n",
      "2019-05-01 07:09:18    1\n",
      "Name: count, Length: 1009, dtype: int64\n",
      "\n",
      "----- SESSIONDURATIONSEC -----\n",
      "sessiondurationsec\n",
      "872.0     4\n",
      "3.0       3\n",
      "898.0     3\n",
      "450.0     3\n",
      "492.0     3\n",
      "         ..\n",
      "2067.0    1\n",
      "1937.0    1\n",
      "5113.0    1\n",
      "2770.0    1\n",
      "2550.0    1\n",
      "Name: count, Length: 919, dtype: int64\n",
      "\n",
      "----- SESSION_DATE -----\n",
      "session_date\n",
      "2019-08-11    13\n",
      "2019-10-27    13\n",
      "2019-09-30    12\n",
      "2019-10-05    12\n",
      "2019-09-28    11\n",
      "              ..\n",
      "2019-06-04     1\n",
      "2019-08-04     1\n",
      "2019-07-19     1\n",
      "2019-09-18     1\n",
      "2019-10-29     1\n",
      "Name: count, Length: 183, dtype: int64\n",
      "\n",
      "----- MONTH -----\n",
      "month\n",
      "8     191\n",
      "9     186\n",
      "10    185\n",
      "6     154\n",
      "7     147\n",
      "5     146\n",
      "Name: count, dtype: int64\n",
      "\n",
      "----- DAY -----\n",
      "day\n",
      "1    158\n",
      "7    158\n",
      "6    158\n",
      "4    135\n",
      "5    135\n",
      "2    134\n",
      "3    131\n",
      "Name: count, dtype: int64\n",
      "\n",
      "----- HOUR_OF_DAY -----\n",
      "hour_of_day\n",
      "6     59\n",
      "8     52\n",
      "0     49\n",
      "7     48\n",
      "21    48\n",
      "11    46\n",
      "5     45\n",
      "19    43\n",
      "16    42\n",
      "17    42\n",
      "13    42\n",
      "15    42\n",
      "23    41\n",
      "22    41\n",
      "4     40\n",
      "18    40\n",
      "20    40\n",
      "14    40\n",
      "1     40\n",
      "3     39\n",
      "10    38\n",
      "9     37\n",
      "12    29\n",
      "2     26\n",
      "Name: count, dtype: int64\n",
      "\n",
      "----- ORDER_DT -----\n",
      "order_dt\n",
      "NaT                    727\n",
      "2019-05-06 15:49:16      1\n",
      "2019-05-07 12:01:43      1\n",
      "2019-05-09 16:40:44      1\n",
      "2019-05-09 09:23:24      1\n",
      "                      ... \n",
      "2019-05-22 14:13:40      1\n",
      "2019-05-22 04:11:46      1\n",
      "2019-05-23 18:03:52      1\n",
      "2019-05-23 13:41:25      1\n",
      "2019-05-01 00:06:40      1\n",
      "Name: count, Length: 283, dtype: int64\n",
      "\n",
      "----- REVENUE -----\n",
      "revenue\n",
      "NaN         727\n",
      "4999.0      192\n",
      "5999.0       66\n",
      "9999.0       18\n",
      "100000.0      4\n",
      "1.0           2\n",
      "Name: count, dtype: int64\n",
      "\n",
      "----- PAYMENT_TYPE -----\n",
      "payment_type\n",
      "NaN                727\n",
      "Mobile payments     85\n",
      "E-wallet            66\n",
      "Cash                61\n",
      "Debit card          36\n",
      "Credit card         34\n",
      "Name: count, dtype: int64\n",
      "\n",
      "----- PROMO_CODE -----\n",
      "promo_code\n",
      "NaN         727\n",
      "0.000000    200\n",
      "1.000000     80\n",
      "0.862715      2\n",
      "Name: count, dtype: int64\n",
      "\n"
     ]
    }
   ],
   "source": [
    "for column in df.columns:\n",
    "    print(f'----- {column.upper()} -----')\n",
    "    print(df[column].value_counts(dropna=False))\n",
    "    print()"
   ]
  },
  {
   "cell_type": "markdown",
   "id": "fc892cf4-dff7-411c-885b-43bfdae79d4c",
   "metadata": {
    "jp-MarkdownHeadingCollapsed": true
   },
   "source": [
    "# PROMO CODE"
   ]
  },
  {
   "cell_type": "code",
   "execution_count": 8,
   "id": "9e4ef6b2-3796-418f-86f0-ea72caeb93f4",
   "metadata": {},
   "outputs": [
    {
     "data": {
      "text/plain": [
       "array([0.        ,        nan, 1.        , 0.86271506])"
      ]
     },
     "execution_count": 8,
     "metadata": {},
     "output_type": "execute_result"
    }
   ],
   "source": [
    "df['promo_code'].unique()"
   ]
  },
  {
   "cell_type": "code",
   "execution_count": 9,
   "id": "dd5478b7-716d-4649-9df1-0f8ba697d8ce",
   "metadata": {},
   "outputs": [
    {
     "data": {
      "text/plain": [
       "promo_code\n",
       "NaN         727\n",
       "0.000000    200\n",
       "1.000000     80\n",
       "0.862715      2\n",
       "Name: count, dtype: int64"
      ]
     },
     "execution_count": 9,
     "metadata": {},
     "output_type": "execute_result"
    }
   ],
   "source": [
    "# We notice 2 unusual values for promo code\n",
    "\n",
    "df['promo_code'].value_counts(dropna=False)"
   ]
  },
  {
   "cell_type": "code",
   "execution_count": 10,
   "id": "9705d23e-e173-4f0d-9d7a-48bff4f48b3a",
   "metadata": {},
   "outputs": [
    {
     "data": {
      "text/html": [
       "<div>\n",
       "<style scoped>\n",
       "    .dataframe tbody tr th:only-of-type {\n",
       "        vertical-align: middle;\n",
       "    }\n",
       "\n",
       "    .dataframe tbody tr th {\n",
       "        vertical-align: top;\n",
       "    }\n",
       "\n",
       "    .dataframe thead th {\n",
       "        text-align: right;\n",
       "    }\n",
       "</style>\n",
       "<table border=\"1\" class=\"dataframe\">\n",
       "  <thead>\n",
       "    <tr style=\"text-align: right;\">\n",
       "      <th></th>\n",
       "      <th>user_id</th>\n",
       "      <th>region</th>\n",
       "      <th>device</th>\n",
       "      <th>channel</th>\n",
       "      <th>session_start</th>\n",
       "      <th>session_end</th>\n",
       "      <th>sessiondurationsec</th>\n",
       "      <th>session_date</th>\n",
       "      <th>month</th>\n",
       "      <th>day</th>\n",
       "      <th>hour_of_day</th>\n",
       "      <th>order_dt</th>\n",
       "      <th>revenue</th>\n",
       "      <th>payment_type</th>\n",
       "      <th>promo_code</th>\n",
       "    </tr>\n",
       "  </thead>\n",
       "  <tbody>\n",
       "    <tr>\n",
       "      <th>67</th>\n",
       "      <td>768710666</td>\n",
       "      <td>United States</td>\n",
       "      <td>iPhone</td>\n",
       "      <td>реклама у блогеров</td>\n",
       "      <td>2019-05-17 18:24:36</td>\n",
       "      <td>2019-05-17 18:28:05</td>\n",
       "      <td>209.0</td>\n",
       "      <td>2019-05-17</td>\n",
       "      <td>5</td>\n",
       "      <td>5</td>\n",
       "      <td>18</td>\n",
       "      <td>2019-05-17 18:24:36</td>\n",
       "      <td>9999.0</td>\n",
       "      <td>Mobile payments</td>\n",
       "      <td>0.862715</td>\n",
       "    </tr>\n",
       "    <tr>\n",
       "      <th>495</th>\n",
       "      <td>12480325582</td>\n",
       "      <td>United States</td>\n",
       "      <td>Mac</td>\n",
       "      <td>социальные сети</td>\n",
       "      <td>2019-08-10 06:26:44</td>\n",
       "      <td>2019-08-10 06:49:56</td>\n",
       "      <td>1392.0</td>\n",
       "      <td>2019-08-10</td>\n",
       "      <td>8</td>\n",
       "      <td>6</td>\n",
       "      <td>6</td>\n",
       "      <td>2019-08-10 06:26:44</td>\n",
       "      <td>4999.0</td>\n",
       "      <td>E-wallet</td>\n",
       "      <td>0.862715</td>\n",
       "    </tr>\n",
       "  </tbody>\n",
       "</table>\n",
       "</div>"
      ],
      "text/plain": [
       "         user_id         region  device             channel       session_start         session_end  sessiondurationsec session_date  month  day  \\\n",
       "67     768710666  United States  iPhone  реклама у блогеров 2019-05-17 18:24:36 2019-05-17 18:28:05               209.0   2019-05-17      5    5   \n",
       "495  12480325582  United States     Mac     социальные сети 2019-08-10 06:26:44 2019-08-10 06:49:56              1392.0   2019-08-10      8    6   \n",
       "\n",
       "     hour_of_day            order_dt  revenue     payment_type  promo_code  \n",
       "67            18 2019-05-17 18:24:36   9999.0  Mobile payments    0.862715  \n",
       "495            6 2019-08-10 06:26:44   4999.0         E-wallet    0.862715  "
      ]
     },
     "execution_count": 10,
     "metadata": {},
     "output_type": "execute_result"
    }
   ],
   "source": [
    "# Check the rows with strange promo code values\n",
    "\n",
    "df[~df['promo_code'].isin([1, 0, np.nan])]"
   ]
  },
  {
   "cell_type": "code",
   "execution_count": 11,
   "id": "6886336b-ed49-4353-80ad-cc1c96c56d18",
   "metadata": {},
   "outputs": [
    {
     "data": {
      "text/plain": [
       "promo_code\n",
       "NaN    727\n",
       "0.0    200\n",
       "1.0     82\n",
       "Name: count, dtype: int64"
      ]
     },
     "execution_count": 11,
     "metadata": {},
     "output_type": "execute_result"
    }
   ],
   "source": [
    "# Let's just round the values and plot the distribution\n",
    "\n",
    "df['promo_code'] = df['promo_code'].round()\n",
    "df['promo_code'].value_counts(dropna=False)"
   ]
  },
  {
   "cell_type": "markdown",
   "id": "f4076039-855c-42c4-a1c5-790b29fe7cc7",
   "metadata": {
    "jp-MarkdownHeadingCollapsed": true
   },
   "source": [
    "# SESSION DURATION"
   ]
  },
  {
   "cell_type": "code",
   "execution_count": 12,
   "id": "0f57dbbc-62eb-4734-b6cc-2150a72fa6e7",
   "metadata": {},
   "outputs": [],
   "source": [
    "df['sessiondurationsec'] = df['sessiondurationsec'].round()"
   ]
  },
  {
   "cell_type": "markdown",
   "id": "c8dfb945-9a04-4647-8d23-a0d19641ec71",
   "metadata": {
    "jp-MarkdownHeadingCollapsed": true
   },
   "source": [
    "# Handling Missing Values"
   ]
  },
  {
   "cell_type": "code",
   "execution_count": 13,
   "id": "d19fe367-bc04-4fbf-8a28-30501ec664c6",
   "metadata": {},
   "outputs": [
    {
     "data": {
      "image/png": "[encoded data removed]",
      "text/plain": [
       "<Figure size 640x480 with 1 Axes>"
      ]
     },
     "metadata": {},
     "output_type": "display_data"
    }
   ],
   "source": [
    "plot_missing_values(df)"
   ]
  },
  {
   "cell_type": "code",
   "execution_count": 14,
   "id": "e544d1be-43e9-4682-a970-ae5890f3070a",
   "metadata": {},
   "outputs": [
    {
     "data": {
      "text/html": [
       "<div>\n",
       "<style scoped>\n",
       "    .dataframe tbody tr th:only-of-type {\n",
       "        vertical-align: middle;\n",
       "    }\n",
       "\n",
       "    .dataframe tbody tr th {\n",
       "        vertical-align: top;\n",
       "    }\n",
       "\n",
       "    .dataframe thead th {\n",
       "        text-align: right;\n",
       "    }\n",
       "</style>\n",
       "<table border=\"1\" class=\"dataframe\">\n",
       "  <thead>\n",
       "    <tr style=\"text-align: right;\">\n",
       "      <th></th>\n",
       "      <th>user_id</th>\n",
       "      <th>region</th>\n",
       "      <th>device</th>\n",
       "      <th>channel</th>\n",
       "      <th>session_start</th>\n",
       "      <th>session_end</th>\n",
       "      <th>sessiondurationsec</th>\n",
       "      <th>session_date</th>\n",
       "      <th>month</th>\n",
       "      <th>day</th>\n",
       "      <th>hour_of_day</th>\n",
       "      <th>order_dt</th>\n",
       "      <th>revenue</th>\n",
       "      <th>payment_type</th>\n",
       "      <th>promo_code</th>\n",
       "    </tr>\n",
       "  </thead>\n",
       "  <tbody>\n",
       "    <tr>\n",
       "      <th>408</th>\n",
       "      <td>61219447121</td>\n",
       "      <td>UK</td>\n",
       "      <td>PC</td>\n",
       "      <td>контекстная реклама</td>\n",
       "      <td>2019-07-23 03:37:05</td>\n",
       "      <td>2019-07-23 03:43:28</td>\n",
       "      <td>383.0</td>\n",
       "      <td>2019-07-23</td>\n",
       "      <td>7</td>\n",
       "      <td>2</td>\n",
       "      <td>3</td>\n",
       "      <td>2019-07-23 03:37:11</td>\n",
       "      <td>4999.0</td>\n",
       "      <td>Cash</td>\n",
       "      <td>0.0</td>\n",
       "    </tr>\n",
       "    <tr>\n",
       "      <th>564</th>\n",
       "      <td>61219447121</td>\n",
       "      <td>NaN</td>\n",
       "      <td>NaN</td>\n",
       "      <td>NaN</td>\n",
       "      <td>2019-08-18 08:16:27</td>\n",
       "      <td>2019-08-18 08:28:59</td>\n",
       "      <td>752.0</td>\n",
       "      <td>2019-08-18</td>\n",
       "      <td>8</td>\n",
       "      <td>7</td>\n",
       "      <td>8</td>\n",
       "      <td>2019-08-18 08:16:33</td>\n",
       "      <td>4999.0</td>\n",
       "      <td>Cash</td>\n",
       "      <td>0.0</td>\n",
       "    </tr>\n",
       "    <tr>\n",
       "      <th>286</th>\n",
       "      <td>87458247642</td>\n",
       "      <td>UK</td>\n",
       "      <td>Mac</td>\n",
       "      <td>контекстная реклама</td>\n",
       "      <td>2019-06-28 16:55:35</td>\n",
       "      <td>2019-06-28 17:22:30</td>\n",
       "      <td>1615.0</td>\n",
       "      <td>2019-06-28</td>\n",
       "      <td>6</td>\n",
       "      <td>5</td>\n",
       "      <td>17</td>\n",
       "      <td>2019-06-28 16:55:52</td>\n",
       "      <td>4999.0</td>\n",
       "      <td>E-wallet</td>\n",
       "      <td>0.0</td>\n",
       "    </tr>\n",
       "    <tr>\n",
       "      <th>547</th>\n",
       "      <td>87458247642</td>\n",
       "      <td>NaN</td>\n",
       "      <td>NaN</td>\n",
       "      <td>NaN</td>\n",
       "      <td>2019-08-16 17:33:09</td>\n",
       "      <td>2019-08-16 18:02:53</td>\n",
       "      <td>1784.0</td>\n",
       "      <td>2019-08-16</td>\n",
       "      <td>8</td>\n",
       "      <td>5</td>\n",
       "      <td>18</td>\n",
       "      <td>2019-08-16 17:33:25</td>\n",
       "      <td>4999.0</td>\n",
       "      <td>Credit card</td>\n",
       "      <td>0.0</td>\n",
       "    </tr>\n",
       "    <tr>\n",
       "      <th>333</th>\n",
       "      <td>213468351687</td>\n",
       "      <td>United States</td>\n",
       "      <td>Mac</td>\n",
       "      <td>социальные сети</td>\n",
       "      <td>2019-07-05 11:58:53</td>\n",
       "      <td>2019-07-05 12:30:36</td>\n",
       "      <td>1903.0</td>\n",
       "      <td>2019-07-05</td>\n",
       "      <td>7</td>\n",
       "      <td>5</td>\n",
       "      <td>12</td>\n",
       "      <td>NaT</td>\n",
       "      <td>NaN</td>\n",
       "      <td>NaN</td>\n",
       "      <td>NaN</td>\n",
       "    </tr>\n",
       "    <tr>\n",
       "      <th>392</th>\n",
       "      <td>213468351687</td>\n",
       "      <td>NaN</td>\n",
       "      <td>NaN</td>\n",
       "      <td>NaN</td>\n",
       "      <td>2019-07-20 21:19:14</td>\n",
       "      <td>2019-07-20 21:32:09</td>\n",
       "      <td>775.0</td>\n",
       "      <td>2019-07-20</td>\n",
       "      <td>7</td>\n",
       "      <td>6</td>\n",
       "      <td>21</td>\n",
       "      <td>NaT</td>\n",
       "      <td>NaN</td>\n",
       "      <td>NaN</td>\n",
       "      <td>NaN</td>\n",
       "    </tr>\n",
       "  </tbody>\n",
       "</table>\n",
       "</div>"
      ],
      "text/plain": [
       "          user_id         region device              channel       session_start         session_end  sessiondurationsec session_date  month  day  \\\n",
       "408   61219447121             UK     PC  контекстная реклама 2019-07-23 03:37:05 2019-07-23 03:43:28               383.0   2019-07-23      7    2   \n",
       "564   61219447121            NaN    NaN                  NaN 2019-08-18 08:16:27 2019-08-18 08:28:59               752.0   2019-08-18      8    7   \n",
       "286   87458247642             UK    Mac  контекстная реклама 2019-06-28 16:55:35 2019-06-28 17:22:30              1615.0   2019-06-28      6    5   \n",
       "547   87458247642            NaN    NaN                  NaN 2019-08-16 17:33:09 2019-08-16 18:02:53              1784.0   2019-08-16      8    5   \n",
       "333  213468351687  United States    Mac      социальные сети 2019-07-05 11:58:53 2019-07-05 12:30:36              1903.0   2019-07-05      7    5   \n",
       "392  213468351687            NaN    NaN                  NaN 2019-07-20 21:19:14 2019-07-20 21:32:09               775.0   2019-07-20      7    6   \n",
       "\n",
       "     hour_of_day            order_dt  revenue payment_type  promo_code  \n",
       "408            3 2019-07-23 03:37:11   4999.0         Cash         0.0  \n",
       "564            8 2019-08-18 08:16:33   4999.0         Cash         0.0  \n",
       "286           17 2019-06-28 16:55:52   4999.0     E-wallet         0.0  \n",
       "547           18 2019-08-16 17:33:25   4999.0  Credit card         0.0  \n",
       "333           12                 NaT      NaN          NaN         NaN  \n",
       "392           21                 NaT      NaN          NaN         NaN  "
      ]
     },
     "execution_count": 14,
     "metadata": {},
     "output_type": "execute_result"
    }
   ],
   "source": [
    "# Let's handle missing values in region, device and channel columns first\n",
    "# Let's check users that visited the website twice\n",
    "\n",
    "user_counts = df['user_id'].value_counts()\n",
    "user_ids_twice = user_counts[user_counts == 2].index\n",
    "\n",
    "df[df['user_id'].isin(user_ids_twice)].sort_values(by=['user_id', 'session_start']).head(6)"
   ]
  },
  {
   "cell_type": "code",
   "execution_count": 15,
   "id": "a823bd51-532f-4f71-a7c1-db4f1191d0a9",
   "metadata": {},
   "outputs": [],
   "source": [
    "# As we can see, when a user visits website a second time, the values are NaN\n",
    "# We assume that the user used the same values for region, device and channel\n",
    "\n",
    "r_d_c = ['region', 'device', 'channel']\n",
    "df[r_d_c] = df.groupby('user_id')[r_d_c].transform(lambda x: x.ffill())"
   ]
  },
  {
   "cell_type": "code",
   "execution_count": 16,
   "id": "e0a58630-3d83-4e12-a071-273b6d578011",
   "metadata": {},
   "outputs": [
    {
     "data": {
      "text/html": [
       "<div>\n",
       "<style scoped>\n",
       "    .dataframe tbody tr th:only-of-type {\n",
       "        vertical-align: middle;\n",
       "    }\n",
       "\n",
       "    .dataframe tbody tr th {\n",
       "        vertical-align: top;\n",
       "    }\n",
       "\n",
       "    .dataframe thead th {\n",
       "        text-align: right;\n",
       "    }\n",
       "</style>\n",
       "<table border=\"1\" class=\"dataframe\">\n",
       "  <thead>\n",
       "    <tr style=\"text-align: right;\">\n",
       "      <th></th>\n",
       "      <th>user_id</th>\n",
       "      <th>region</th>\n",
       "      <th>device</th>\n",
       "      <th>channel</th>\n",
       "      <th>session_start</th>\n",
       "      <th>session_end</th>\n",
       "      <th>sessiondurationsec</th>\n",
       "      <th>session_date</th>\n",
       "      <th>month</th>\n",
       "      <th>day</th>\n",
       "      <th>hour_of_day</th>\n",
       "      <th>order_dt</th>\n",
       "      <th>revenue</th>\n",
       "      <th>payment_type</th>\n",
       "      <th>promo_code</th>\n",
       "    </tr>\n",
       "  </thead>\n",
       "  <tbody>\n",
       "    <tr>\n",
       "      <th>599</th>\n",
       "      <td>16254498222</td>\n",
       "      <td>NaN</td>\n",
       "      <td>NaN</td>\n",
       "      <td>NaN</td>\n",
       "      <td>2019-08-25 13:21:44</td>\n",
       "      <td>2019-08-25 13:43:23</td>\n",
       "      <td>1299.0</td>\n",
       "      <td>2019-08-25</td>\n",
       "      <td>8</td>\n",
       "      <td>7</td>\n",
       "      <td>13</td>\n",
       "      <td>2019-08-25 13:21:55</td>\n",
       "      <td>4999.0</td>\n",
       "      <td>Cash</td>\n",
       "      <td>1.0</td>\n",
       "    </tr>\n",
       "  </tbody>\n",
       "</table>\n",
       "</div>"
      ],
      "text/plain": [
       "         user_id region device channel       session_start         session_end  sessiondurationsec session_date  month  day  hour_of_day  \\\n",
       "599  16254498222    NaN    NaN     NaN 2019-08-25 13:21:44 2019-08-25 13:43:23              1299.0   2019-08-25      8    7           13   \n",
       "\n",
       "               order_dt  revenue payment_type  promo_code  \n",
       "599 2019-08-25 13:21:55   4999.0         Cash         1.0  "
      ]
     },
     "execution_count": 16,
     "metadata": {},
     "output_type": "execute_result"
    }
   ],
   "source": [
    "# Is there any NaN values left in those columns?\n",
    "\n",
    "df[df[r_d_c].isna().all(axis=1)]"
   ]
  },
  {
   "cell_type": "code",
   "execution_count": 17,
   "id": "dc6f2221-d627-4027-8ef9-b9a69cd46e3b",
   "metadata": {},
   "outputs": [],
   "source": [
    "# Yes. We can handle this record by replacing NaN values by their respective mode\n",
    "\n",
    "# METHOD 1\n",
    "# for col in ['region', 'device', 'channel']:\n",
    "#     df[col] = df[col].fillna(df[col].mode()[0])\n",
    "\n",
    "# METHOD 2\n",
    "df.fillna({col: df[col].mode()[0] for col in r_d_c}, inplace=True)"
   ]
  },
  {
   "cell_type": "code",
   "execution_count": 18,
   "id": "bbb4c1dd-745f-4a6f-a57c-6de4d9b1c55c",
   "metadata": {},
   "outputs": [
    {
     "data": {
      "image/png": "[encoded data removed]",
      "text/plain": [
       "<Figure size 640x480 with 1 Axes>"
      ]
     },
     "metadata": {},
     "output_type": "display_data"
    }
   ],
   "source": [
    "# Check again for NaN values\n",
    "\n",
    "plot_missing_values(df)"
   ]
  },
  {
   "cell_type": "markdown",
   "id": "db126a51-34ac-41d2-b2c4-b016d215d740",
   "metadata": {
    "jp-MarkdownHeadingCollapsed": true
   },
   "source": [
    "# Handle Outliers in Revenue Column"
   ]
  },
  {
   "cell_type": "code",
   "execution_count": 19,
   "id": "80cfc831-d748-4193-b211-ca308478d650",
   "metadata": {},
   "outputs": [
    {
     "data": {
      "image/png": "[encoded data removed]",
      "text/plain": [
       "<Figure size 1200x600 with 1 Axes>"
      ]
     },
     "metadata": {},
     "output_type": "display_data"
    }
   ],
   "source": [
    "plot_category(df, 'revenue', save=False)"
   ]
  },
  {
   "cell_type": "code",
   "execution_count": 20,
   "id": "7a4560fc-2824-49f3-9374-7a8444e2964c",
   "metadata": {},
   "outputs": [
    {
     "data": {
      "image/png": "[encoded data removed]",
      "text/plain": [
       "<Figure size 1200x600 with 1 Axes>"
      ]
     },
     "metadata": {},
     "output_type": "display_data"
    }
   ],
   "source": [
    "df['revenue'] = np.where(df['revenue'] > 9999, 9999, df['revenue'])\n",
    "df['revenue'] = np.where(df['revenue'] < 4999, 4999, df['revenue'])\n",
    "\n",
    "plot_category(df, 'revenue', save=False)"
   ]
  },
  {
   "cell_type": "markdown",
   "id": "70b077fe-3897-4ba4-8fd7-14438d8151d4",
   "metadata": {
    "jp-MarkdownHeadingCollapsed": true
   },
   "source": [
    "# Create New Feature With Discount Applied\n",
    "\n",
    "`добавить столбец с итоговой суммой покупки с учетом применения\n",
    "промокода на скидку 10%`"
   ]
  },
  {
   "cell_type": "code",
   "execution_count": 21,
   "id": "3bac87e6-7199-43af-a8d1-0f228e2150c0",
   "metadata": {},
   "outputs": [],
   "source": [
    "df['final_price'] = np.where(df['promo_code'] == 1, df['revenue'] * 0.9, df['revenue'])"
   ]
  },
  {
   "cell_type": "markdown",
   "id": "eb50e921-b234-452d-90d4-8a2dd2fe6254",
   "metadata": {
    "jp-MarkdownHeadingCollapsed": true
   },
   "source": [
    "# Create New Feaute: Time of the Day\n",
    "\n",
    "`добавить столбец с указанием времени суток визита (утро 06:00-09:59,\n",
    "день 10:00-16:59, вечер 17:00-21:59, ночь 22:00-05:59)`"
   ]
  },
  {
   "cell_type": "code",
   "execution_count": 22,
   "id": "6d4999bf-7514-4037-ba4a-47f63d4c609f",
   "metadata": {},
   "outputs": [],
   "source": [
    "def get_time_of_day(hour):\n",
    "   if 6 <= hour < 10:\n",
    "       return 'morning'\n",
    "   elif 10 <= hour < 17:\n",
    "       return 'day'  \n",
    "   elif 17 <= hour < 22:\n",
    "       return 'evening'\n",
    "   else:\n",
    "       return 'night'\n",
    "\n",
    "df['time_of_day'] = df['session_start'].dt.hour.map(get_time_of_day)"
   ]
  },
  {
   "cell_type": "markdown",
   "id": "fd7d52f6-7202-400a-a6af-862361f572e4",
   "metadata": {
    "jp-MarkdownHeadingCollapsed": true
   },
   "source": [
    "# Create New Feature: Did User Purchase\n",
    "\n",
    "`добавить столбец “payer” с информацией о том, является ли\n",
    "пользователь платящим или нет.`"
   ]
  },
  {
   "cell_type": "code",
   "execution_count": 23,
   "id": "8a362c65-7ee5-41b7-a768-8435cbaa8560",
   "metadata": {},
   "outputs": [],
   "source": [
    "df['sold'] = df['revenue'].notna().astype(int)\n"
   ]
  },
  {
   "cell_type": "markdown",
   "id": "87517ac3-38ff-41ec-a41b-1309b36b0e32",
   "metadata": {
    "jp-MarkdownHeadingCollapsed": true
   },
   "source": [
    "# Inspect Data Again"
   ]
  },
  {
   "cell_type": "code",
   "execution_count": 24,
   "id": "3567de99-7366-4180-843e-dafb9d7c3c6f",
   "metadata": {},
   "outputs": [
    {
     "name": "stdout",
     "output_type": "stream",
     "text": [
      "<class 'pandas.core.frame.DataFrame'>\n",
      "Index: 1009 entries, 0 to 1011\n",
      "Data columns (total 18 columns):\n",
      " #   Column              Non-Null Count  Dtype         \n",
      "---  ------              --------------  -----         \n",
      " 0   user_id             1009 non-null   int64         \n",
      " 1   region              1009 non-null   object        \n",
      " 2   device              1009 non-null   object        \n",
      " 3   channel             1009 non-null   object        \n",
      " 4   session_start       1009 non-null   datetime64[ns]\n",
      " 5   session_end         1009 non-null   datetime64[ns]\n",
      " 6   sessiondurationsec  1009 non-null   float64       \n",
      " 7   session_date        1009 non-null   datetime64[ns]\n",
      " 8   month               1009 non-null   int64         \n",
      " 9   day                 1009 non-null   int64         \n",
      " 10  hour_of_day         1009 non-null   int64         \n",
      " 11  order_dt            282 non-null    datetime64[ns]\n",
      " 12  revenue             282 non-null    float64       \n",
      " 13  payment_type        282 non-null    object        \n",
      " 14  promo_code          282 non-null    float64       \n",
      " 15  final_price         282 non-null    float64       \n",
      " 16  time_of_day         1009 non-null   object        \n",
      " 17  sold                1009 non-null   int64         \n",
      "dtypes: datetime64[ns](4), float64(4), int64(5), object(5)\n",
      "memory usage: 149.8+ KB\n",
      "None\n",
      "\n",
      "Summary Statistics For Numeric Column:\n",
      "             user_id  sessiondurationsec        month          day  hour_of_day      revenue  promo_code  final_price         sold\n",
      "count  1.009000e+03         1009.000000  1009.000000  1009.000000  1009.000000   282.000000   282.00000   282.000000  1009.000000\n",
      "mean   5.072303e+11         1821.965312     7.666006     4.051536    11.475719  5623.113475     0.29078  5457.539716     0.279485\n",
      "std    2.941526e+11         1835.888391     1.693371     2.059463     6.914131  1342.112888     0.45493  1313.330389     0.448969\n",
      "min    7.687107e+08            0.000000     5.000000     1.000000     0.000000  4999.000000     0.00000  4499.100000     0.000000\n",
      "25%    2.478235e+11          536.000000     6.000000     2.000000     6.000000  4999.000000     0.00000  4999.000000     0.000000\n",
      "50%    5.026832e+11         1228.000000     8.000000     4.000000    11.000000  4999.000000     0.00000  4999.000000     0.000000\n",
      "75%    7.711474e+11         2522.000000     9.000000     6.000000    18.000000  5999.000000     1.00000  5849.025000     1.000000\n",
      "max    9.999447e+11        12388.000000    10.000000     7.000000    23.000000  9999.000000     1.00000  9999.000000     1.000000\n",
      "\n",
      "Summary Statistics For Object Column:\n",
      "                region  device          channel     payment_type time_of_day\n",
      "count            1009    1009             1009              282        1009\n",
      "unique              4       4                5                5           4\n",
      "top     United States  iPhone  социальные сети  Mobile payments       night\n",
      "freq              685     357              375               85         330\n",
      "\n",
      "Summary Statistics For Datetime Column:\n",
      "                        session_start                    session_end                   session_date                       order_dt\n",
      "count                           1009                           1009                           1009                            282\n",
      "mean   2019-08-06 10:05:13.027750144  2019-08-06 10:35:34.993062656  2019-08-05 22:07:15.282458112  2019-08-04 08:40:31.943262464\n",
      "min              2019-05-01 00:06:40            2019-05-01 00:07:06            2019-05-01 00:00:00            2019-05-01 00:06:40\n",
      "25%              2019-06-24 18:55:43            2019-06-24 21:02:35            2019-06-24 00:00:00            2019-06-25 09:38:07\n",
      "50%              2019-08-11 01:53:24            2019-08-11 02:36:03            2019-08-11 00:00:00     2019-08-09 04:34:33.500000\n",
      "75%              2019-09-22 09:20:56            2019-09-22 09:46:01            2019-09-22 00:00:00  2019-09-14 00:14:20.249999872\n",
      "max              2019-10-31 22:56:17            2019-10-31 23:42:27            2019-10-31 00:00:00            2019-10-31 16:05:38\n",
      "\n",
      "Shape: (1009, 18)\n"
     ]
    }
   ],
   "source": [
    "inspect_data(df)"
   ]
  },
  {
   "cell_type": "markdown",
   "id": "f655df84-1209-4540-8db4-121ee0d77b56",
   "metadata": {},
   "source": [
    "# Save Changes"
   ]
  },
  {
   "cell_type": "code",
   "execution_count": null,
   "id": "a44714df-fc1f-44ad-aa27-6a9d1a1d2ddc",
   "metadata": {},
   "outputs": [],
   "source": [
    "df.to_csv('data_part_2.csv', index=False)"
   ]
  },
  {
   "cell_type": "code",
   "execution_count": null,
   "id": "73a49a09-80da-44f6-b973-6e7838184ba0",
   "metadata": {},
   "outputs": [],
   "source": []
  }
 ],
 "metadata": {
  "kernelspec": {
   "display_name": "Python 3 (ipykernel)",
   "language": "python",
   "name": "python3"
  },
  "language_info": {
   "codemirror_mode": {
    "name": "ipython",
    "version": 3
   },
   "file_extension": ".py",
   "mimetype": "text/x-python",
   "name": "python",
   "nbconvert_exporter": "python",
   "pygments_lexer": "ipython3",
   "version": "3.12.7"
  }
 },
 "nbformat": 4,
 "nbformat_minor": 5
}
