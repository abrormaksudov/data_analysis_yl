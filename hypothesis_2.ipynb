{
 "cells": [
  {
   "cell_type": "code",
   "execution_count": 1,
   "id": "b29f1781-8e02-47b7-bb62-a4fe8c94bc1f",
   "metadata": {},
   "outputs": [
    {
     "name": "stdout",
     "output_type": "stream",
     "text": [
      "(1009, 18)\n"
     ]
    },
    {
     "data": {
      "text/html": [
       "<div>\n",
       "<style scoped>\n",
       "    .dataframe tbody tr th:only-of-type {\n",
       "        vertical-align: middle;\n",
       "    }\n",
       "\n",
       "    .dataframe tbody tr th {\n",
       "        vertical-align: top;\n",
       "    }\n",
       "\n",
       "    .dataframe thead th {\n",
       "        text-align: right;\n",
       "    }\n",
       "</style>\n",
       "<table border=\"1\" class=\"dataframe\">\n",
       "  <thead>\n",
       "    <tr style=\"text-align: right;\">\n",
       "      <th></th>\n",
       "      <th>user_id</th>\n",
       "      <th>region</th>\n",
       "      <th>device</th>\n",
       "      <th>channel</th>\n",
       "      <th>session_start</th>\n",
       "      <th>session_end</th>\n",
       "      <th>sessiondurationsec</th>\n",
       "      <th>session_date</th>\n",
       "      <th>month</th>\n",
       "      <th>day</th>\n",
       "      <th>hour_of_day</th>\n",
       "      <th>order_dt</th>\n",
       "      <th>revenue</th>\n",
       "      <th>payment_type</th>\n",
       "      <th>promo_code</th>\n",
       "      <th>final_price</th>\n",
       "      <th>time_of_day</th>\n",
       "      <th>sold</th>\n",
       "    </tr>\n",
       "  </thead>\n",
       "  <tbody>\n",
       "    <tr>\n",
       "      <th>0</th>\n",
       "      <td>529697267522</td>\n",
       "      <td>United States</td>\n",
       "      <td>iPhone</td>\n",
       "      <td>социальные сети</td>\n",
       "      <td>2019-05-01 00:06:40</td>\n",
       "      <td>2019-05-01 00:07:06</td>\n",
       "      <td>26.0</td>\n",
       "      <td>2019-05-01</td>\n",
       "      <td>5</td>\n",
       "      <td>3</td>\n",
       "      <td>0</td>\n",
       "      <td>2019-05-01 00:06:40</td>\n",
       "      <td>9999.0</td>\n",
       "      <td>Mobile payments</td>\n",
       "      <td>0.0</td>\n",
       "      <td>9999.0</td>\n",
       "      <td>night</td>\n",
       "      <td>1</td>\n",
       "    </tr>\n",
       "    <tr>\n",
       "      <th>1</th>\n",
       "      <td>601292388085</td>\n",
       "      <td>United States</td>\n",
       "      <td>PC</td>\n",
       "      <td>organic</td>\n",
       "      <td>2019-05-01 06:56:16</td>\n",
       "      <td>2019-05-01 07:09:18</td>\n",
       "      <td>782.0</td>\n",
       "      <td>2019-05-01</td>\n",
       "      <td>5</td>\n",
       "      <td>3</td>\n",
       "      <td>7</td>\n",
       "      <td>NaN</td>\n",
       "      <td>NaN</td>\n",
       "      <td>NaN</td>\n",
       "      <td>NaN</td>\n",
       "      <td>NaN</td>\n",
       "      <td>morning</td>\n",
       "      <td>0</td>\n",
       "    </tr>\n",
       "    <tr>\n",
       "      <th>2</th>\n",
       "      <td>852898876338</td>\n",
       "      <td>United States</td>\n",
       "      <td>Mac</td>\n",
       "      <td>социальные сети</td>\n",
       "      <td>2019-05-01 04:30:45</td>\n",
       "      <td>2019-05-01 04:34:56</td>\n",
       "      <td>251.0</td>\n",
       "      <td>2019-05-01</td>\n",
       "      <td>5</td>\n",
       "      <td>3</td>\n",
       "      <td>4</td>\n",
       "      <td>NaN</td>\n",
       "      <td>NaN</td>\n",
       "      <td>NaN</td>\n",
       "      <td>NaN</td>\n",
       "      <td>NaN</td>\n",
       "      <td>night</td>\n",
       "      <td>0</td>\n",
       "    </tr>\n",
       "    <tr>\n",
       "      <th>3</th>\n",
       "      <td>998513020664</td>\n",
       "      <td>United States</td>\n",
       "      <td>iPhone</td>\n",
       "      <td>социальные сети</td>\n",
       "      <td>2019-05-01 18:53:42</td>\n",
       "      <td>2019-05-01 18:57:35</td>\n",
       "      <td>233.0</td>\n",
       "      <td>2019-05-01</td>\n",
       "      <td>5</td>\n",
       "      <td>3</td>\n",
       "      <td>18</td>\n",
       "      <td>NaN</td>\n",
       "      <td>NaN</td>\n",
       "      <td>NaN</td>\n",
       "      <td>NaN</td>\n",
       "      <td>NaN</td>\n",
       "      <td>evening</td>\n",
       "      <td>0</td>\n",
       "    </tr>\n",
       "    <tr>\n",
       "      <th>4</th>\n",
       "      <td>240702200943</td>\n",
       "      <td>United States</td>\n",
       "      <td>Mac</td>\n",
       "      <td>социальные сети</td>\n",
       "      <td>2019-05-02 14:04:32</td>\n",
       "      <td>2019-05-02 14:09:51</td>\n",
       "      <td>319.0</td>\n",
       "      <td>2019-05-02</td>\n",
       "      <td>5</td>\n",
       "      <td>4</td>\n",
       "      <td>14</td>\n",
       "      <td>NaN</td>\n",
       "      <td>NaN</td>\n",
       "      <td>NaN</td>\n",
       "      <td>NaN</td>\n",
       "      <td>NaN</td>\n",
       "      <td>day</td>\n",
       "      <td>0</td>\n",
       "    </tr>\n",
       "  </tbody>\n",
       "</table>\n",
       "</div>"
      ],
      "text/plain": [
       "        user_id         region  device          channel        session_start          session_end  sessiondurationsec session_date  month  day  \\\n",
       "0  529697267522  United States  iPhone  социальные сети  2019-05-01 00:06:40  2019-05-01 00:07:06                26.0   2019-05-01      5    3   \n",
       "1  601292388085  United States      PC          organic  2019-05-01 06:56:16  2019-05-01 07:09:18               782.0   2019-05-01      5    3   \n",
       "2  852898876338  United States     Mac  социальные сети  2019-05-01 04:30:45  2019-05-01 04:34:56               251.0   2019-05-01      5    3   \n",
       "3  998513020664  United States  iPhone  социальные сети  2019-05-01 18:53:42  2019-05-01 18:57:35               233.0   2019-05-01      5    3   \n",
       "4  240702200943  United States     Mac  социальные сети  2019-05-02 14:04:32  2019-05-02 14:09:51               319.0   2019-05-02      5    4   \n",
       "\n",
       "   hour_of_day             order_dt  revenue     payment_type  promo_code  final_price time_of_day  sold  \n",
       "0            0  2019-05-01 00:06:40   9999.0  Mobile payments         0.0       9999.0       night     1  \n",
       "1            7                  NaN      NaN              NaN         NaN          NaN     morning     0  \n",
       "2            4                  NaN      NaN              NaN         NaN          NaN       night     0  \n",
       "3           18                  NaN      NaN              NaN         NaN          NaN     evening     0  \n",
       "4           14                  NaN      NaN              NaN         NaN          NaN         day     0  "
      ]
     },
     "execution_count": 1,
     "metadata": {},
     "output_type": "execute_result"
    }
   ],
   "source": [
    "import pandas as pd\n",
    "import numpy as np\n",
    "from scipy import stats\n",
    "import matplotlib.pyplot as plt\n",
    "import seaborn as sns\n",
    "from typing import *\n",
    "\n",
    "pd.set_option('display.max_columns', 100)\n",
    "pd.set_option('display.max_rows', 100)\n",
    "pd.set_option('display.width', 150)\n",
    "pd.set_option('display.max_colwidth', None)\n",
    "pd.set_option('future.no_silent_downcasting', True)\n",
    "sns.set()\n",
    "\n",
    "df = pd.read_csv('data_part_2.csv')\n",
    "\n",
    "print(df.shape)\n",
    "df.head()"
   ]
  },
  {
   "cell_type": "markdown",
   "id": "773ea82e-0b8c-49a1-ba0d-2ee0f9068ccb",
   "metadata": {},
   "source": [
    "# Set Proper Data Types"
   ]
  },
  {
   "cell_type": "code",
   "execution_count": 2,
   "id": "d8a4e9e0-feb0-4c79-9744-fde72b8de77d",
   "metadata": {},
   "outputs": [],
   "source": [
    "dtype_mapping = {\n",
    "    'user_id': 'int64', \n",
    "    'region': 'object', \n",
    "    'device': 'object', \n",
    "    'channel': 'object', \n",
    "    'session_start': 'datetime64[ns]', \n",
    "    'session_end': 'datetime64[ns]', \n",
    "    'sessiondurationsec': 'float64', \n",
    "    'session_date': 'datetime64[ns]', \n",
    "    'month': 'int64', \n",
    "    'day': 'int64', \n",
    "    'hour_of_day': 'int64', \n",
    "    'order_dt': 'datetime64[ns]', \n",
    "    'revenue': 'float64', \n",
    "    'payment_type': 'object', \n",
    "    'promo_code': 'float64'\n",
    "}\n",
    "\n",
    "df = df.astype(dtype_mapping)"
   ]
  },
  {
   "cell_type": "markdown",
   "id": "98be7e96-4381-46f9-93c4-405863287eeb",
   "metadata": {
    "jp-MarkdownHeadingCollapsed": true
   },
   "source": [
    "# 1. Data Preparation:"
   ]
  },
  {
   "cell_type": "code",
   "execution_count": 5,
   "id": "cf8b2ea6-3efb-48f2-a592-1ce515d77c96",
   "metadata": {},
   "outputs": [
    {
     "name": "stdout",
     "output_type": "stream",
     "text": [
      "Sample of daily data:\n",
      "  session_date         region             channel  sold\n",
      "0   2019-05-01  United States             organic     0\n",
      "1   2019-05-01  United States     социальные сети     1\n",
      "2   2019-05-02         France  реклама у блогеров     0\n",
      "3   2019-05-02  United States     социальные сети     0\n",
      "4   2019-05-03         France             organic     0\n",
      "\n",
      "Unique channels: ['organic' 'социальные сети' 'реклама у блогеров' 'контекстная реклама'\n",
      " 'email-рассылки']\n"
     ]
    }
   ],
   "source": [
    "def prepare_daily_channel_purchases(data):\n",
    "    daily_purchases = (data\n",
    "                      .groupby(['session_date', 'region', 'channel'])['sold']\n",
    "                      .sum()\n",
    "                      .reset_index())\n",
    "    return daily_purchases\n",
    "\n",
    "# Let's look at data\n",
    "daily_data = prepare_daily_channel_purchases(df)\n",
    "print(\"Sample of daily data:\")\n",
    "print(daily_data.head())\n",
    "print(\"\\nUnique channels:\", daily_data['channel'].unique())"
   ]
  },
  {
   "cell_type": "markdown",
   "id": "588cf193-8655-42ce-8a0a-5a033f478700",
   "metadata": {
    "jp-MarkdownHeadingCollapsed": true
   },
   "source": [
    "# 2. Check for normality:"
   ]
  },
  {
   "cell_type": "code",
   "execution_count": 7,
   "id": "53622efb-5c70-4bb8-aacb-78d489a0d5fb",
   "metadata": {},
   "outputs": [
    {
     "name": "stdout",
     "output_type": "stream",
     "text": [
      "\n",
      "Normality test results:\n",
      "           region              channel  n_samples     shapiro_p\n",
      "0   United States              organic        132  3.478933e-15\n",
      "1   United States      социальные сети        158  3.347964e-15\n",
      "2   United States   реклама у блогеров         35  8.357733e-09\n",
      "3   United States  контекстная реклама         18  9.265257e-06\n",
      "4          France              organic         29  3.103441e-10\n",
      "5          France   реклама у блогеров         18  1.186212e-05\n",
      "6          France  контекстная реклама         38  4.180788e-09\n",
      "7          France       email-рассылки         11  5.145814e-05\n",
      "8         Germany              organic         29  4.327982e-08\n",
      "9         Germany   реклама у блогеров         20  1.857047e-06\n",
      "10        Germany  контекстная реклама         39  1.016136e-09\n",
      "11        Germany       email-рассылки          5  1.309782e-04\n",
      "12             UK              organic         31  3.376156e-08\n",
      "13             UK   реклама у блогеров         22  5.144927e-07\n",
      "14             UK  контекстная реклама         44  6.939547e-09\n",
      "15             UK       email-рассылки          7  2.751787e-04\n"
     ]
    }
   ],
   "source": [
    "def test_normality_channel_purchases(daily_data):\n",
    "    results = []\n",
    "    for region in daily_data['region'].unique():\n",
    "        for channel in daily_data['channel'].unique():\n",
    "            mask = (daily_data['region'] == region) & (daily_data['channel'] == channel)\n",
    "            purchases = daily_data[mask]['sold']\n",
    "            \n",
    "            if len(purchases) > 2:  # Need at least 3 samples for Shapiro-Wilk\n",
    "                stat, pval = stats.shapiro(purchases)\n",
    "                results.append({\n",
    "                    'region': region,\n",
    "                    'channel': channel,\n",
    "                    'n_samples': len(purchases),\n",
    "                    'shapiro_p': pval\n",
    "                })\n",
    "    \n",
    "    return pd.DataFrame(results)\n",
    "\n",
    "normality_results = test_normality_channel_purchases(daily_data)\n",
    "print(\"\\nNormality test results:\")\n",
    "print(normality_results)"
   ]
  },
  {
   "cell_type": "markdown",
   "id": "0b75acba-b43e-4679-89fd-c2e9fe48759c",
   "metadata": {
    "jp-MarkdownHeadingCollapsed": true
   },
   "source": [
    "# All p-values are < 0.05, indicating non-normal distributions everywhere. Therefore, we'll use Kruskal-Wallis test for each region."
   ]
  },
  {
   "cell_type": "code",
   "execution_count": 8,
   "id": "74271ed2-4532-47b7-b7af-ffbb00a56fa7",
   "metadata": {},
   "outputs": [
    {
     "name": "stdout",
     "output_type": "stream",
     "text": [
      "\n",
      "Test results:\n",
      "          region  statistic   p_value  significant  organic_n  контекстная реклама_n  реклама у блогеров_n  социальные сети_n  organic_mean  \\\n",
      "0  United States   9.302521  0.025528         True        132                     18                    35              158.0      0.515152   \n",
      "1         France   5.713365  0.126420        False         29                     38                    18                NaN      0.103448   \n",
      "2        Germany   0.344477  0.951457        False         29                     39                    20                NaN      0.275862   \n",
      "3             UK   1.108835  0.774942        False         31                     44                    22                NaN      0.290323   \n",
      "\n",
      "   контекстная реклама_mean  реклама у блогеров_mean  социальные сети_mean  email-рассылки_n  email-рассылки_mean  \n",
      "0                  0.333333                 0.285714               0.71519               NaN                  NaN  \n",
      "1                  0.315789                 0.388889                   NaN              11.0             0.363636  \n",
      "2                  0.256410                 0.300000                   NaN               5.0             0.200000  \n",
      "3                  0.386364                 0.272727                   NaN               7.0             0.285714  \n"
     ]
    }
   ],
   "source": [
    "def test_channel_effect_by_region(daily_data):\n",
    "    \"\"\"\n",
    "    Tests effect of channel on daily purchases for each region using Kruskal-Wallis.\n",
    "    \"\"\"\n",
    "    results = []\n",
    "    \n",
    "    for region in daily_data['region'].unique():\n",
    "        region_data = daily_data[daily_data['region'] == region]\n",
    "        \n",
    "        # Get channel groups\n",
    "        channel_groups = [group['sold'].values \n",
    "                         for _, group in region_data.groupby('channel')]\n",
    "        \n",
    "        # Kruskal-Wallis test\n",
    "        stat, pval = stats.kruskal(*channel_groups)\n",
    "        \n",
    "        # Get summary statistics\n",
    "        channel_stats = region_data.groupby('channel')['sold'].agg(['size', 'mean'])\n",
    "        \n",
    "        results.append({\n",
    "            'region': region,\n",
    "            'statistic': stat,\n",
    "            'p_value': pval,\n",
    "            'significant': pval < 0.05,\n",
    "            **{f'{ch}_n': channel_stats.loc[ch, 'size'] \n",
    "               for ch in channel_stats.index},\n",
    "            **{f'{ch}_mean': channel_stats.loc[ch, 'mean'] \n",
    "               for ch in channel_stats.index}\n",
    "        })\n",
    "    \n",
    "    return pd.DataFrame(results)\n",
    "\n",
    "results = test_channel_effect_by_region(daily_data)\n",
    "print(\"\\nTest results:\")\n",
    "print(results)"
   ]
  },
  {
   "cell_type": "markdown",
   "id": "9ec26062-23b2-49ca-a5ca-1c2cf7d159ed",
   "metadata": {
    "jp-MarkdownHeadingCollapsed": true
   },
   "source": [
    "# Since we found a significant difference in USA (p = 0.025 < 0.05), we need to conduct post-hoc tests to understand specifically which channels differ from each other."
   ]
  },
  {
   "cell_type": "code",
   "execution_count": 11,
   "id": "0a2ff739-9b2b-44d9-b721-a2b7252c084c",
   "metadata": {},
   "outputs": [
    {
     "name": "stdout",
     "output_type": "stream",
     "text": [
      "\n",
      "Post-hoc test results for USA:\n",
      "             channel1             channel2  statistic   p_value  significant  channel1_mean  channel2_mean\n",
      "0             organic      социальные сети     9414.5  0.110287        False       0.515152       0.715190\n",
      "1             organic   реклама у блогеров     2676.0  0.091945        False       0.515152       0.285714\n",
      "2             organic  контекстная реклама     1341.5  0.304774        False       0.515152       0.333333\n",
      "3     социальные сети   реклама у блогеров     3446.0  0.010569        False       0.715190       0.285714\n",
      "4     социальные сети  контекстная реклама     1732.0  0.092901        False       0.715190       0.333333\n",
      "5  реклама у блогеров  контекстная реклама      306.5  0.844931        False       0.285714       0.333333\n"
     ]
    }
   ],
   "source": [
    "def perform_posthoc_tests(daily_data, region='United States', alpha=0.05):\n",
    "    region_data = daily_data[daily_data['region'] == region]\n",
    "    channels = region_data['channel'].unique()\n",
    "    n_comparisons = len(channels) * (len(channels) - 1) // 2\n",
    "    adjusted_alpha = alpha / n_comparisons\n",
    "\n",
    "    results = []\n",
    "    for i in range(len(channels)):\n",
    "        for j in range(i + 1, len(channels)):\n",
    "            ch1_data = region_data[region_data['channel'] == channels[i]]['sold']\n",
    "            ch2_data = region_data[region_data['channel'] == channels[j]]['sold']\n",
    "            \n",
    "            stat, pval = stats.mannwhitneyu(ch1_data, ch2_data, alternative='two-sided')\n",
    "            \n",
    "            results.append({\n",
    "                'channel1': channels[i],\n",
    "                'channel2': channels[j],\n",
    "                'statistic': stat,\n",
    "                'p_value': pval,\n",
    "                'significant': pval < adjusted_alpha,\n",
    "                'channel1_mean': ch1_data.mean(),\n",
    "                'channel2_mean': ch2_data.mean()\n",
    "            })\n",
    "    \n",
    "    return pd.DataFrame(results)\n",
    "\n",
    "# Perform post-hoc tests for USA\n",
    "posthoc_results = perform_posthoc_tests(daily_data)\n",
    "print(\"\\nPost-hoc test results for USA:\")\n",
    "print(posthoc_results)"
   ]
  },
  {
   "cell_type": "markdown",
   "id": "524e9ede-a894-4510-b42a-ec9d62cb7290",
   "metadata": {},
   "source": [
    "Initial analysis showed channel effect only in USA (p = 0.026 < 0.05)\n",
    "\n",
    "\n",
    "However, post-hoc analysis with Bonferroni correction (α = 0.05/6 = 0.0083) revealed:\n",
    "\n",
    "No significant pairwise differences between channels\n",
    "\n",
    "\n",
    "Closest to significance: социальные сети vs реклама у блогеров (p = 0.011)"
   ]
  },
  {
   "cell_type": "markdown",
   "id": "755989b0-1f36-4756-b8a8-2c1e11b9373c",
   "metadata": {},
   "source": [
    "# While there's some evidence of channel effect in the USA market, the differences between specific channels are not strong enough to be statistically significant after controlling for multiple comparisons. No channel effects were detected in other regions."
   ]
  },
  {
   "cell_type": "code",
   "execution_count": null,
   "id": "1492cc07-49e0-4a79-8615-31c0372739dd",
   "metadata": {},
   "outputs": [],
   "source": []
  }
 ],
 "metadata": {
  "kernelspec": {
   "display_name": "Python 3 (ipykernel)",
   "language": "python",
   "name": "python3"
  },
  "language_info": {
   "codemirror_mode": {
    "name": "ipython",
    "version": 3
   },
   "file_extension": ".py",
   "mimetype": "text/x-python",
   "name": "python",
   "nbconvert_exporter": "python",
   "pygments_lexer": "ipython3",
   "version": "3.12.7"
  }
 },
 "nbformat": 4,
 "nbformat_minor": 5
}
