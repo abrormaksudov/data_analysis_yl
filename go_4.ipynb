{
 "cells": [
  {
   "cell_type": "code",
   "execution_count": 1,
   "id": "6991c3ba-c43e-42ee-ada6-5c64d9cc5f71",
   "metadata": {},
   "outputs": [],
   "source": [
    "import pandas as pd\n",
    "import polars as pl\n",
    "import numpy as np\n",
    "from scipy import stats\n",
    "import matplotlib.pyplot as plt\n",
    "import seaborn as sns\n",
    "pd.set_option('display.width', 150)\n",
    "pd.set_option('future.no_silent_downcasting', True)\n",
    "pd.set_option('display.max_columns', 1000)\n",
    "pd.set_option('display.max_rows', 1000)\n",
    "sns.set()"
   ]
  },
  {
   "cell_type": "code",
   "execution_count": 2,
   "id": "bdbd5831-c771-49e7-b16a-58fb04e25776",
   "metadata": {},
   "outputs": [
    {
     "name": "stdout",
     "output_type": "stream",
     "text": [
      "(1009, 19)\n",
      "['user_id', 'region', 'device', 'channel', 'session_start', 'session_end', 'sessiondurationsec', 'session_date', 'month', 'day', 'hour_of_day', 'order_dt', 'revenue', 'payment_type', 'promo_code', 'final_price', 'time_of_day', 'payer', 'week']\n"
     ]
    }
   ],
   "source": [
    "dates = ['session_start', 'session_end', 'session_date', 'order_dt']\n",
    "df = pd.read_csv('ecom_go_2.csv', parse_dates=dates)\n",
    "df_pl = pl.from_pandas(df)\n",
    "\n",
    "print(df.shape)\n",
    "print(df.columns.tolist())"
   ]
  },
  {
   "cell_type": "code",
   "execution_count": 3,
   "id": "53b50af8-37e8-4711-87c7-a21395dbbd7f",
   "metadata": {},
   "outputs": [
    {
     "name": "stdout",
     "output_type": "stream",
     "text": [
      "<class 'pandas.core.frame.DataFrame'>\n",
      "RangeIndex: 1009 entries, 0 to 1008\n",
      "Data columns (total 19 columns):\n",
      " #   Column              Non-Null Count  Dtype         \n",
      "---  ------              --------------  -----         \n",
      " 0   user_id             1009 non-null   int64         \n",
      " 1   region              1009 non-null   object        \n",
      " 2   device              1009 non-null   object        \n",
      " 3   channel             1009 non-null   object        \n",
      " 4   session_start       1009 non-null   datetime64[ns]\n",
      " 5   session_end         1009 non-null   datetime64[ns]\n",
      " 6   sessiondurationsec  1009 non-null   int64         \n",
      " 7   session_date        1009 non-null   datetime64[ns]\n",
      " 8   month               1009 non-null   int64         \n",
      " 9   day                 1009 non-null   int64         \n",
      " 10  hour_of_day         1009 non-null   int64         \n",
      " 11  order_dt            282 non-null    datetime64[ns]\n",
      " 12  revenue             1009 non-null   int64         \n",
      " 13  payment_type        282 non-null    object        \n",
      " 14  promo_code          282 non-null    float64       \n",
      " 15  final_price         282 non-null    float64       \n",
      " 16  time_of_day         1009 non-null   object        \n",
      " 17  payer               1009 non-null   int64         \n",
      " 18  week                1009 non-null   object        \n",
      "dtypes: datetime64[ns](4), float64(2), int64(7), object(6)\n",
      "memory usage: 149.9+ KB\n"
     ]
    }
   ],
   "source": [
    "df.info()"
   ]
  },
  {
   "cell_type": "code",
   "execution_count": 35,
   "id": "7d0e0b30-e2f0-4fa2-8e6b-6a3c19cbf1c7",
   "metadata": {},
   "outputs": [
    {
     "name": "stdout",
     "output_type": "stream",
     "text": [
      "(1009, 19) 282\n",
      "(1009, 19) 282\n",
      "(1003, 19) 276\n"
     ]
    }
   ],
   "source": [
    "df_unchanged = df.copy()\n",
    "print(df_unchanged.shape, df_unchanged['payer'].sum())\n",
    "\n",
    "df_replaced = df.copy()\n",
    "df_replaced['revenue'] = np.where(df_replaced['revenue'] == 100000, 9999, df_replaced['revenue'])\n",
    "df_replaced['revenue'] = np.where(df_replaced['revenue'] == 1, 4999, df_replaced['revenue'])\n",
    "print(df_replaced.shape, df_replaced['payer'].sum())\n",
    "\n",
    "df_removed = df.copy()\n",
    "to_remove = df[df['revenue'].isin([1, 100000])].index\n",
    "df_removed.drop(to_remove, inplace=True)\n",
    "print(df_removed.shape, df_removed['payer'].sum())\n",
    "\n",
    "\n",
    "dfs = [df_unchanged, df_replaced, df_removed]"
   ]
  },
  {
   "cell_type": "markdown",
   "id": "cc851e6d-f7a1-4f90-9598-bbb67d8f30f2",
   "metadata": {},
   "source": [
    "### `Рассчитать средний чек`"
   ]
  },
  {
   "cell_type": "code",
   "execution_count": 36,
   "id": "b76e3151-cefe-40a5-8c64-f5c5cbf0fb1f",
   "metadata": {},
   "outputs": [
    {
     "data": {
      "text/plain": [
       "array([  9999,      0,   4999,   5999,      1, 100000])"
      ]
     },
     "execution_count": 36,
     "metadata": {},
     "output_type": "execute_result"
    }
   ],
   "source": [
    "df['revenue'].unique()"
   ]
  },
  {
   "cell_type": "code",
   "execution_count": 37,
   "id": "4fd208a5-378c-41ff-8939-6f8e07c0a425",
   "metadata": {},
   "outputs": [
    {
     "name": "stdout",
     "output_type": "stream",
     "text": [
      "1935726 998 277\n",
      "AOV=6,988, ARPU=1,940\n",
      "1585718 998 277\n",
      "AOV=5,725, ARPU=1,589\n",
      "1535724 992 271\n",
      "AOV=5,667, ARPU=1,548\n"
     ]
    }
   ],
   "source": [
    "def calculate_average_revenue(df):\n",
    "    total_revenue = df['revenue'].sum()\n",
    "\n",
    "    total_users = df['user_id'].unique().size\n",
    "    total_paid_users = df[df['revenue'] > 0]['user_id'].unique().size\n",
    "    print(total_revenue, total_users, total_paid_users)\n",
    "    AOV = (total_revenue / total_paid_users).round().astype(int).item()  # AOV\n",
    "    ARPU = (total_revenue / total_users).round().astype(int).item()  # ARPU\n",
    "\n",
    "    print(f'{AOV=:,.0f}, {ARPU=:,.0f}')\n",
    "\n",
    "for df_go in dfs:\n",
    "    calculate_average_revenue(df_go)"
   ]
  },
  {
   "cell_type": "code",
   "execution_count": 15,
   "id": "23d0f1b6-a469-4438-b398-1fd6d7e8b328",
   "metadata": {},
   "outputs": [
    {
     "data": {
      "text/plain": [
       "np.int64(1935726)"
      ]
     },
     "execution_count": 15,
     "metadata": {},
     "output_type": "execute_result"
    }
   ],
   "source": [
    "df['revenue'].sum()"
   ]
  },
  {
   "cell_type": "code",
   "execution_count": 11,
   "id": "f8520b4e-07d7-486f-993c-db8bb6d2d951",
   "metadata": {},
   "outputs": [
    {
     "data": {
      "text/plain": [
       "277"
      ]
     },
     "execution_count": 11,
     "metadata": {},
     "output_type": "execute_result"
    }
   ],
   "source": []
  },
  {
   "cell_type": "code",
   "execution_count": null,
   "id": "71797f4d-7dd5-47c6-9196-2c4428a7eca2",
   "metadata": {},
   "outputs": [],
   "source": []
  }
 ],
 "metadata": {
  "kernelspec": {
   "display_name": "Python 3 (ipykernel)",
   "language": "python",
   "name": "python3"
  },
  "language_info": {
   "codemirror_mode": {
    "name": "ipython",
    "version": 3
   },
   "file_extension": ".py",
   "mimetype": "text/x-python",
   "name": "python",
   "nbconvert_exporter": "python",
   "pygments_lexer": "ipython3",
   "version": "3.12.7"
  }
 },
 "nbformat": 4,
 "nbformat_minor": 5
}
