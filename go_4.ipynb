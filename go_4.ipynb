{
 "cells": [
  {
   "cell_type": "code",
   "execution_count": 2,
   "id": "6991c3ba-c43e-42ee-ada6-5c64d9cc5f71",
   "metadata": {},
   "outputs": [],
   "source": [
    "import pandas as pd\n",
    "import polars as pl\n",
    "import numpy as np\n",
    "from scipy import stats\n",
    "import matplotlib.pyplot as plt\n",
    "import seaborn as sns\n",
    "pd.set_option('display.width', 150)\n",
    "pd.set_option('future.no_silent_downcasting', True)\n",
    "pd.set_option('display.max_columns', 1000)\n",
    "pd.set_option('display.max_rows', 1000)\n",
    "sns.set()"
   ]
  },
  {
   "cell_type": "code",
   "execution_count": 3,
   "id": "bdbd5831-c771-49e7-b16a-58fb04e25776",
   "metadata": {},
   "outputs": [
    {
     "name": "stdout",
     "output_type": "stream",
     "text": [
      "(1009, 19)\n",
      "['user_id', 'region', 'device', 'channel', 'session_start', 'session_end', 'sessiondurationsec', 'session_date', 'month', 'day', 'hour_of_day', 'order_dt', 'revenue', 'payment_type', 'promo_code', 'final_price', 'time_of_day', 'payer', 'week']\n"
     ]
    }
   ],
   "source": [
    "dates = ['session_start', 'session_end', 'session_date', 'order_dt']\n",
    "df = pd.read_csv('ecom_go_2.csv', parse_dates=dates)\n",
    "df_pl = pl.from_pandas(df)\n",
    "\n",
    "print(df.shape)\n",
    "print(df.columns.tolist())"
   ]
  },
  {
   "cell_type": "code",
   "execution_count": 4,
   "id": "7d0e0b30-e2f0-4fa2-8e6b-6a3c19cbf1c7",
   "metadata": {},
   "outputs": [
    {
     "name": "stdout",
     "output_type": "stream",
     "text": [
      "(1009, 19) 282\n",
      "(1009, 19) 282\n",
      "(1003, 19) 276\n"
     ]
    }
   ],
   "source": [
    "df_unchanged = df.copy()\n",
    "print(df_unchanged.shape, df_unchanged['payer'].sum())\n",
    "\n",
    "df_replaced = df.copy()\n",
    "df_replaced['revenue'] = np.where(df_replaced['revenue'] == 100000, 9999, df_replaced['revenue'])\n",
    "df_replaced['revenue'] = np.where(df_replaced['revenue'] == 1, 4999, df_replaced['revenue'])\n",
    "print(df_replaced.shape, df_replaced['payer'].sum())\n",
    "\n",
    "df_removed = df.copy()\n",
    "to_remove = df[df['revenue'].isin([1, 100000])].index\n",
    "df_removed.drop(to_remove, inplace=True)\n",
    "print(df_removed.shape, df_removed['payer'].sum())\n",
    "\n",
    "\n",
    "dfs = [(df_unchanged, \"ORIGINAL DATAFRAME:\"), \n",
    "       (df_replaced, \"REPLACED DATAFRAME:\"), \n",
    "       (df_removed, \"REMOVED DATAFRAME:\")]"
   ]
  },
  {
   "cell_type": "markdown",
   "id": "cc851e6d-f7a1-4f90-9598-bbb67d8f30f2",
   "metadata": {},
   "source": [
    "### `Рассчитать средний чек`"
   ]
  },
  {
   "cell_type": "code",
   "execution_count": 5,
   "id": "b76e3151-cefe-40a5-8c64-f5c5cbf0fb1f",
   "metadata": {},
   "outputs": [
    {
     "data": {
      "text/plain": [
       "array([  9999,      0,   4999,   5999,      1, 100000])"
      ]
     },
     "execution_count": 5,
     "metadata": {},
     "output_type": "execute_result"
    }
   ],
   "source": [
    "df['revenue'].unique()"
   ]
  },
  {
   "cell_type": "code",
   "execution_count": 7,
   "id": "2390f539",
   "metadata": {},
   "outputs": [
    {
     "data": {
      "text/plain": [
       "np.int64(1585718)"
      ]
     },
     "execution_count": 7,
     "metadata": {},
     "output_type": "execute_result"
    }
   ],
   "source": [
    "df_replaced.revenue.sum()"
   ]
  },
  {
   "cell_type": "code",
   "execution_count": 6,
   "id": "cd9184b0",
   "metadata": {},
   "outputs": [
    {
     "name": "stdout",
     "output_type": "stream",
     "text": [
      "ORIGINAL DATAFRAME: AOV=6,864, ARPU=1,940\n",
      "REPLACED DATAFRAME: AOV=5,623, ARPU=1,589\n",
      "REMOVED DATAFRAME: AOV=5,564, ARPU=1,548\n"
     ]
    }
   ],
   "source": [
    "def calculate_average_revenue(df):\n",
    "    total_revenue = df['revenue'].sum()\n",
    "    \n",
    "    total_orders = df['payer'].sum()\n",
    "    total_users = df['user_id'].nunique()\n",
    "    \n",
    "    AOV = (total_revenue / total_orders).round().astype(int).item()\n",
    "    ARPU = (total_revenue / total_users).round().astype(int).item()\n",
    "\n",
    "    return f'{AOV=:,.0f}, {ARPU=:,.0f}'\n",
    "\n",
    "for df_go, df_name in dfs:\n",
    "    print(df_name, calculate_average_revenue(df_go))"
   ]
  },
  {
   "cell_type": "markdown",
   "id": "9b770ebd",
   "metadata": {},
   "source": [
    "### `Сколько покупок в среднем совершает 1 пользователь?`"
   ]
  },
  {
   "cell_type": "code",
   "execution_count": 7,
   "id": "d2c4b93c",
   "metadata": {},
   "outputs": [
    {
     "name": "stdout",
     "output_type": "stream",
     "text": [
      "ORIGINAL DATAFRAME: 0.28\n",
      "REPLACED DATAFRAME: 0.28\n",
      "REMOVED DATAFRAME: 0.28\n"
     ]
    }
   ],
   "source": [
    "def calculate_purchases_per_user(df):\n",
    "    total_purchases = df['payer'].sum()\n",
    "    total_users = df['user_id'].nunique()  # Count all unique users (paid + unpaid)\n",
    "    avg_per_user = round(total_purchases / total_users, 2)\n",
    "    return avg_per_user\n",
    "\n",
    "for df_go, df_name in dfs:\n",
    "    print(df_name, calculate_purchases_per_user(df_go))"
   ]
  },
  {
   "cell_type": "code",
   "execution_count": 8,
   "id": "8c90937a",
   "metadata": {},
   "outputs": [
    {
     "name": "stdout",
     "output_type": "stream",
     "text": [
      "ORIGINAL DATAFRAME: 1.02\n",
      "REPLACED DATAFRAME: 1.02\n",
      "REMOVED DATAFRAME: 1.02\n"
     ]
    }
   ],
   "source": [
    "def calculate_purchases_per_user(df):\n",
    "    total_purchases = df['payer'].sum()\n",
    "    paid_users = df[df['payer'] == 1]['user_id'].nunique()  # Only count users who made at least one purchase\n",
    "    avg_per_user = round(total_purchases / paid_users, 2)\n",
    "    return avg_per_user\n",
    "\n",
    "for df_go, df_name in dfs:\n",
    "    print(df_name, calculate_purchases_per_user(df_go))"
   ]
  },
  {
   "cell_type": "markdown",
   "id": "0b5f9975",
   "metadata": {},
   "source": [
    "### `Рассчитать среднюю продолжительность сессии по рекламным каналам` "
   ]
  },
  {
   "cell_type": "code",
   "execution_count": 9,
   "id": "668c5a72",
   "metadata": {},
   "outputs": [
    {
     "name": "stdout",
     "output_type": "stream",
     "text": [
      "ORIGINAL DATAFRAME:                      sessiondurationsec\n",
      "channel                                \n",
      "email-рассылки                     33.0\n",
      "organic                            31.0\n",
      "контекстная реклама                32.0\n",
      "реклама у блогеров                 31.0\n",
      "социальные сети                    28.0\n",
      "\n",
      "REPLACED DATAFRAME:                      sessiondurationsec\n",
      "channel                                \n",
      "email-рассылки                     33.0\n",
      "organic                            31.0\n",
      "контекстная реклама                32.0\n",
      "реклама у блогеров                 31.0\n",
      "социальные сети                    28.0\n",
      "\n",
      "REMOVED DATAFRAME:                      sessiondurationsec\n",
      "channel                                \n",
      "email-рассылки                     33.0\n",
      "organic                            31.0\n",
      "контекстная реклама                32.0\n",
      "реклама у блогеров                 31.0\n",
      "социальные сети                    28.0\n",
      "\n"
     ]
    }
   ],
   "source": [
    "def calculate_avg_duration_by_channel(df):\n",
    "    return (df.groupby('channel')[['sessiondurationsec']].mean() // 60)\n",
    "\n",
    "for df_go, df_name in dfs:\n",
    "    print(df_name, calculate_avg_duration_by_channel(df_go))\n",
    "    print()"
   ]
  },
  {
   "cell_type": "markdown",
   "id": "08b532ac",
   "metadata": {},
   "source": [
    "### `Рассчитать среднюю продолжительность сессии по типу устройства` "
   ]
  },
  {
   "cell_type": "code",
   "execution_count": 10,
   "id": "a83b6305",
   "metadata": {},
   "outputs": [
    {
     "name": "stdout",
     "output_type": "stream",
     "text": [
      "ORIGINAL DATAFRAME:          sessiondurationsec\n",
      "device                     \n",
      "Android                31.0\n",
      "Mac                    29.0\n",
      "PC                     32.0\n",
      "iPhone                 28.0\n",
      "\n",
      "REPLACED DATAFRAME:          sessiondurationsec\n",
      "device                     \n",
      "Android                31.0\n",
      "Mac                    29.0\n",
      "PC                     32.0\n",
      "iPhone                 28.0\n",
      "\n",
      "REMOVED DATAFRAME:          sessiondurationsec\n",
      "device                     \n",
      "Android                31.0\n",
      "Mac                    29.0\n",
      "PC                     32.0\n",
      "iPhone                 28.0\n",
      "\n"
     ]
    }
   ],
   "source": [
    "def calculate_avg_duration_by_device(df):\n",
    "    return (df.groupby('device')[['sessiondurationsec']].mean() // 60)\n",
    "\n",
    "for df_go, df_name in dfs:\n",
    "    print(df_name, calculate_avg_duration_by_device(df_go))\n",
    "    print()"
   ]
  },
  {
   "cell_type": "markdown",
   "id": "d3efaaeb",
   "metadata": {},
   "source": [
    "### `Определить топ-3 рекламных канала по среднему чеку`"
   ]
  },
  {
   "cell_type": "code",
   "execution_count": 29,
   "id": "37d426c3",
   "metadata": {},
   "outputs": [
    {
     "name": "stdout",
     "output_type": "stream",
     "text": [
      "ORIGINAL DATAFRAME: channel\n",
      "реклама у блогеров     11999\n",
      "organic                 7681\n",
      "социальные сети         5618\n",
      "email-рассылки          5428\n",
      "контекстная реклама     5310\n",
      "Name: revenue, dtype: int64\n",
      "\n",
      "REPLACED DATAFRAME: channel\n",
      "реклама у блогеров     5792\n",
      "organic                5692\n",
      "социальные сети        5663\n",
      "email-рассылки         5428\n",
      "контекстная реклама    5310\n",
      "Name: revenue, dtype: int64\n",
      "\n",
      "REMOVED DATAFRAME: channel\n",
      "социальные сети        5669\n",
      "organic                5599\n",
      "реклама у блогеров     5480\n",
      "email-рассылки         5428\n",
      "контекстная реклама    5310\n",
      "Name: revenue, dtype: int64\n",
      "\n"
     ]
    }
   ],
   "source": [
    "def top_channels(df):\n",
    "    aov_by_channel = (df[df['revenue'] > 0].groupby('channel')['revenue'].mean()\n",
    "                     .round().astype(int).sort_values(ascending=False))\n",
    "    \n",
    "    return aov_by_channel\n",
    "for df_go, df_name in dfs:\n",
    "    print(df_name, top_channels(df_go))\n",
    "    print()"
   ]
  },
  {
   "cell_type": "markdown",
   "id": "1a568823",
   "metadata": {},
   "source": [
    "### `Определить топ-3 региона по среднему чеку`"
   ]
  },
  {
   "cell_type": "code",
   "execution_count": 27,
   "id": "4ca73bc6",
   "metadata": {},
   "outputs": [
    {
     "name": "stdout",
     "output_type": "stream",
     "text": [
      "ORIGINAL DATAFRAME: region\n",
      "France           12653\n",
      "UK                8381\n",
      "United States     6014\n",
      "Germany           5479\n",
      "Name: revenue, dtype: int64\n",
      "\n",
      "REPLACED DATAFRAME: region\n",
      "UK               5734\n",
      "France           5730\n",
      "United States    5608\n",
      "Germany          5479\n",
      "Name: revenue, dtype: int64\n",
      "\n",
      "REMOVED DATAFRAME: region\n",
      "UK               5605\n",
      "United States    5592\n",
      "Germany          5479\n",
      "France           5374\n",
      "Name: revenue, dtype: int64\n",
      "\n"
     ]
    }
   ],
   "source": [
    "def top_regions(df):\n",
    "    aov_by_region = (df[df['revenue'] > 0].groupby('region')['revenue'].mean()\n",
    "                    .round().astype(int).sort_values(ascending=False))\n",
    "\n",
    "    return aov_by_region\n",
    "\n",
    "for df_go, df_name in dfs:\n",
    "    print(df_name, top_regions(df_go))\n",
    "    print()"
   ]
  },
  {
   "cell_type": "markdown",
   "id": "16c5c0f4",
   "metadata": {},
   "source": [
    "### `Определить топ-3 месяца по среднему чеку с разбивкой по регионам`"
   ]
  },
  {
   "cell_type": "code",
   "execution_count": 8,
   "id": "9818f3b4",
   "metadata": {},
   "outputs": [
    {
     "name": "stdout",
     "output_type": "stream",
     "text": [
      "           region  month  avg_check\n",
      "0          France      5       7999\n",
      "1          France      6       5570\n",
      "5          France     10       5332\n",
      "8         Germany      7       7499\n",
      "7         Germany      6       5799\n",
      "10        Germany      9       5249\n",
      "12             UK      5       7999\n",
      "17             UK     10       6142\n",
      "15             UK      8       5635\n",
      "18  United States      5       6477\n",
      "21  United States      8       5713\n",
      "19  United States      6       5666\n"
     ]
    }
   ],
   "source": [
    "def top_3_months_by_avg_check_per_region(df):\n",
    "    monthly_avg_check = (\n",
    "        df[df['revenue'] > 0]\n",
    "        .groupby(['region', 'month'])\n",
    "        .agg(avg_check=('revenue', 'mean'))\n",
    "        .reset_index()\n",
    "    )\n",
    "    \n",
    "    monthly_avg_check['avg_check'] = monthly_avg_check['avg_check'].round().astype(int)\n",
    "\n",
    "    top_3_months = (\n",
    "        monthly_avg_check\n",
    "        .sort_values(['region', 'avg_check'], ascending=[True, False])\n",
    "        .groupby('region')\n",
    "        .head(3)\n",
    "    )\n",
    "    \n",
    "    return top_3_months\n",
    "\n",
    "# for df_go, df_name in dfs:\n",
    "#     print(df_name, top_3_months_by_avg_check_per_region(df_go)[['region', 'month', 'avg_check']])\n",
    "#     print()\n",
    "result = top_3_months_by_avg_check_per_region(df_replaced)\n",
    "print(result)"
   ]
  },
  {
   "cell_type": "markdown",
   "id": "b94b81c2",
   "metadata": {},
   "source": [
    "### `Посчитать MAU по каждому месяцу с разбивкой по рекламным каналам и выделить топ-3 рекламных каналов по количеству уникальных пользователей в месяц`"
   ]
  },
  {
   "cell_type": "code",
   "execution_count": 18,
   "id": "e2118def",
   "metadata": {},
   "outputs": [
    {
     "name": "stdout",
     "output_type": "stream",
     "text": [
      "ORIGINAL DATAFRAME:     month              channel  unique_users\n",
      "1       5              organic            76\n",
      "4       5      социальные сети            41\n",
      "3       5   реклама у блогеров            14\n",
      "6       6              organic            59\n",
      "9       6      социальные сети            53\n",
      "7       6  контекстная реклама            28\n",
      "14      7      социальные сети            57\n",
      "11      7              organic            46\n",
      "12      7  контекстная реклама            24\n",
      "19      8      социальные сети            69\n",
      "16      8              organic            61\n",
      "17      8  контекстная реклама            37\n",
      "24      9      социальные сети            67\n",
      "21      9              organic            58\n",
      "22      9  контекстная реклама            38\n",
      "29     10      социальные сети            85\n",
      "26     10              organic            47\n",
      "27     10  контекстная реклама            27\n",
      "\n",
      "REPLACED DATAFRAME:     month              channel  unique_users\n",
      "1       5              organic            76\n",
      "4       5      социальные сети            41\n",
      "3       5   реклама у блогеров            14\n",
      "6       6              organic            59\n",
      "9       6      социальные сети            53\n",
      "7       6  контекстная реклама            28\n",
      "14      7      социальные сети            57\n",
      "11      7              organic            46\n",
      "12      7  контекстная реклама            24\n",
      "19      8      социальные сети            69\n",
      "16      8              organic            61\n",
      "17      8  контекстная реклама            37\n",
      "24      9      социальные сети            67\n",
      "21      9              organic            58\n",
      "22      9  контекстная реклама            38\n",
      "29     10      социальные сети            85\n",
      "26     10              organic            47\n",
      "27     10  контекстная реклама            27\n",
      "\n",
      "REMOVED DATAFRAME:     month              channel  unique_users\n",
      "1       5              organic            73\n",
      "4       5      социальные сети            40\n",
      "3       5   реклама у блогеров            12\n",
      "6       6              organic            59\n",
      "9       6      социальные сети            53\n",
      "7       6  контекстная реклама            28\n",
      "14      7      социальные сети            57\n",
      "11      7              organic            46\n",
      "12      7  контекстная реклама            24\n",
      "19      8      социальные сети            69\n",
      "16      8              organic            61\n",
      "17      8  контекстная реклама            37\n",
      "24      9      социальные сети            67\n",
      "21      9              organic            58\n",
      "22      9  контекстная реклама            38\n",
      "29     10      социальные сети            85\n",
      "26     10              organic            47\n",
      "27     10  контекстная реклама            27\n",
      "\n"
     ]
    }
   ],
   "source": [
    "def calculate_mau_by_channel(df):\n",
    "    # Calculate MAU (unique users) for each month and channel\n",
    "    mau_by_channel = (\n",
    "        df.groupby(['month', 'channel'])['user_id']\n",
    "        .nunique()\n",
    "        .reset_index(name='unique_users')\n",
    "    )\n",
    "    \n",
    "    # Find top 3 channels by unique users for each month\n",
    "    top_3_channels = (\n",
    "        mau_by_channel\n",
    "        .sort_values(['month', 'unique_users'], ascending=[True, False])\n",
    "        .groupby('month')\n",
    "        .head(3)\n",
    "    )\n",
    "    \n",
    "    return top_3_channels\n",
    "\n",
    "for df_go, df_name in dfs:\n",
    "    print(df_name, calculate_mau_by_channel(df_go))\n",
    "    print()"
   ]
  },
  {
   "cell_type": "code",
   "execution_count": 19,
   "id": "d5ec44c5",
   "metadata": {},
   "outputs": [
    {
     "data": {
      "text/plain": [
       "Index(['user_id', 'region', 'device', 'channel', 'session_start', 'session_end', 'sessiondurationsec', 'session_date', 'month', 'day', 'hour_of_day',\n",
       "       'order_dt', 'revenue', 'payment_type', 'promo_code', 'final_price', 'time_of_day', 'payer', 'week'],\n",
       "      dtype='object')"
      ]
     },
     "execution_count": 19,
     "metadata": {},
     "output_type": "execute_result"
    }
   ],
   "source": [
    "df.columns"
   ]
  },
  {
   "cell_type": "markdown",
   "id": "07feb173",
   "metadata": {},
   "source": [
    "### `Составить таблицу в которой будет указано по рекламным каналам: количество пользователей, количество уникальных пользователей, количество платящих пользователей, сумма продаж и определить какой источник “принес” больше всего платящих пользователей и большую сумму продаж`"
   ]
  },
  {
   "cell_type": "code",
   "execution_count": 30,
   "id": "7a70fd57",
   "metadata": {},
   "outputs": [
    {
     "name": "stdout",
     "output_type": "stream",
     "text": [
      "Channel with most paying users: социальные сети\n",
      "Channel with highest total sales: organic\n",
      "ORIGINAL DATAFRAME:                      users_count  unique_users  paying_users  total_sales  paying_users_rank  total_sales_rank\n",
      "channel                                                                                                       \n",
      "email-рассылки                24            23             6        37993                5.0               5.0\n",
      "organic                      347           346            87       675916                2.0               1.0\n",
      "контекстная реклама          162           159            42       238955                3.0               4.0\n",
      "реклама у блогеров           101           100            29       347973                4.0               3.0\n",
      "социальные сети              375           370           113       634889                1.0               2.0\n",
      "\n",
      "Channel with most paying users: социальные сети\n",
      "Channel with highest total sales: социальные сети\n",
      "REPLACED DATAFRAME:                      users_count  unique_users  paying_users  total_sales  paying_users_rank  total_sales_rank\n",
      "channel                                                                                                       \n",
      "email-рассылки                24            23             6        37993                5.0               5.0\n",
      "organic                      347           346            87       500912                2.0               2.0\n",
      "контекстная реклама          162           159            42       238955                3.0               3.0\n",
      "реклама у блогеров           101           100            29       167971                4.0               4.0\n",
      "социальные сети              375           370           113       639887                1.0               1.0\n",
      "\n",
      "Channel with most paying users: социальные сети\n",
      "Channel with highest total sales: социальные сети\n",
      "REMOVED DATAFRAME:                      users_count  unique_users  paying_users  total_sales  paying_users_rank  total_sales_rank\n",
      "channel                                                                                                       \n",
      "email-рассылки                24            23             6        37993                5.0               5.0\n",
      "organic                      344           343            84       475915                2.0               2.0\n",
      "контекстная реклама          162           159            42       238955                3.0               3.0\n",
      "реклама у блогеров            99            98            27       147973                4.0               4.0\n",
      "социальные сети              374           369           112       634888                1.0               1.0\n",
      "\n"
     ]
    }
   ],
   "source": [
    "def analyze_channel_performance(df):\n",
    "    channel_performance = df.groupby('channel').agg(\n",
    "        users_count=('user_id', 'count'),\n",
    "        unique_users=('user_id', 'nunique'),\n",
    "        paying_users=('user_id', lambda x: x[df.loc[x.index, 'payer'] == 1].nunique()),\n",
    "        total_sales=('revenue', 'sum')\n",
    "    )\n",
    "    \n",
    "    channel_performance['paying_users_rank'] = channel_performance['paying_users'].rank(method='dense', ascending=False)\n",
    "    channel_performance['total_sales_rank'] = channel_performance['total_sales'].rank(method='dense', ascending=False)\n",
    "    \n",
    "    top_paying_users_channel = channel_performance.sort_values('paying_users', ascending=False).index[0]\n",
    "    top_sales_channel = channel_performance.sort_values('total_sales', ascending=False).index[0]\n",
    "    \n",
    "    print(f\"Channel with most paying users: {top_paying_users_channel}\")\n",
    "    print(f\"Channel with highest total sales: {top_sales_channel}\")\n",
    "    \n",
    "    return channel_performance\n",
    "\n",
    "for df_go, df_name in dfs:\n",
    "    print(df_name, analyze_channel_performance(df_go))\n",
    "    print()"
   ]
  },
  {
   "cell_type": "code",
   "execution_count": null,
   "id": "22e298bb",
   "metadata": {},
   "outputs": [],
   "source": []
  }
 ],
 "metadata": {
  "kernelspec": {
   "display_name": "Python (venv)",
   "language": "python",
   "name": "venv"
  },
  "language_info": {
   "codemirror_mode": {
    "name": "ipython",
    "version": 3
   },
   "file_extension": ".py",
   "mimetype": "text/x-python",
   "name": "python",
   "nbconvert_exporter": "python",
   "pygments_lexer": "ipython3",
   "version": "3.12.3"
  }
 },
 "nbformat": 4,
 "nbformat_minor": 5
}
