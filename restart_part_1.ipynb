{
 "cells": [
  {
   "cell_type": "markdown",
   "id": "93cdbd79-2871-4f7e-82ec-924f433ff2c9",
   "metadata": {},
   "source": [
    "# Initial Setup"
   ]
  },
  {
   "cell_type": "code",
   "execution_count": 6,
   "id": "e7aaedc6-0220-44d6-bf83-72e219802030",
   "metadata": {},
   "outputs": [
    {
     "name": "stdout",
     "output_type": "stream",
     "text": [
      "(1012, 15)\n"
     ]
    },
    {
     "data": {
      "text/html": [
       "<div>\n",
       "<style scoped>\n",
       "    .dataframe tbody tr th:only-of-type {\n",
       "        vertical-align: middle;\n",
       "    }\n",
       "\n",
       "    .dataframe tbody tr th {\n",
       "        vertical-align: top;\n",
       "    }\n",
       "\n",
       "    .dataframe thead th {\n",
       "        text-align: right;\n",
       "    }\n",
       "</style>\n",
       "<table border=\"1\" class=\"dataframe\">\n",
       "  <thead>\n",
       "    <tr style=\"text-align: right;\">\n",
       "      <th></th>\n",
       "      <th>user_id</th>\n",
       "      <th>region</th>\n",
       "      <th>device</th>\n",
       "      <th>channel</th>\n",
       "      <th>session_start</th>\n",
       "      <th>session_end</th>\n",
       "      <th>sessiondurationsec</th>\n",
       "      <th>session_date</th>\n",
       "      <th>month</th>\n",
       "      <th>day</th>\n",
       "      <th>hour_of_day</th>\n",
       "      <th>order_dt</th>\n",
       "      <th>revenue</th>\n",
       "      <th>payment_type</th>\n",
       "      <th>promo_code</th>\n",
       "    </tr>\n",
       "  </thead>\n",
       "  <tbody>\n",
       "    <tr>\n",
       "      <th>0</th>\n",
       "      <td>529697267522</td>\n",
       "      <td>United States</td>\n",
       "      <td>iPhone</td>\n",
       "      <td>социальные сети</td>\n",
       "      <td>2019-05-01 00:06:40</td>\n",
       "      <td>2019-05-01 00:07:06</td>\n",
       "      <td>26.0</td>\n",
       "      <td>2019-05-01</td>\n",
       "      <td>5</td>\n",
       "      <td>3</td>\n",
       "      <td>0</td>\n",
       "      <td>2019-05-01 00:06:40</td>\n",
       "      <td>9999.0</td>\n",
       "      <td>Mobile payments</td>\n",
       "      <td>0.0</td>\n",
       "    </tr>\n",
       "    <tr>\n",
       "      <th>1</th>\n",
       "      <td>601292388085</td>\n",
       "      <td>United States</td>\n",
       "      <td>PC</td>\n",
       "      <td>organic</td>\n",
       "      <td>2019-05-01 06:56:16</td>\n",
       "      <td>2019-05-01 07:09:18</td>\n",
       "      <td>782.0</td>\n",
       "      <td>2019-05-01</td>\n",
       "      <td>5</td>\n",
       "      <td>3</td>\n",
       "      <td>7</td>\n",
       "      <td>NaN</td>\n",
       "      <td>NaN</td>\n",
       "      <td>NaN</td>\n",
       "      <td>NaN</td>\n",
       "    </tr>\n",
       "    <tr>\n",
       "      <th>2</th>\n",
       "      <td>852898876338</td>\n",
       "      <td>United States</td>\n",
       "      <td>Mac</td>\n",
       "      <td>социальные сети</td>\n",
       "      <td>2019-05-01 04:30:45</td>\n",
       "      <td>2019-05-01 04:34:56</td>\n",
       "      <td>251.0</td>\n",
       "      <td>2019-05-01</td>\n",
       "      <td>5</td>\n",
       "      <td>3</td>\n",
       "      <td>4</td>\n",
       "      <td>NaN</td>\n",
       "      <td>NaN</td>\n",
       "      <td>NaN</td>\n",
       "      <td>NaN</td>\n",
       "    </tr>\n",
       "    <tr>\n",
       "      <th>3</th>\n",
       "      <td>998513020664</td>\n",
       "      <td>United States</td>\n",
       "      <td>iPhone</td>\n",
       "      <td>социальные сети</td>\n",
       "      <td>2019-05-01 18:53:42</td>\n",
       "      <td>2019-05-01 18:57:35</td>\n",
       "      <td>233.0</td>\n",
       "      <td>2019-05-01</td>\n",
       "      <td>5</td>\n",
       "      <td>3</td>\n",
       "      <td>18</td>\n",
       "      <td>NaN</td>\n",
       "      <td>NaN</td>\n",
       "      <td>NaN</td>\n",
       "      <td>NaN</td>\n",
       "    </tr>\n",
       "    <tr>\n",
       "      <th>4</th>\n",
       "      <td>240702200943</td>\n",
       "      <td>United States</td>\n",
       "      <td>Mac</td>\n",
       "      <td>социальные сети</td>\n",
       "      <td>2019-05-02 14:04:32</td>\n",
       "      <td>2019-05-02 14:09:51</td>\n",
       "      <td>319.0</td>\n",
       "      <td>2019-05-02</td>\n",
       "      <td>5</td>\n",
       "      <td>4</td>\n",
       "      <td>14</td>\n",
       "      <td>NaN</td>\n",
       "      <td>NaN</td>\n",
       "      <td>NaN</td>\n",
       "      <td>NaN</td>\n",
       "    </tr>\n",
       "  </tbody>\n",
       "</table>\n",
       "</div>"
      ],
      "text/plain": [
       "        user_id         region  device          channel        session_start          session_end  sessiondurationsec session_date  month  day  \\\n",
       "0  529697267522  United States  iPhone  социальные сети  2019-05-01 00:06:40  2019-05-01 00:07:06                26.0   2019-05-01      5    3   \n",
       "1  601292388085  United States      PC          organic  2019-05-01 06:56:16  2019-05-01 07:09:18               782.0   2019-05-01      5    3   \n",
       "2  852898876338  United States     Mac  социальные сети  2019-05-01 04:30:45  2019-05-01 04:34:56               251.0   2019-05-01      5    3   \n",
       "3  998513020664  United States  iPhone  социальные сети  2019-05-01 18:53:42  2019-05-01 18:57:35               233.0   2019-05-01      5    3   \n",
       "4  240702200943  United States     Mac  социальные сети  2019-05-02 14:04:32  2019-05-02 14:09:51               319.0   2019-05-02      5    4   \n",
       "\n",
       "   hour_of_day             order_dt  revenue     payment_type  promo_code  \n",
       "0            0  2019-05-01 00:06:40   9999.0  Mobile payments         0.0  \n",
       "1            7                  NaN      NaN              NaN         NaN  \n",
       "2            4                  NaN      NaN              NaN         NaN  \n",
       "3           18                  NaN      NaN              NaN         NaN  \n",
       "4           14                  NaN      NaN              NaN         NaN  "
      ]
     },
     "execution_count": 6,
     "metadata": {},
     "output_type": "execute_result"
    }
   ],
   "source": [
    "import pandas as pd\n",
    "import numpy as np\n",
    "from scipy import stats\n",
    "import matplotlib.pyplot as plt\n",
    "import seaborn as sns\n",
    "\n",
    "# pd.set_option('display.max_columns', 100)\n",
    "# pd.set_option('display.max_rows', 100)\n",
    "pd.set_option('display.width', 150)\n",
    "# pd.set_option('display.max_colwidth', None)\n",
    "# pd.set_option('future.no_silent_downcasting', True)\n",
    "sns.set()\n",
    "\n",
    "df = pd.read_csv('data.csv')\n",
    "\n",
    "df.columns = df.columns.str.lower().str.replace(' ', '_')\n",
    "\n",
    "print(df.shape)\n",
    "df.head()"
   ]
  },
  {
   "cell_type": "markdown",
   "id": "6c305298-16c5-4934-b8a3-13a54aef3900",
   "metadata": {},
   "source": [
    "# Set Proper Data Types"
   ]
  },
  {
   "cell_type": "code",
   "execution_count": 8,
   "id": "cac32992-492a-4f65-ae19-db25fdbe9dfb",
   "metadata": {},
   "outputs": [],
   "source": [
    "dtype_mapping = {\n",
    "    'user_id': 'int64', \n",
    "    'region': 'object', \n",
    "    'device': 'object', \n",
    "    'channel': 'object', \n",
    "    'session_start': 'datetime64[ns]', \n",
    "    'session_end': 'datetime64[ns]', \n",
    "    'sessiondurationsec': 'float64', \n",
    "    'session_date': 'datetime64[ns]', \n",
    "    'month': 'int64', \n",
    "    'day': 'int64', \n",
    "    'hour_of_day': 'int64', \n",
    "    'order_dt': 'datetime64[ns]', \n",
    "    'revenue': 'float64', \n",
    "    'payment_type': 'object', \n",
    "    'promo_code': 'float64'\n",
    "}\n",
    "\n",
    "df = df.astype(dtype_mapping)"
   ]
  },
  {
   "cell_type": "markdown",
   "id": "0b9effda-4815-4781-bf0c-bd783daa3eb9",
   "metadata": {},
   "source": [
    "# Custom Functions"
   ]
  },
  {
   "cell_type": "code",
   "execution_count": 4,
   "id": "0ce6b854-4e2e-410d-91ef-b3fe8466a950",
   "metadata": {},
   "outputs": [],
   "source": [
    "def inspect_data(df):\n",
    "    print(df.info())\n",
    "    \n",
    "    numeric_df = df.select_dtypes(include=[np.number]) \n",
    "    print(\"\\nSummary Statistics For Numeric Columns:\\n\", numeric_df.describe())\n",
    "    \n",
    "    object_df = df.select_dtypes(include=['object'])\n",
    "    print(\"\\nSummary Statistics For Object Columns:\\n\", object_df.describe())\n",
    "    \n",
    "    datetime_df = df.select_dtypes(include=['datetime'])\n",
    "    print(\"\\nSummary Statistics For Datetime Columns:\\n\", datetime_df.describe())\n",
    "\n",
    "    print(\"\\nShape:\", df.shape)\n",
    "\n",
    "def inspect_unique(df):\n",
    "    for column in df.columns:\n",
    "        print(df[column].value_counts(dropna=False))\n",
    "        print()\n",
    "\n",
    "def plot_missing_values(df):\n",
    "    sns.heatmap(df.isnull(), cbar=False, cmap=\"viridis\")\n",
    "    plt.title(\"Тепловая карта пропущенных значений\")\n",
    "    plt.show()\n",
    "\n",
    "def plot_category(df, column, save=False):\n",
    "    data = df[column].fillna('unknown')\n",
    "    counts = data.value_counts()\n",
    "    counts = counts.sort_index(key=lambda x: pd.to_numeric(x, errors='coerce'))\n",
    "\n",
    "    plt.figure(figsize=(12,6))\n",
    "    sns.barplot(x=counts.index, y=counts.values, hue=counts.index,  \n",
    "                order=counts.index, palette=\"viridis\", legend=False)\n",
    "\n",
    "    for index, value in enumerate(counts.values):\n",
    "        plt.text(index, value + 0.5, str(value), ha='center', va='bottom', fontsize=10, color='black')\n",
    "\n",
    "    plt.title(f\"Counts of {column}\", fontsize=24)\n",
    "    plt.xlabel(column.capitalize(), fontsize=14, labelpad=10)\n",
    "    plt.ylabel('Count', fontsize=14)\n",
    "\n",
    "    if save:\n",
    "        plt.savefig(fname=f'./Graphs/{column}.png', format='png', bbox_inches='tight', dpi=300)\n",
    "    \n",
    "    plt.show()"
   ]
  },
  {
   "cell_type": "markdown",
   "id": "c2edd72c-b950-4530-8972-222ba4cff28a",
   "metadata": {},
   "source": [
    "# Inspect Dataframe"
   ]
  },
  {
   "cell_type": "code",
   "execution_count": 9,
   "id": "8b8847d2-0d4b-484d-b460-023cba0a6499",
   "metadata": {},
   "outputs": [
    {
     "name": "stdout",
     "output_type": "stream",
     "text": [
      "<class 'pandas.core.frame.DataFrame'>\n",
      "RangeIndex: 1012 entries, 0 to 1011\n",
      "Data columns (total 15 columns):\n",
      " #   Column              Non-Null Count  Dtype         \n",
      "---  ------              --------------  -----         \n",
      " 0   user_id             1012 non-null   int64         \n",
      " 1   region              999 non-null    object        \n",
      " 2   device              999 non-null    object        \n",
      " 3   channel             999 non-null    object        \n",
      " 4   session_start       1012 non-null   datetime64[ns]\n",
      " 5   session_end         1012 non-null   datetime64[ns]\n",
      " 6   sessiondurationsec  1012 non-null   float64       \n",
      " 7   session_date        1012 non-null   datetime64[ns]\n",
      " 8   month               1012 non-null   int64         \n",
      " 9   day                 1012 non-null   int64         \n",
      " 10  hour_of_day         1012 non-null   int64         \n",
      " 11  order_dt            285 non-null    datetime64[ns]\n",
      " 12  revenue             285 non-null    float64       \n",
      " 13  payment_type        285 non-null    object        \n",
      " 14  promo_code          285 non-null    float64       \n",
      "dtypes: datetime64[ns](4), float64(3), int64(4), object(4)\n",
      "memory usage: 118.7+ KB\n",
      "None\n",
      "\n",
      "Summary Statistics For Numeric Columns:\n",
      "             user_id  sessiondurationsec        month          day  hour_of_day        revenue  promo_code\n",
      "count  1.012000e+03         1012.000000  1012.000000  1012.000000  1012.000000     285.000000  285.000000\n",
      "mean   5.058761e+11         1822.203557     7.662055     4.053360    11.475296    6862.185965    0.296801\n",
      "std    2.947829e+11         1835.461078     1.693773     2.059721     6.912222   11212.159106    0.456283\n",
      "min    7.687107e+08            0.000000     5.000000     1.000000     0.000000       1.000000    0.000000\n",
      "25%    2.464855e+11          535.500000     6.000000     2.000000     6.000000    4999.000000    0.000000\n",
      "50%    5.011254e+11         1230.500000     8.000000     4.000000    11.000000    4999.000000    0.000000\n",
      "75%    7.704731e+11         2526.250000     9.000000     6.000000    18.000000    5999.000000    1.000000\n",
      "max    9.999447e+11        12388.000000    10.000000     7.000000    23.000000  100000.000000    1.000000\n",
      "\n",
      "Summary Statistics For Object Columns:\n",
      "                region  device          channel     payment_type\n",
      "count             999     999              999              285\n",
      "unique             10       5                6                5\n",
      "top     United States  iPhone  социальные сети  Mobile payments\n",
      "freq              535     356              370               87\n",
      "\n",
      "Summary Statistics For Datetime Columns:\n",
      "                        session_start                    session_end                   session_date                       order_dt\n",
      "count                           1012                           1012                           1012                            285\n",
      "mean   2019-08-06 07:17:33.333003776  2019-08-06 07:47:55.536561408  2019-08-05 19:19:41.027667968  2019-08-03 23:16:23.673684480\n",
      "min              2019-05-01 00:06:40            2019-05-01 00:07:06            2019-05-01 00:00:00            2019-05-01 00:06:40\n",
      "25%    2019-06-24 17:51:00.750000128     2019-06-24 18:24:43.500000            2019-06-24 00:00:00            2019-06-25 08:00:57\n",
      "50%       2019-08-11 01:09:20.500000     2019-08-11 01:47:31.500000            2019-08-11 00:00:00            2019-08-09 03:10:08\n",
      "75%    2019-09-22 05:43:04.249999872     2019-09-22 06:07:20.500000            2019-09-22 00:00:00            2019-09-13 05:12:15\n",
      "max              2019-10-31 22:56:17            2019-10-31 23:42:27            2019-10-31 00:00:00            2019-10-31 16:05:38\n",
      "\n",
      "Shape: (1012, 15)\n"
     ]
    }
   ],
   "source": [
    "inspect_data(df)"
   ]
  },
  {
   "cell_type": "markdown",
   "id": "dd109177-e460-47a9-bde4-5769f19a6b1f",
   "metadata": {
    "jp-MarkdownHeadingCollapsed": true
   },
   "source": [
    "# Inspect Unique Values"
   ]
  },
  {
   "cell_type": "code",
   "execution_count": null,
   "id": "f5636287-b61a-49c6-a550-e0e2db155099",
   "metadata": {},
   "outputs": [],
   "source": [
    "inspect_unique(df)"
   ]
  },
  {
   "cell_type": "markdown",
   "id": "f8f2bb7b-db46-4f93-b7da-7ddfe047fa6b",
   "metadata": {},
   "source": [
    "# Fix Typos"
   ]
  },
  {
   "cell_type": "code",
   "execution_count": null,
   "id": "e9501a97-4c47-49b8-9cc6-5e7e4918bf5a",
   "metadata": {},
   "outputs": [],
   "source": [
    "corrections = {\n",
    "    'Frаnce': 'France',\n",
    "    'Frаncе': 'France',\n",
    "    'Franсe': 'France',\n",
    "    'Unjted States': 'United States',\n",
    "    'germany': 'Germany',\n",
    "    'UК': 'UK'\n",
    "}\n",
    "\n",
    "df['region'] = df['region'].replace(corrections)\n",
    "\n",
    "corrections = {\n",
    "    'android': 'Android'\n",
    "}\n",
    "\n",
    "df['device'] = df['device'].replace(corrections)\n",
    "\n",
    "corrections = {\n",
    "    'контексная реклама': 'контекстная реклама'\n",
    "}\n",
    "\n",
    "df['channel'] = df['channel'].replace(corrections)"
   ]
  },
  {
   "cell_type": "markdown",
   "id": "8596cd1c-7880-4ca1-9b30-fa49e4f4feea",
   "metadata": {},
   "source": [
    "# ??? Drop Exact Duplicates ???"
   ]
  },
  {
   "cell_type": "code",
   "execution_count": null,
   "id": "3607694b-be32-45cb-9199-772348fde80c",
   "metadata": {},
   "outputs": [],
   "source": [
    "duplicates = df.duplicated().sum()\n",
    "print('Number of complete duplicates:', duplicates)\n",
    "df.drop_duplicates(inplace=True)"
   ]
  },
  {
   "cell_type": "markdown",
   "id": "96d0675f-e72d-42ce-aea6-f390f7d76272",
   "metadata": {},
   "source": [
    "# PROMO CODE"
   ]
  },
  {
   "cell_type": "code",
   "execution_count": null,
   "id": "0ea3949b-150b-49bd-a94a-95ea13be210b",
   "metadata": {},
   "outputs": [],
   "source": [
    "df[~df['promo_code'].isin([1, 0, np.nan])]"
   ]
  },
  {
   "cell_type": "code",
   "execution_count": null,
   "id": "b4e45c4a-504e-4271-8b03-bfea521b8cc1",
   "metadata": {},
   "outputs": [],
   "source": [
    "df['promo_code'] = df['promo_code'].round()\n",
    "df['promo_code'].value_counts(dropna=False)"
   ]
  },
  {
   "cell_type": "markdown",
   "id": "b0cd72eb-d550-46a1-abf8-3dcc2ec6b6eb",
   "metadata": {},
   "source": [
    "# SESSION DURATION"
   ]
  },
  {
   "cell_type": "code",
   "execution_count": null,
   "id": "a9f35b9b-556d-4100-98b8-65d5331549b5",
   "metadata": {},
   "outputs": [],
   "source": [
    "df['sessiondurationsec'] = df['sessiondurationsec'].round()"
   ]
  },
  {
   "cell_type": "markdown",
   "id": "73bcb004-ae75-4669-94ff-ffd77cc149c5",
   "metadata": {},
   "source": [
    "# Handling Missing Values"
   ]
  },
  {
   "cell_type": "code",
   "execution_count": null,
   "id": "242c2c7e-2d82-4a9d-a32e-fbab0f276fff",
   "metadata": {},
   "outputs": [],
   "source": [
    "plot_missing_values(df)"
   ]
  },
  {
   "cell_type": "code",
   "execution_count": null,
   "id": "4d940f24-02cd-4952-a5f9-87416eedd352",
   "metadata": {},
   "outputs": [],
   "source": [
    "# Let's handle missing values in region, device and channel columns first\n",
    "# Let's check users that visited the website twice\n",
    "\n",
    "user_counts = df['user_id'].value_counts()\n",
    "user_ids_twice = user_counts[user_counts == 2].index\n",
    "\n",
    "df[df['user_id'].isin(user_ids_twice)].sort_values(by=['user_id', 'session_start']).head(6)"
   ]
  },
  {
   "cell_type": "code",
   "execution_count": null,
   "id": "1922e336-8b58-487a-8e46-93d206901f4a",
   "metadata": {},
   "outputs": [],
   "source": [
    "# As we can see, when a user visits website a second time, the values are NaN\n",
    "# We assume that the user used the same values for region, device and channel\n",
    "\n",
    "r_d_c = ['region', 'device', 'channel']\n",
    "df[r_d_c] = df.groupby('user_id')[r_d_c].transform(lambda x: x.ffill())"
   ]
  },
  {
   "cell_type": "code",
   "execution_count": null,
   "id": "1c86526d-977f-46db-bcf6-06bc3c15ae2d",
   "metadata": {},
   "outputs": [],
   "source": [
    "# Is there any NaN values left in those columns?\n",
    "\n",
    "df[df[r_d_c].isna().all(axis=1)]\n",
    "\n",
    "# BE CONSERVATIVE AND DO NOT DO ANYTHING"
   ]
  },
  {
   "cell_type": "code",
   "execution_count": null,
   "id": "f30a79f0-8c9a-4d64-9ae2-9ad142c33ee1",
   "metadata": {},
   "outputs": [],
   "source": [
    "# Check again for NaN values\n",
    "\n",
    "plot_missing_values(df)"
   ]
  },
  {
   "cell_type": "markdown",
   "id": "aa109b98-2fc5-44c2-b0c8-62a2f18b7261",
   "metadata": {},
   "source": [
    "# Revenue"
   ]
  },
  {
   "cell_type": "code",
   "execution_count": 15,
   "id": "9f463a37-3c6d-45a4-922b-241e7205f736",
   "metadata": {},
   "outputs": [
    {
     "data": {
      "image/png": "[encoded data removed]",
      "text/plain": [
       "<Figure size 1200x600 with 1 Axes>"
      ]
     },
     "metadata": {},
     "output_type": "display_data"
    }
   ],
   "source": [
    "plot_category(df, 'revenue', save=False)"
   ]
  },
  {
   "cell_type": "markdown",
   "id": "9988dc5b-1378-4c88-a757-71801ba6bb0b",
   "metadata": {},
   "source": [
    "# Create New Feature With Discount Applied\n",
    "\n",
    "`добавить столбец с итоговой суммой покупки с учетом применения\n",
    "промокода на скидку 10%`"
   ]
  },
  {
   "cell_type": "code",
   "execution_count": 12,
   "id": "678e8bc0-83c6-4340-9c87-ee398bb05cf3",
   "metadata": {},
   "outputs": [],
   "source": [
    "df['final_price'] = np.where(df['promo_code'] == 1, df['revenue'] * 0.9, df['revenue'])"
   ]
  },
  {
   "cell_type": "code",
   "execution_count": 13,
   "id": "7dd3da27-052b-4e4a-ac9c-b3c8b39d813a",
   "metadata": {},
   "outputs": [
    {
     "data": {
      "text/html": [
       "<div>\n",
       "<style scoped>\n",
       "    .dataframe tbody tr th:only-of-type {\n",
       "        vertical-align: middle;\n",
       "    }\n",
       "\n",
       "    .dataframe tbody tr th {\n",
       "        vertical-align: top;\n",
       "    }\n",
       "\n",
       "    .dataframe thead th {\n",
       "        text-align: right;\n",
       "    }\n",
       "</style>\n",
       "<table border=\"1\" class=\"dataframe\">\n",
       "  <thead>\n",
       "    <tr style=\"text-align: right;\">\n",
       "      <th></th>\n",
       "      <th>index</th>\n",
       "      <th>user_id</th>\n",
       "      <th>region</th>\n",
       "      <th>device</th>\n",
       "      <th>channel</th>\n",
       "      <th>session_start</th>\n",
       "      <th>session_end</th>\n",
       "      <th>sessiondurationsec</th>\n",
       "      <th>session_date</th>\n",
       "      <th>month</th>\n",
       "      <th>day</th>\n",
       "      <th>hour_of_day</th>\n",
       "      <th>order_dt</th>\n",
       "      <th>revenue</th>\n",
       "      <th>payment_type</th>\n",
       "      <th>promo_code</th>\n",
       "      <th>final_price</th>\n",
       "    </tr>\n",
       "  </thead>\n",
       "  <tbody>\n",
       "    <tr>\n",
       "      <th>0</th>\n",
       "      <td>0</td>\n",
       "      <td>529697267522</td>\n",
       "      <td>United States</td>\n",
       "      <td>iPhone</td>\n",
       "      <td>социальные сети</td>\n",
       "      <td>2019-05-01 00:06:40</td>\n",
       "      <td>2019-05-01 00:07:06</td>\n",
       "      <td>26.000000</td>\n",
       "      <td>2019-05-01</td>\n",
       "      <td>5</td>\n",
       "      <td>3</td>\n",
       "      <td>0</td>\n",
       "      <td>2019-05-01 00:06:40</td>\n",
       "      <td>9999.0</td>\n",
       "      <td>Mobile payments</td>\n",
       "      <td>0.0</td>\n",
       "      <td>9999.0</td>\n",
       "    </tr>\n",
       "    <tr>\n",
       "      <th>1</th>\n",
       "      <td>20</td>\n",
       "      <td>771147371911</td>\n",
       "      <td>United States</td>\n",
       "      <td>Android</td>\n",
       "      <td>organic</td>\n",
       "      <td>2019-05-06 15:49:16</td>\n",
       "      <td>2019-05-06 15:53:16</td>\n",
       "      <td>240.000000</td>\n",
       "      <td>2019-05-06</td>\n",
       "      <td>5</td>\n",
       "      <td>1</td>\n",
       "      <td>15</td>\n",
       "      <td>2019-05-06 15:49:16</td>\n",
       "      <td>4999.0</td>\n",
       "      <td>Mobile payments</td>\n",
       "      <td>0.0</td>\n",
       "      <td>4999.0</td>\n",
       "    </tr>\n",
       "    <tr>\n",
       "      <th>2</th>\n",
       "      <td>28</td>\n",
       "      <td>245941309860</td>\n",
       "      <td>Germany</td>\n",
       "      <td>Mac</td>\n",
       "      <td>organic</td>\n",
       "      <td>2019-05-07 12:00:49</td>\n",
       "      <td>2019-05-07 13:10:26</td>\n",
       "      <td>4177.000000</td>\n",
       "      <td>2019-05-07</td>\n",
       "      <td>5</td>\n",
       "      <td>2</td>\n",
       "      <td>13</td>\n",
       "      <td>2019-05-07 12:01:43</td>\n",
       "      <td>4999.0</td>\n",
       "      <td>Mobile payments</td>\n",
       "      <td>1.0</td>\n",
       "      <td>4499.1</td>\n",
       "    </tr>\n",
       "    <tr>\n",
       "      <th>3</th>\n",
       "      <td>33</td>\n",
       "      <td>25672200561</td>\n",
       "      <td>Unjted States</td>\n",
       "      <td>Android</td>\n",
       "      <td>organic</td>\n",
       "      <td>2019-05-09 16:40:44</td>\n",
       "      <td>2019-05-09 16:41:31</td>\n",
       "      <td>47.000000</td>\n",
       "      <td>2019-05-09</td>\n",
       "      <td>5</td>\n",
       "      <td>4</td>\n",
       "      <td>16</td>\n",
       "      <td>2019-05-09 16:40:44</td>\n",
       "      <td>4999.0</td>\n",
       "      <td>Debit card</td>\n",
       "      <td>1.0</td>\n",
       "      <td>4499.1</td>\n",
       "    </tr>\n",
       "    <tr>\n",
       "      <th>4</th>\n",
       "      <td>34</td>\n",
       "      <td>241867611399</td>\n",
       "      <td>United States</td>\n",
       "      <td>PC</td>\n",
       "      <td>социальные сети</td>\n",
       "      <td>2019-05-09 09:23:22</td>\n",
       "      <td>2019-05-09 09:28:28</td>\n",
       "      <td>306.000000</td>\n",
       "      <td>2019-05-09</td>\n",
       "      <td>5</td>\n",
       "      <td>4</td>\n",
       "      <td>9</td>\n",
       "      <td>2019-05-09 09:23:24</td>\n",
       "      <td>4999.0</td>\n",
       "      <td>Mobile payments</td>\n",
       "      <td>0.0</td>\n",
       "      <td>4999.0</td>\n",
       "    </tr>\n",
       "    <tr>\n",
       "      <th>...</th>\n",
       "      <td>...</td>\n",
       "      <td>...</td>\n",
       "      <td>...</td>\n",
       "      <td>...</td>\n",
       "      <td>...</td>\n",
       "      <td>...</td>\n",
       "      <td>...</td>\n",
       "      <td>...</td>\n",
       "      <td>...</td>\n",
       "      <td>...</td>\n",
       "      <td>...</td>\n",
       "      <td>...</td>\n",
       "      <td>...</td>\n",
       "      <td>...</td>\n",
       "      <td>...</td>\n",
       "      <td>...</td>\n",
       "      <td>...</td>\n",
       "    </tr>\n",
       "    <tr>\n",
       "      <th>280</th>\n",
       "      <td>1000</td>\n",
       "      <td>903375623800</td>\n",
       "      <td>Germany</td>\n",
       "      <td>PC</td>\n",
       "      <td>контекстная реклама</td>\n",
       "      <td>2019-10-27 06:11:15</td>\n",
       "      <td>2019-10-27 06:48:03</td>\n",
       "      <td>2208.000000</td>\n",
       "      <td>2019-10-27</td>\n",
       "      <td>10</td>\n",
       "      <td>7</td>\n",
       "      <td>6</td>\n",
       "      <td>2019-10-27 06:11:15</td>\n",
       "      <td>4999.0</td>\n",
       "      <td>Debit card</td>\n",
       "      <td>0.0</td>\n",
       "      <td>4999.0</td>\n",
       "    </tr>\n",
       "    <tr>\n",
       "      <th>281</th>\n",
       "      <td>1001</td>\n",
       "      <td>917285763144</td>\n",
       "      <td>United States</td>\n",
       "      <td>iPhone</td>\n",
       "      <td>социальные сети</td>\n",
       "      <td>2019-10-27 17:05:01</td>\n",
       "      <td>2019-10-27 17:09:33</td>\n",
       "      <td>272.000000</td>\n",
       "      <td>2019-10-27</td>\n",
       "      <td>10</td>\n",
       "      <td>7</td>\n",
       "      <td>17</td>\n",
       "      <td>2019-10-27 17:05:05</td>\n",
       "      <td>4999.0</td>\n",
       "      <td>Mobile payments</td>\n",
       "      <td>0.0</td>\n",
       "      <td>4999.0</td>\n",
       "    </tr>\n",
       "    <tr>\n",
       "      <th>282</th>\n",
       "      <td>1005</td>\n",
       "      <td>323207942235</td>\n",
       "      <td>United States</td>\n",
       "      <td>PC</td>\n",
       "      <td>социальные сети</td>\n",
       "      <td>2019-10-28 15:20:25</td>\n",
       "      <td>2019-10-28 15:54:52</td>\n",
       "      <td>2067.000000</td>\n",
       "      <td>2019-10-28</td>\n",
       "      <td>10</td>\n",
       "      <td>1</td>\n",
       "      <td>15</td>\n",
       "      <td>2019-10-28 15:20:42</td>\n",
       "      <td>4999.0</td>\n",
       "      <td>Cash</td>\n",
       "      <td>1.0</td>\n",
       "      <td>4499.1</td>\n",
       "    </tr>\n",
       "    <tr>\n",
       "      <th>283</th>\n",
       "      <td>1006</td>\n",
       "      <td>347665115829</td>\n",
       "      <td>United States</td>\n",
       "      <td>Mac</td>\n",
       "      <td>социальные сети</td>\n",
       "      <td>2019-10-28 03:20:26</td>\n",
       "      <td>2019-10-28 03:32:52</td>\n",
       "      <td>746.000000</td>\n",
       "      <td>2019-10-28</td>\n",
       "      <td>10</td>\n",
       "      <td>1</td>\n",
       "      <td>3</td>\n",
       "      <td>2019-10-28 03:20:38</td>\n",
       "      <td>4999.0</td>\n",
       "      <td>E-wallet</td>\n",
       "      <td>0.0</td>\n",
       "      <td>4999.0</td>\n",
       "    </tr>\n",
       "    <tr>\n",
       "      <th>284</th>\n",
       "      <td>1011</td>\n",
       "      <td>660481970221</td>\n",
       "      <td>United States</td>\n",
       "      <td>Android</td>\n",
       "      <td>organic</td>\n",
       "      <td>2019-10-31 16:05:38</td>\n",
       "      <td>2019-10-31 16:07:26</td>\n",
       "      <td>107.999999</td>\n",
       "      <td>2019-10-31</td>\n",
       "      <td>10</td>\n",
       "      <td>4</td>\n",
       "      <td>16</td>\n",
       "      <td>2019-10-31 16:05:38</td>\n",
       "      <td>4999.0</td>\n",
       "      <td>Cash</td>\n",
       "      <td>0.0</td>\n",
       "      <td>4999.0</td>\n",
       "    </tr>\n",
       "  </tbody>\n",
       "</table>\n",
       "<p>285 rows × 17 columns</p>\n",
       "</div>"
      ],
      "text/plain": [
       "     index       user_id         region   device              channel       session_start         session_end  sessiondurationsec session_date  \\\n",
       "0        0  529697267522  United States   iPhone      социальные сети 2019-05-01 00:06:40 2019-05-01 00:07:06           26.000000   2019-05-01   \n",
       "1       20  771147371911  United States  Android              organic 2019-05-06 15:49:16 2019-05-06 15:53:16          240.000000   2019-05-06   \n",
       "2       28  245941309860        Germany      Mac              organic 2019-05-07 12:00:49 2019-05-07 13:10:26         4177.000000   2019-05-07   \n",
       "3       33   25672200561  Unjted States  Android              organic 2019-05-09 16:40:44 2019-05-09 16:41:31           47.000000   2019-05-09   \n",
       "4       34  241867611399  United States       PC      социальные сети 2019-05-09 09:23:22 2019-05-09 09:28:28          306.000000   2019-05-09   \n",
       "..     ...           ...            ...      ...                  ...                 ...                 ...                 ...          ...   \n",
       "280   1000  903375623800        Germany       PC  контекстная реклама 2019-10-27 06:11:15 2019-10-27 06:48:03         2208.000000   2019-10-27   \n",
       "281   1001  917285763144  United States   iPhone      социальные сети 2019-10-27 17:05:01 2019-10-27 17:09:33          272.000000   2019-10-27   \n",
       "282   1005  323207942235  United States       PC      социальные сети 2019-10-28 15:20:25 2019-10-28 15:54:52         2067.000000   2019-10-28   \n",
       "283   1006  347665115829  United States      Mac      социальные сети 2019-10-28 03:20:26 2019-10-28 03:32:52          746.000000   2019-10-28   \n",
       "284   1011  660481970221  United States  Android              organic 2019-10-31 16:05:38 2019-10-31 16:07:26          107.999999   2019-10-31   \n",
       "\n",
       "     month  day  hour_of_day            order_dt  revenue     payment_type  promo_code  final_price  \n",
       "0        5    3            0 2019-05-01 00:06:40   9999.0  Mobile payments         0.0       9999.0  \n",
       "1        5    1           15 2019-05-06 15:49:16   4999.0  Mobile payments         0.0       4999.0  \n",
       "2        5    2           13 2019-05-07 12:01:43   4999.0  Mobile payments         1.0       4499.1  \n",
       "3        5    4           16 2019-05-09 16:40:44   4999.0       Debit card         1.0       4499.1  \n",
       "4        5    4            9 2019-05-09 09:23:24   4999.0  Mobile payments         0.0       4999.0  \n",
       "..     ...  ...          ...                 ...      ...              ...         ...          ...  \n",
       "280     10    7            6 2019-10-27 06:11:15   4999.0       Debit card         0.0       4999.0  \n",
       "281     10    7           17 2019-10-27 17:05:05   4999.0  Mobile payments         0.0       4999.0  \n",
       "282     10    1           15 2019-10-28 15:20:42   4999.0             Cash         1.0       4499.1  \n",
       "283     10    1            3 2019-10-28 03:20:38   4999.0         E-wallet         0.0       4999.0  \n",
       "284     10    4           16 2019-10-31 16:05:38   4999.0             Cash         0.0       4999.0  \n",
       "\n",
       "[285 rows x 17 columns]"
      ]
     },
     "execution_count": 13,
     "metadata": {},
     "output_type": "execute_result"
    }
   ],
   "source": [
    "df[df.revenue.notna()].reset_index()"
   ]
  },
  {
   "cell_type": "code",
   "execution_count": 14,
   "id": "10c19470-ccce-4cd3-900a-222e81ef3566",
   "metadata": {},
   "outputs": [
    {
     "data": {
      "image/png": "[encoded data removed]",
      "text/plain": [
       "<Figure size 1200x600 with 1 Axes>"
      ]
     },
     "metadata": {},
     "output_type": "display_data"
    }
   ],
   "source": [
    "plot_category(df[df.revenue.notna()].reset_index(), 'final_price', save=False)"
   ]
  },
  {
   "cell_type": "markdown",
   "id": "2cbad2f1-5e4a-4ab1-ad36-4846c62f01b0",
   "metadata": {
    "jp-MarkdownHeadingCollapsed": true
   },
   "source": [
    "# Create New Feaute: Time of the Day\n",
    "\n",
    "`добавить столбец с указанием времени суток визита (утро 06:00-09:59,\n",
    "день 10:00-16:59, вечер 17:00-21:59, ночь 22:00-05:59)`"
   ]
  },
  {
   "cell_type": "code",
   "execution_count": null,
   "id": "be2f15d4-f681-4b9e-8d83-a065ad815698",
   "metadata": {},
   "outputs": [],
   "source": [
    "def get_time_of_day(hour):\n",
    "   if 6 <= hour < 10:\n",
    "       return 'morning'\n",
    "   elif 10 <= hour < 17:\n",
    "       return 'day'  \n",
    "   elif 17 <= hour < 22:\n",
    "       return 'evening'\n",
    "   else:\n",
    "       return 'night'\n",
    "\n",
    "df['time_of_day'] = df['hour_of_day'].map(get_time_of_day)"
   ]
  },
  {
   "cell_type": "code",
   "execution_count": null,
   "id": "599a9fd4-49a4-41b9-995c-4d650bd47552",
   "metadata": {},
   "outputs": [],
   "source": [
    "df"
   ]
  },
  {
   "cell_type": "code",
   "execution_count": null,
   "id": "50ba45ff-73a1-4aa2-a43f-b2b871e9adaa",
   "metadata": {},
   "outputs": [],
   "source": [
    "plot_category(df, 'time_of_day', save=False)"
   ]
  },
  {
   "cell_type": "markdown",
   "id": "f8b62a70-864b-477c-809a-6ebd1cb2e674",
   "metadata": {
    "jp-MarkdownHeadingCollapsed": true
   },
   "source": [
    "# Create New Feature: Did User Purchase\n",
    "\n",
    "`добавить столбец “payer” с информацией о том, является ли\n",
    "пользователь платящим или нет.`"
   ]
  },
  {
   "cell_type": "code",
   "execution_count": null,
   "id": "56bc7c6f-356b-4bbe-bbf4-8477ede3bc49",
   "metadata": {},
   "outputs": [],
   "source": [
    "df['payer'] = df['revenue'].notna().astype(int)"
   ]
  },
  {
   "cell_type": "markdown",
   "id": "ef2f5911-cff8-4a50-8ab9-cefaf6f87800",
   "metadata": {
    "jp-MarkdownHeadingCollapsed": true
   },
   "source": [
    "# Inspect Data Again"
   ]
  },
  {
   "cell_type": "code",
   "execution_count": null,
   "id": "39696b68-4e16-49ca-99bb-ab9b28c39f39",
   "metadata": {},
   "outputs": [],
   "source": [
    "inspect_data(df)"
   ]
  },
  {
   "cell_type": "markdown",
   "id": "d6cc9c45-a9bb-4d5b-b794-9907a0253d02",
   "metadata": {},
   "source": [
    "# Save Changes"
   ]
  },
  {
   "cell_type": "code",
   "execution_count": null,
   "id": "3173f481-9caf-4c5a-8652-c60dcb559745",
   "metadata": {},
   "outputs": [],
   "source": [
    "df.to_csv('restart_data.csv', index=False)"
   ]
  },
  {
   "cell_type": "code",
   "execution_count": null,
   "id": "19305aa3-6804-424e-9cc1-01b6fef28c6c",
   "metadata": {},
   "outputs": [],
   "source": []
  }
 ],
 "metadata": {
  "kernelspec": {
   "display_name": "Python 3 (ipykernel)",
   "language": "python",
   "name": "python3"
  },
  "language_info": {
   "codemirror_mode": {
    "name": "ipython",
    "version": 3
   },
   "file_extension": ".py",
   "mimetype": "text/x-python",
   "name": "python",
   "nbconvert_exporter": "python",
   "pygments_lexer": "ipython3",
   "version": "3.12.3"
  }
 },
 "nbformat": 4,
 "nbformat_minor": 5
}
